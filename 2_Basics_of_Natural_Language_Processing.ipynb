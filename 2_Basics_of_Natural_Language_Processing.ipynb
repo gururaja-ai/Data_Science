{
  "nbformat": 4,
  "nbformat_minor": 0,
  "metadata": {
    "colab": {
      "provenance": [],
      "collapsed_sections": [
        "BgOaizmzOQSH",
        "W-Uec0zoO0en",
        "IlKYv0Nt_Qj_",
        "UY-fEL1Td74Q",
        "asqhB-UzfIOP",
        "CScWuGkKgCf-",
        "vBaeSbVAlwWX",
        "TWkiD7IYoBrM",
        "QDNbve1EpBN0"
      ],
      "authorship_tag": "ABX9TyOE6FbFRTSnVkBZfW7x703f",
      "include_colab_link": true
    },
    "kernelspec": {
      "name": "python3",
      "display_name": "Python 3"
    },
    "language_info": {
      "name": "python"
    }
  },
  "cells": [
    {
      "cell_type": "markdown",
      "metadata": {
        "id": "view-in-github",
        "colab_type": "text"
      },
      "source": [
        "<a href=\"https://colab.research.google.com/github/gururaja-ai/Data_Science/blob/Natural_Language_Processing/2_Basics_of_Natural_Language_Processing.ipynb\" target=\"_parent\"><img src=\"https://colab.research.google.com/assets/colab-badge.svg\" alt=\"Open In Colab\"/></a>"
      ]
    },
    {
      "cell_type": "markdown",
      "source": [
        "# spaCy Basics\n",
        "\n",
        "**spaCy** (https://spacy.io/) is an open-source Python library that parses and \"understands\" large volumes of text. Separate models are available that cater to specific languages (English, French, German, etc.).\n",
        "\n",
        "In this section we'll install and setup spaCy to work with Python, and then introduce some concepts related to Natural Language Processing."
      ],
      "metadata": {
        "id": "98J1MTnzOAoK"
      }
    },
    {
      "cell_type": "markdown",
      "source": [
        "# Installation and Setup\n",
        "\n",
        "Installation is a two-step process. First, install spaCy using either conda or pip. Next, download the specific model you want, based on language.<br> For more info visit https://spacy.io/usage/\n",
        "\n",
        "### 1. From the command line or terminal:\n",
        "> `conda install -c conda-forge spacy`\n",
        "> <br>*or*<br>\n",
        "> `pip install -U spacy`\n",
        "\n",
        "> ### Alternatively you can create a virtual environment:\n",
        "> `conda create -n spacyenv python=3 spacy=2`\n",
        "\n",
        "### 2. Next, also from the command line (you must run this as admin or use sudo):\n",
        "\n",
        "> `python -m spacy download en`\n",
        "\n",
        "> ### If successful, you should see a message like:\n",
        "\n",
        "> **`Linking successful`**<br>\n",
        "> `    C:\\Anaconda3\\envs\\spacyenv\\lib\\site-packages\\en_core_web_sm -->`<br>\n",
        "> `    C:\\Anaconda3\\envs\\spacyenv\\lib\\site-packages\\spacy\\data\\en`<br>\n",
        "> ` `<br>\n",
        "> `    You can now load the model via spacy.load('en')`\n"
      ],
      "metadata": {
        "id": "79ezCZnfOHfe"
      }
    },
    {
      "cell_type": "markdown",
      "source": [
        "resources="
      ],
      "metadata": {
        "id": "PpYuV9BKLHOJ"
      }
    },
    {
      "cell_type": "markdown",
      "source": [
        "# Working with spaCy in Python\n",
        "\n",
        "This is a typical set of instructions for importing and working with spaCy. Don't be surprised if this takes awhile - spaCy has a fairly large library to load:"
      ],
      "metadata": {
        "id": "BgOaizmzOQSH"
      }
    },
    {
      "cell_type": "code",
      "execution_count": 1,
      "metadata": {
        "id": "tyyAQS0x5BQ3"
      },
      "outputs": [],
      "source": [
        "# Import spaCy and load the language library\n",
        "import spacy\n",
        "nlp = spacy.load('en_core_web_sm')"
      ]
    },
    {
      "cell_type": "code",
      "source": [
        "# Create a Doc object\n",
        "doc = nlp(u'Tesla is looking at buying U.S. startup for $6 million')"
      ],
      "metadata": {
        "id": "WcpoL2gcOUjY"
      },
      "execution_count": 2,
      "outputs": []
    },
    {
      "cell_type": "code",
      "source": [
        "# Print each token separately\n",
        "for token in doc:\n",
        "    print(token.text, token.pos_, token.dep_)"
      ],
      "metadata": {
        "colab": {
          "base_uri": "https://localhost:8080/"
        },
        "id": "8ZZIFPolOW5x",
        "outputId": "bd688324-d267-4c54-9ce7-fc8ad6d9d78b"
      },
      "execution_count": 3,
      "outputs": [
        {
          "output_type": "stream",
          "name": "stdout",
          "text": [
            "Tesla PROPN nsubj\n",
            "is AUX aux\n",
            "looking VERB ROOT\n",
            "at ADP prep\n",
            "buying VERB pcomp\n",
            "U.S. PROPN compound\n",
            "startup NOUN dobj\n",
            "for ADP prep\n",
            "$ SYM quantmod\n",
            "6 NUM compound\n",
            "million NUM pobj\n"
          ]
        }
      ]
    },
    {
      "cell_type": "markdown",
      "source": [
        "This doesn't look very user-friendly, but right away we see some interesting things happen:\n",
        "1. Tesla is recognized to be a Proper Noun, not just a word at the start of a sentence\n",
        "2. U.S. is kept together as one entity (we call this a 'token')\n",
        "\n",
        "As we dive deeper into spaCy we'll see what each of these abbreviations mean and how they're derived. We'll also see how spaCy can interpret the last three tokens combined `$6 million` as referring to ***money***."
      ],
      "metadata": {
        "id": "v-fyMRdSOh3d"
      }
    },
    {
      "cell_type": "markdown",
      "source": [
        "___\n",
        "# spaCy Objects\n",
        "\n",
        "After importing the spacy module in the cell above we loaded a **model** and named it `nlp`.<br>Next we created a **Doc** object by applying the model to our text, and named it `doc`.<br>spaCy also builds a companion **Vocab** object that we'll cover in later sections.<br>The **Doc** object that holds the processed text is our focus here."
      ],
      "metadata": {
        "id": "hUkt1R9oOnDE"
      }
    },
    {
      "cell_type": "markdown",
      "source": [
        "___\n",
        "# Pipeline\n",
        "When we run `nlp`, our text enters a *processing pipeline* that first breaks down the text and then performs a series of operations to tag, parse and describe the data.   Image source: https://spacy.io/usage/spacy-101#pipelines"
      ],
      "metadata": {
        "id": "W-Uec0zoO0en"
      }
    },
    {
      "cell_type": "markdown",
      "source": [
        "![image.png](data:image/png;base64,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)"
      ],
      "metadata": {
        "id": "gWOtHutEO7so"
      }
    },
    {
      "cell_type": "markdown",
      "source": [
        "We can check to see what components currently live in the pipeline. In later sections we'll learn how to disable components and add new ones as needed."
      ],
      "metadata": {
        "id": "iMdtdgMyPDtX"
      }
    },
    {
      "cell_type": "code",
      "source": [
        "nlp.pipeline"
      ],
      "metadata": {
        "colab": {
          "base_uri": "https://localhost:8080/"
        },
        "id": "BOFYKU8lO4jZ",
        "outputId": "e7425f79-4924-4bb2-aba2-9c91aa87b59c"
      },
      "execution_count": 4,
      "outputs": [
        {
          "output_type": "execute_result",
          "data": {
            "text/plain": [
              "[('tok2vec', <spacy.pipeline.tok2vec.Tok2Vec at 0x7cc3bba4fe80>),\n",
              " ('tagger', <spacy.pipeline.tagger.Tagger at 0x7cc3bba4ffa0>),\n",
              " ('parser', <spacy.pipeline.dep_parser.DependencyParser at 0x7cc3bbb43df0>),\n",
              " ('attribute_ruler',\n",
              "  <spacy.pipeline.attributeruler.AttributeRuler at 0x7cc3bbcdd880>),\n",
              " ('lemmatizer',\n",
              "  <spacy.lang.en.lemmatizer.EnglishLemmatizer at 0x7cc3bbaa82c0>),\n",
              " ('ner', <spacy.pipeline.ner.EntityRecognizer at 0x7cc3bb9b42e0>)]"
            ]
          },
          "metadata": {},
          "execution_count": 4
        }
      ]
    },
    {
      "cell_type": "code",
      "source": [
        "nlp.pipe_names"
      ],
      "metadata": {
        "colab": {
          "base_uri": "https://localhost:8080/"
        },
        "id": "7fEDR0UCPGV_",
        "outputId": "ac213851-5789-4b81-ab53-719df0292edf"
      },
      "execution_count": 5,
      "outputs": [
        {
          "output_type": "execute_result",
          "data": {
            "text/plain": [
              "['tok2vec', 'tagger', 'parser', 'attribute_ruler', 'lemmatizer', 'ner']"
            ]
          },
          "metadata": {},
          "execution_count": 5
        }
      ]
    },
    {
      "cell_type": "markdown",
      "source": [
        "___\n",
        "## Tokenization\n",
        "The first step in processing text is to split up all the component parts (words & punctuation) into \"tokens\". These tokens are annotated inside the Doc object to contain descriptive information. We'll go into much more detail on tokenization in an upcoming lecture. For now, let's look at another example:"
      ],
      "metadata": {
        "id": "yYTvRUmLPL9q"
      }
    },
    {
      "cell_type": "code",
      "source": [
        "doc2 = nlp(u\"Tesla isn't looking into startups anymore.\")\n",
        "\n",
        "for token in doc2:\n",
        "    print(token.text, token.pos_, token.dep_)"
      ],
      "metadata": {
        "colab": {
          "base_uri": "https://localhost:8080/"
        },
        "id": "0_ddzvnsPPCU",
        "outputId": "41e742dd-0c26-4fb6-f5bc-8910f657e014"
      },
      "execution_count": 7,
      "outputs": [
        {
          "output_type": "stream",
          "name": "stdout",
          "text": [
            "Tesla PROPN nsubj\n",
            "is AUX aux\n",
            "n't PART neg\n",
            "looking VERB ROOT\n",
            "into ADP prep\n",
            "startups NOUN pobj\n",
            "anymore ADV advmod\n",
            ". PUNCT punct\n"
          ]
        }
      ]
    },
    {
      "cell_type": "markdown",
      "source": [
        "Notice how `isn't` has been split into two tokens. spaCy recognizes both the root verb `is` and the negation attached to it. Notice also that both the extended whitespace and the period at the end of the sentence are assigned their own tokens.\n",
        "\n",
        "It's important to note that even though `doc2` contains processed information about each token, it also retains the original text:"
      ],
      "metadata": {
        "id": "JDb--P5cPVeA"
      }
    },
    {
      "cell_type": "code",
      "source": [
        "doc2"
      ],
      "metadata": {
        "colab": {
          "base_uri": "https://localhost:8080/"
        },
        "id": "tBZ4CZi6PJbk",
        "outputId": "65364fba-1259-4786-d343-63478c7d877e"
      },
      "execution_count": 8,
      "outputs": [
        {
          "output_type": "execute_result",
          "data": {
            "text/plain": [
              "Tesla isn't looking into startups anymore."
            ]
          },
          "metadata": {},
          "execution_count": 8
        }
      ]
    },
    {
      "cell_type": "code",
      "source": [
        "doc[2]"
      ],
      "metadata": {
        "colab": {
          "base_uri": "https://localhost:8080/"
        },
        "id": "1Cozix0MPbNQ",
        "outputId": "06e7c1aa-1995-4085-f030-fa23baea54e7"
      },
      "execution_count": 9,
      "outputs": [
        {
          "output_type": "execute_result",
          "data": {
            "text/plain": [
              "looking"
            ]
          },
          "metadata": {},
          "execution_count": 9
        }
      ]
    },
    {
      "cell_type": "code",
      "source": [
        "type(doc2)"
      ],
      "metadata": {
        "colab": {
          "base_uri": "https://localhost:8080/"
        },
        "id": "mPLo82_nPc8m",
        "outputId": "1675a2c9-77d2-4215-d297-9f9cbdec90e2"
      },
      "execution_count": 10,
      "outputs": [
        {
          "output_type": "execute_result",
          "data": {
            "text/plain": [
              "spacy.tokens.doc.Doc"
            ]
          },
          "metadata": {},
          "execution_count": 10
        }
      ]
    },
    {
      "cell_type": "markdown",
      "source": [
        "___\n",
        "## Part-of-Speech Tagging (POS)\n",
        "The next step after splitting the text up into tokens is to assign parts of speech. In the above example, `Tesla` was recognized to be a ***proper noun***. Here some statistical modeling is required. For example, words that follow \"the\" are typically nouns.\n",
        "\n",
        "For a full list of POS Tags visit https://spacy.io/api/annotation#pos-tagging"
      ],
      "metadata": {
        "id": "F8KJJ8gmPjGf"
      }
    },
    {
      "cell_type": "code",
      "source": [
        "doc2[0].pos_"
      ],
      "metadata": {
        "colab": {
          "base_uri": "https://localhost:8080/",
          "height": 35
        },
        "id": "l7XaXCI4PhGT",
        "outputId": "c576acfc-06c3-4b14-a857-a4ab1d1939d0"
      },
      "execution_count": 11,
      "outputs": [
        {
          "output_type": "execute_result",
          "data": {
            "text/plain": [
              "'PROPN'"
            ],
            "application/vnd.google.colaboratory.intrinsic+json": {
              "type": "string"
            }
          },
          "metadata": {},
          "execution_count": 11
        }
      ]
    },
    {
      "cell_type": "markdown",
      "source": [
        "___\n",
        "## Dependencies\n",
        "We also looked at the syntactic dependencies assigned to each token. `Tesla` is identified as an `nsubj` or the ***nominal subject*** of the sentence.\n",
        "\n",
        "For a full list of Syntactic Dependencies visit https://spacy.io/api/annotation#dependency-parsing\n",
        "<br>A good explanation of typed dependencies can be found [here](https://nlp.stanford.edu/software/dependencies_manual.pdf)"
      ],
      "metadata": {
        "id": "wWm8NEWtPtS2"
      }
    },
    {
      "cell_type": "code",
      "source": [
        "doc[2].dep_"
      ],
      "metadata": {
        "id": "dH0fHGwmPma1",
        "colab": {
          "base_uri": "https://localhost:8080/",
          "height": 35
        },
        "outputId": "baa40617-be08-44f9-83bc-43ae71edde9c"
      },
      "execution_count": 12,
      "outputs": [
        {
          "output_type": "execute_result",
          "data": {
            "text/plain": [
              "'ROOT'"
            ],
            "application/vnd.google.colaboratory.intrinsic+json": {
              "type": "string"
            }
          },
          "metadata": {},
          "execution_count": 12
        }
      ]
    },
    {
      "cell_type": "code",
      "source": [
        "doc[0].dep_"
      ],
      "metadata": {
        "colab": {
          "base_uri": "https://localhost:8080/",
          "height": 35
        },
        "id": "PD0yzaBp7G30",
        "outputId": "a1817756-8f45-4d22-f195-4f208fcd76e7"
      },
      "execution_count": 13,
      "outputs": [
        {
          "output_type": "execute_result",
          "data": {
            "text/plain": [
              "'nsubj'"
            ],
            "application/vnd.google.colaboratory.intrinsic+json": {
              "type": "string"
            }
          },
          "metadata": {},
          "execution_count": 13
        }
      ]
    },
    {
      "cell_type": "code",
      "source": [
        "spacy.explain('PROPN')"
      ],
      "metadata": {
        "colab": {
          "base_uri": "https://localhost:8080/",
          "height": 35
        },
        "id": "2T3LyFaw7KD8",
        "outputId": "af0cc4fe-e7eb-4cc8-e8cf-dca3295a00fc"
      },
      "execution_count": 14,
      "outputs": [
        {
          "output_type": "execute_result",
          "data": {
            "text/plain": [
              "'proper noun'"
            ],
            "application/vnd.google.colaboratory.intrinsic+json": {
              "type": "string"
            }
          },
          "metadata": {},
          "execution_count": 14
        }
      ]
    },
    {
      "cell_type": "code",
      "source": [
        "spacy.explain('nsubj')"
      ],
      "metadata": {
        "colab": {
          "base_uri": "https://localhost:8080/",
          "height": 35
        },
        "id": "kCzHH0N-7YB0",
        "outputId": "57ad7b00-33a2-4fa0-bd63-9ab1ba103a87"
      },
      "execution_count": 15,
      "outputs": [
        {
          "output_type": "execute_result",
          "data": {
            "text/plain": [
              "'nominal subject'"
            ],
            "application/vnd.google.colaboratory.intrinsic+json": {
              "type": "string"
            }
          },
          "metadata": {},
          "execution_count": 15
        }
      ]
    },
    {
      "cell_type": "markdown",
      "source": [
        "___\n",
        "## Additional Token Attributes\n",
        "We'll see these again in upcoming lectures. For now we just want to illustrate some of the other information that spaCy assigns to tokens:"
      ],
      "metadata": {
        "id": "9xO62kLX7fSX"
      }
    },
    {
      "cell_type": "markdown",
      "source": [
        "|Tag|Description|doc2[0].tag|\n",
        "|:------|:------:|:------|\n",
        "|`.text`|The original word text<!-- .element: style=\"text-align:left;\" -->|`Tesla`|\n",
        "|`.lemma_`|The base form of the word|`tesla`|\n",
        "|`.pos_`|The simple part-of-speech tag|`PROPN`/`proper noun`|\n",
        "|`.tag_`|The detailed part-of-speech tag|`NNP`/`noun, proper singular`|\n",
        "|`.shape_`|The word shape – capitalization, punctuation, digits|`Xxxxx`|\n",
        "|`.is_alpha`|Is the token an alpha character?|`True`|\n",
        "|`.is_stop`|Is the token part of a stop list, i.e. the most common words of the language?|`False`|"
      ],
      "metadata": {
        "id": "dAk3b9Dp7hH4"
      }
    },
    {
      "cell_type": "code",
      "source": [
        "print(doc2[2].pos_)"
      ],
      "metadata": {
        "colab": {
          "base_uri": "https://localhost:8080/"
        },
        "id": "Hly-Oe9Y7crM",
        "outputId": "69fe1b5e-4582-4ecf-dde5-20a2598c0086"
      },
      "execution_count": 16,
      "outputs": [
        {
          "output_type": "stream",
          "name": "stdout",
          "text": [
            "PART\n"
          ]
        }
      ]
    },
    {
      "cell_type": "code",
      "source": [
        "print(spacy.explain('PART'))"
      ],
      "metadata": {
        "colab": {
          "base_uri": "https://localhost:8080/"
        },
        "id": "z1FHLZST7y2b",
        "outputId": "9ee73416-7497-443d-e49e-dd0e98c245c8"
      },
      "execution_count": 19,
      "outputs": [
        {
          "output_type": "stream",
          "name": "stdout",
          "text": [
            "particle\n"
          ]
        }
      ]
    },
    {
      "cell_type": "code",
      "source": [
        "print(doc2[2].tag_)"
      ],
      "metadata": {
        "colab": {
          "base_uri": "https://localhost:8080/"
        },
        "id": "AjzH_u5y76Ez",
        "outputId": "0050c6e2-63ff-40af-ae8d-217c4543ba99"
      },
      "execution_count": 21,
      "outputs": [
        {
          "output_type": "stream",
          "name": "stdout",
          "text": [
            "RB\n"
          ]
        }
      ]
    },
    {
      "cell_type": "code",
      "source": [
        "print(spacy.explain('RB'))"
      ],
      "metadata": {
        "colab": {
          "base_uri": "https://localhost:8080/"
        },
        "id": "HcJbYf-y8kj6",
        "outputId": "3b1a3964-1c40-4bad-8c5e-5f514946bab4"
      },
      "execution_count": 22,
      "outputs": [
        {
          "output_type": "stream",
          "name": "stdout",
          "text": [
            "adverb\n"
          ]
        }
      ]
    },
    {
      "cell_type": "code",
      "source": [
        "print(doc2[4].tag_ + '/' + spacy.explain (doc2[4].tag_))"
      ],
      "metadata": {
        "colab": {
          "base_uri": "https://localhost:8080/"
        },
        "id": "0_jPQp948r6p",
        "outputId": "0f0141dd-3198-4b50-8077-c212a4a47535"
      },
      "execution_count": 23,
      "outputs": [
        {
          "output_type": "stream",
          "name": "stdout",
          "text": [
            "IN/conjunction, subordinating or preposition\n"
          ]
        }
      ]
    },
    {
      "cell_type": "code",
      "source": [
        "print(doc2[0].text + ':' + doc2[0].shape_)"
      ],
      "metadata": {
        "colab": {
          "base_uri": "https://localhost:8080/"
        },
        "id": "-GKsBNQL9bL0",
        "outputId": "a6834acd-7405-403f-b4c7-7da27973dd75"
      },
      "execution_count": 28,
      "outputs": [
        {
          "output_type": "stream",
          "name": "stdout",
          "text": [
            "Tesla:Xxxxx\n"
          ]
        }
      ]
    },
    {
      "cell_type": "code",
      "source": [
        "print(doc2[5].text + ':' + doc2[5].shape_)"
      ],
      "metadata": {
        "colab": {
          "base_uri": "https://localhost:8080/"
        },
        "id": "A9iHf_jZ9sGP",
        "outputId": "bf42b9f3-524e-498c-f440-ac7d89f8cceb"
      },
      "execution_count": 29,
      "outputs": [
        {
          "output_type": "stream",
          "name": "stdout",
          "text": [
            "startups:xxxx\n"
          ]
        }
      ]
    },
    {
      "cell_type": "markdown",
      "source": [],
      "metadata": {
        "id": "tC4iRMQc9r04"
      }
    },
    {
      "cell_type": "code",
      "source": [
        "#word shapes"
      ],
      "metadata": {
        "id": "QXwY3h5h86nq"
      },
      "execution_count": 24,
      "outputs": []
    },
    {
      "cell_type": "code",
      "source": [
        "print(doc2[0].is_alpha)"
      ],
      "metadata": {
        "colab": {
          "base_uri": "https://localhost:8080/"
        },
        "id": "eBkYGFp69LjC",
        "outputId": "51f92640-3823-4a8a-a7dc-1a2bb0899259"
      },
      "execution_count": 26,
      "outputs": [
        {
          "output_type": "stream",
          "name": "stdout",
          "text": [
            "True\n"
          ]
        }
      ]
    },
    {
      "cell_type": "markdown",
      "source": [
        "___\n",
        "## Spans\n",
        "Large Doc objects can be hard to work with at times. A **span** is a slice of Doc object in the form `Doc[start:stop]`."
      ],
      "metadata": {
        "id": "yLMU-QBU9z4o"
      }
    },
    {
      "cell_type": "code",
      "source": [
        "doc3 = nlp(u'Although commmonly attributed to John Lennon from his song \"Beautiful Boy\", \\\n",
        "the phrase \"Life is what happens to us while we are making other plans\" was written by \\\n",
        "cartoonist Allen Saunders and published in Reader\\'s Digest in 1957, when Lennon was 17.')"
      ],
      "metadata": {
        "id": "X9umTvbf9PzK"
      },
      "execution_count": 30,
      "outputs": []
    },
    {
      "cell_type": "code",
      "source": [
        "life_quote=doc3[16:30]"
      ],
      "metadata": {
        "id": "peXuve0e92VQ"
      },
      "execution_count": 31,
      "outputs": []
    },
    {
      "cell_type": "code",
      "source": [
        "type(life_quote)"
      ],
      "metadata": {
        "colab": {
          "base_uri": "https://localhost:8080/"
        },
        "id": "bg9mDBJ297to",
        "outputId": "8281a689-1971-4de4-bd2a-9dc6d136cbfe"
      },
      "execution_count": 32,
      "outputs": [
        {
          "output_type": "execute_result",
          "data": {
            "text/plain": [
              "spacy.tokens.span.Span"
            ]
          },
          "metadata": {},
          "execution_count": 32
        }
      ]
    },
    {
      "cell_type": "code",
      "source": [
        "life_quote"
      ],
      "metadata": {
        "colab": {
          "base_uri": "https://localhost:8080/"
        },
        "id": "g2ZJaZpf9-G4",
        "outputId": "4846f540-4681-4ff8-ac34-64c1f9d1287f"
      },
      "execution_count": 33,
      "outputs": [
        {
          "output_type": "execute_result",
          "data": {
            "text/plain": [
              "\"Life is what happens to us while we are making other plans\""
            ]
          },
          "metadata": {},
          "execution_count": 33
        }
      ]
    },
    {
      "cell_type": "markdown",
      "source": [
        "In upcoming chapters we'll see how to create Span objects using `Span()`. This will allow us to assign additional information to the Span."
      ],
      "metadata": {
        "id": "XpWrdLmk-FEI"
      }
    },
    {
      "cell_type": "markdown",
      "source": [
        "___\n",
        "## Sentences\n",
        "Certain tokens inside a Doc object may also receive a \"start of sentence\" tag. While this doesn't immediately build a list of sentences, these tags enable the generation of sentence segments through `Doc.sents`. Later we'll write our own segmentation rules."
      ],
      "metadata": {
        "id": "zEyxiXS6-Lox"
      }
    },
    {
      "cell_type": "code",
      "source": [
        "doc4 = nlp(u'This is the first sentence. This is another sentence. This is the last sentence.')"
      ],
      "metadata": {
        "id": "n6lIPKlo-Ahp"
      },
      "execution_count": 34,
      "outputs": []
    },
    {
      "cell_type": "code",
      "source": [
        "for sentence in doc4.sents:\n",
        "  print(sentence)"
      ],
      "metadata": {
        "colab": {
          "base_uri": "https://localhost:8080/"
        },
        "id": "gftCBjiI-OA4",
        "outputId": "5164eec5-876e-4bdf-a7e0-911590bd232f"
      },
      "execution_count": 35,
      "outputs": [
        {
          "output_type": "stream",
          "name": "stdout",
          "text": [
            "This is the first sentence.\n",
            "This is another sentence.\n",
            "This is the last sentence.\n"
          ]
        }
      ]
    },
    {
      "cell_type": "code",
      "source": [
        "for text in doc4:\n",
        "  print(text)"
      ],
      "metadata": {
        "colab": {
          "base_uri": "https://localhost:8080/"
        },
        "id": "xLU1_8he-hew",
        "outputId": "ef34572f-c803-40f0-8f78-0d4e63a49185"
      },
      "execution_count": 40,
      "outputs": [
        {
          "output_type": "stream",
          "name": "stdout",
          "text": [
            "This\n",
            "is\n",
            "the\n",
            "first\n",
            "sentence\n",
            ".\n",
            "This\n",
            "is\n",
            "another\n",
            "sentence\n",
            ".\n",
            "This\n",
            "is\n",
            "the\n",
            "last\n",
            "sentence\n",
            ".\n"
          ]
        }
      ]
    },
    {
      "cell_type": "code",
      "source": [
        "for token in doc4:\n",
        "  print(token.text)"
      ],
      "metadata": {
        "colab": {
          "base_uri": "https://localhost:8080/"
        },
        "id": "ttBpQWp7-XPg",
        "outputId": "c13f8b0e-51ba-47dc-9ae2-297bdc555716"
      },
      "execution_count": 39,
      "outputs": [
        {
          "output_type": "stream",
          "name": "stdout",
          "text": [
            "This\n",
            "is\n",
            "the\n",
            "first\n",
            "sentence\n",
            ".\n",
            "This\n",
            "is\n",
            "another\n",
            "sentence\n",
            ".\n",
            "This\n",
            "is\n",
            "the\n",
            "last\n",
            "sentence\n",
            ".\n"
          ]
        }
      ]
    },
    {
      "cell_type": "code",
      "source": [
        "doc4[6].is_sent_start"
      ],
      "metadata": {
        "colab": {
          "base_uri": "https://localhost:8080/"
        },
        "id": "dgd4RAS8-tHY",
        "outputId": "4253b21a-f834-438a-9a60-c4081d130c0c"
      },
      "execution_count": 41,
      "outputs": [
        {
          "output_type": "execute_result",
          "data": {
            "text/plain": [
              "True"
            ]
          },
          "metadata": {},
          "execution_count": 41
        }
      ]
    },
    {
      "cell_type": "markdown",
      "source": [
        "# Tokenization\n",
        "The first step in creating a `Doc` object is to break down the incoming text into component pieces or \"tokens\"."
      ],
      "metadata": {
        "id": "IlKYv0Nt_Qj_"
      }
    },
    {
      "cell_type": "code",
      "source": [
        "# Import spaCy and load the language library\n",
        "import spacy\n",
        "nlp = spacy.load('en_core_web_sm')"
      ],
      "metadata": {
        "id": "MgxaL2Hx_IDf"
      },
      "execution_count": 42,
      "outputs": []
    },
    {
      "cell_type": "code",
      "source": [
        "# Create a string that includes opening and closing quotation marks\n",
        "mystring = '\"We\\'re moving to L.A.!\"'\n",
        "print(mystring)"
      ],
      "metadata": {
        "colab": {
          "base_uri": "https://localhost:8080/"
        },
        "id": "OlFxNNJN_Yzv",
        "outputId": "cafdcfaa-8dca-4e99-938b-fdcf95d5a837"
      },
      "execution_count": 43,
      "outputs": [
        {
          "output_type": "stream",
          "name": "stdout",
          "text": [
            "\"We're moving to L.A.!\"\n"
          ]
        }
      ]
    },
    {
      "cell_type": "code",
      "source": [
        "doc=nlp(mystring)"
      ],
      "metadata": {
        "id": "K0uWky-0_bnH"
      },
      "execution_count": 44,
      "outputs": []
    },
    {
      "cell_type": "code",
      "source": [
        "for token in doc:\n",
        "  print(token.text, end='|')"
      ],
      "metadata": {
        "colab": {
          "base_uri": "https://localhost:8080/"
        },
        "id": "gHe2KBMi_fU3",
        "outputId": "6038d42d-34a2-45f0-9103-09231c1d22f1"
      },
      "execution_count": 45,
      "outputs": [
        {
          "output_type": "stream",
          "name": "stdout",
          "text": [
            "\"|We|'re|moving|to|L.A.|!|\"|"
          ]
        }
      ]
    },
    {
      "cell_type": "markdown",
      "source": [
        "![image.png](data:image/png;base64,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)"
      ],
      "metadata": {
        "id": "Y0QGHSN1_wBE"
      }
    },
    {
      "cell_type": "markdown",
      "source": [
        "-  **Prefix**:\tCharacter(s) at the beginning &#9656; `$ ( “ ¿`\n",
        "-  **Suffix**:\tCharacter(s) at the end &#9656; `km ) , . ! ”`\n",
        "-  **Infix**:\tCharacter(s) in between &#9656; `- -- / ...`\n",
        "-  **Exception**: Special-case rule to split a string into several tokens or prevent a token from being split when punctuation rules are applied &#9656; `St. U.S.`"
      ],
      "metadata": {
        "id": "p3BxWTkmCobg"
      }
    },
    {
      "cell_type": "markdown",
      "source": [
        "Notice that tokens are pieces of the original text. That is, we don't see any conversion to word stems or lemmas (base forms of words) and we haven't seen anything about organizations/places/money etc. Tokens are the basic building blocks of a Doc object - everything that helps us understand the meaning of the text is derived from tokens and their relationship to one another."
      ],
      "metadata": {
        "id": "US0LTaKrCubO"
      }
    },
    {
      "cell_type": "markdown",
      "source": [
        "## Prefixes, Suffixes and Infixes\n",
        "spaCy will isolate punctuation that does *not* form an integral part of a word. Quotation marks, commas, and punctuation at the end of a sentence will be assigned their own token. However, punctuation that exists as part of an email address, website or numerical value will be kept as part of the token."
      ],
      "metadata": {
        "id": "Xddm-jroCwu9"
      }
    },
    {
      "cell_type": "code",
      "source": [
        "doc2 = nlp(u\"We're here to help! Send snail-mail, email support@oursite.com or visit us at http://www.oursite.com!\")\n",
        "\n",
        "for t in doc2:\n",
        "    print(t)"
      ],
      "metadata": {
        "colab": {
          "base_uri": "https://localhost:8080/"
        },
        "id": "1pQE4-L8_lhP",
        "outputId": "c718b394-b4a7-4f52-885a-c47373cde02e"
      },
      "execution_count": 46,
      "outputs": [
        {
          "output_type": "stream",
          "name": "stdout",
          "text": [
            "We\n",
            "'re\n",
            "here\n",
            "to\n",
            "help\n",
            "!\n",
            "Send\n",
            "snail\n",
            "-\n",
            "mail\n",
            ",\n",
            "email\n",
            "support@oursite.com\n",
            "or\n",
            "visit\n",
            "us\n",
            "at\n",
            "http://www.oursite.com\n",
            "!\n"
          ]
        }
      ]
    },
    {
      "cell_type": "code",
      "source": [
        "doc3 = nlp(u'A 5km NYC cab ride costs $10.30')\n",
        "\n",
        "for t in doc3:\n",
        "    print(t)"
      ],
      "metadata": {
        "colab": {
          "base_uri": "https://localhost:8080/"
        },
        "id": "W29vdNeqCzo4",
        "outputId": "0fcec38e-b7da-4ee2-8afe-d3440d293b8b"
      },
      "execution_count": 47,
      "outputs": [
        {
          "output_type": "stream",
          "name": "stdout",
          "text": [
            "A\n",
            "5\n",
            "km\n",
            "NYC\n",
            "cab\n",
            "ride\n",
            "costs\n",
            "$\n",
            "10.30\n"
          ]
        }
      ]
    },
    {
      "cell_type": "markdown",
      "source": [
        "## Exceptions\n",
        "Punctuation that exists as part of a known abbreviation will be kept as part of the token."
      ],
      "metadata": {
        "id": "wg7td8jBC5xQ"
      }
    },
    {
      "cell_type": "code",
      "source": [
        "doc4 = nlp(u\"Let's visit St. Louis in the U.S. next year.\")\n",
        "\n",
        "for t in doc4:\n",
        "    print(t)"
      ],
      "metadata": {
        "colab": {
          "base_uri": "https://localhost:8080/"
        },
        "id": "b5ZTYJEYC3rZ",
        "outputId": "9bbdb0a8-fa95-4881-b78d-f0501d9bc7d6"
      },
      "execution_count": 48,
      "outputs": [
        {
          "output_type": "stream",
          "name": "stdout",
          "text": [
            "Let\n",
            "'s\n",
            "visit\n",
            "St.\n",
            "Louis\n",
            "in\n",
            "the\n",
            "U.S.\n",
            "next\n",
            "year\n",
            ".\n"
          ]
        }
      ]
    },
    {
      "cell_type": "markdown",
      "source": [
        "## Counting Tokens\n",
        "`Doc` objects have a set number of tokens:"
      ],
      "metadata": {
        "id": "XZp67gxjDA8m"
      }
    },
    {
      "cell_type": "code",
      "source": [
        "doc"
      ],
      "metadata": {
        "colab": {
          "base_uri": "https://localhost:8080/"
        },
        "id": "WgT20b4LC7f5",
        "outputId": "7dc1ce27-d0b5-4036-f7f7-a567692988bc"
      },
      "execution_count": 50,
      "outputs": [
        {
          "output_type": "execute_result",
          "data": {
            "text/plain": [
              "\"We're moving to L.A.!\""
            ]
          },
          "metadata": {},
          "execution_count": 50
        }
      ]
    },
    {
      "cell_type": "code",
      "source": [
        "len(doc)"
      ],
      "metadata": {
        "colab": {
          "base_uri": "https://localhost:8080/"
        },
        "id": "iLuHelLvDDM6",
        "outputId": "fe362e5c-786b-4185-e470-e8070e19af3d"
      },
      "execution_count": 51,
      "outputs": [
        {
          "output_type": "execute_result",
          "data": {
            "text/plain": [
              "8"
            ]
          },
          "metadata": {},
          "execution_count": 51
        }
      ]
    },
    {
      "cell_type": "code",
      "source": [
        "for t in doc:\n",
        "  print(t)"
      ],
      "metadata": {
        "colab": {
          "base_uri": "https://localhost:8080/"
        },
        "id": "hfJC8AHwDEO5",
        "outputId": "4b6343cd-1c30-4443-ef66-f73a368e94d4"
      },
      "execution_count": 52,
      "outputs": [
        {
          "output_type": "stream",
          "name": "stdout",
          "text": [
            "\"\n",
            "We\n",
            "'re\n",
            "moving\n",
            "to\n",
            "L.A.\n",
            "!\n",
            "\"\n"
          ]
        }
      ]
    },
    {
      "cell_type": "markdown",
      "source": [
        "## Counting Vocab Entries\n",
        "`Vocab` objects contain a full library of items!"
      ],
      "metadata": {
        "id": "3gv5XCASDOVX"
      }
    },
    {
      "cell_type": "code",
      "source": [
        "len(doc.vocab)"
      ],
      "metadata": {
        "colab": {
          "base_uri": "https://localhost:8080/"
        },
        "id": "SnMmblJxDJmo",
        "outputId": "d899956f-5773-4db1-817d-02a8d42426d3"
      },
      "execution_count": 53,
      "outputs": [
        {
          "output_type": "execute_result",
          "data": {
            "text/plain": [
              "794"
            ]
          },
          "metadata": {},
          "execution_count": 53
        }
      ]
    },
    {
      "cell_type": "markdown",
      "source": [
        "<font color=green>NOTE: This number changes based on the language library loaded at the start, and any new lexemes introduced to the `vocab` when the `Doc` was created.</font>"
      ],
      "metadata": {
        "id": "pfc06gAxDS0X"
      }
    },
    {
      "cell_type": "markdown",
      "source": [
        "## Tokens can be retrieved by index position and slice\n",
        "`Doc` objects can be thought of as lists of `token` objects. As such, individual tokens can be retrieved by index position, and spans of tokens can be retrieved through slicing:\n"
      ],
      "metadata": {
        "id": "Unc20YXJDUie"
      }
    },
    {
      "cell_type": "code",
      "source": [
        "doc5 = nlp(u'It is better to give than to receive.')\n",
        "\n",
        "# Retrieve the third token:\n",
        "doc5[2]"
      ],
      "metadata": {
        "colab": {
          "base_uri": "https://localhost:8080/"
        },
        "id": "W0lbw0d0DQGZ",
        "outputId": "6dac0e3f-2191-40f1-ca6f-5e21186fc329"
      },
      "execution_count": 54,
      "outputs": [
        {
          "output_type": "execute_result",
          "data": {
            "text/plain": [
              "better"
            ]
          },
          "metadata": {},
          "execution_count": 54
        }
      ]
    },
    {
      "cell_type": "code",
      "source": [
        "# Retrieve three tokens from the middle:\n",
        "doc5[2:5]"
      ],
      "metadata": {
        "colab": {
          "base_uri": "https://localhost:8080/"
        },
        "id": "UGu6SPrsDXQh",
        "outputId": "0f40e111-3142-4db3-aecf-1e8aa272d74e"
      },
      "execution_count": 55,
      "outputs": [
        {
          "output_type": "execute_result",
          "data": {
            "text/plain": [
              "better to give"
            ]
          },
          "metadata": {},
          "execution_count": 55
        }
      ]
    },
    {
      "cell_type": "code",
      "source": [
        "# Retrieve the last four tokens:\n",
        "doc5[-4:]"
      ],
      "metadata": {
        "colab": {
          "base_uri": "https://localhost:8080/"
        },
        "id": "gK86PWZcDbPZ",
        "outputId": "0411b5dc-7a01-4043-96cb-0e88135e0167"
      },
      "execution_count": 56,
      "outputs": [
        {
          "output_type": "execute_result",
          "data": {
            "text/plain": [
              "than to receive."
            ]
          },
          "metadata": {},
          "execution_count": 56
        }
      ]
    },
    {
      "cell_type": "markdown",
      "source": [
        "## Tokens cannot be reassigned\n",
        "Although `Doc` objects can be considered lists of tokens, they do *not* support item reassignment:"
      ],
      "metadata": {
        "id": "-oKhjQAOdv3C"
      }
    },
    {
      "cell_type": "code",
      "source": [
        "doc6 = nlp(u'My dinner was horrible.')\n",
        "doc7 = nlp(u'Your dinner was delicious.')"
      ],
      "metadata": {
        "id": "1yYTuBsiDcuo"
      },
      "execution_count": 57,
      "outputs": []
    },
    {
      "cell_type": "code",
      "source": [
        "# Try to change \"My dinner was horrible\" to \"My dinner was delicious\"\n",
        "doc6[3] = doc7[3]"
      ],
      "metadata": {
        "colab": {
          "base_uri": "https://localhost:8080/",
          "height": 193
        },
        "id": "WXK24bq6d431",
        "outputId": "53692f54-87b3-4d0d-ba0e-7a2a616bd69f"
      },
      "execution_count": 58,
      "outputs": [
        {
          "output_type": "error",
          "ename": "TypeError",
          "evalue": "ignored",
          "traceback": [
            "\u001b[0;31m---------------------------------------------------------------------------\u001b[0m",
            "\u001b[0;31mTypeError\u001b[0m                                 Traceback (most recent call last)",
            "\u001b[0;32m<ipython-input-58-d4fb8c39c40b>\u001b[0m in \u001b[0;36m<cell line: 2>\u001b[0;34m()\u001b[0m\n\u001b[1;32m      1\u001b[0m \u001b[0;31m# Try to change \"My dinner was horrible\" to \"My dinner was delicious\"\u001b[0m\u001b[0;34m\u001b[0m\u001b[0;34m\u001b[0m\u001b[0m\n\u001b[0;32m----> 2\u001b[0;31m \u001b[0mdoc6\u001b[0m\u001b[0;34m[\u001b[0m\u001b[0;36m3\u001b[0m\u001b[0;34m]\u001b[0m \u001b[0;34m=\u001b[0m \u001b[0mdoc7\u001b[0m\u001b[0;34m[\u001b[0m\u001b[0;36m3\u001b[0m\u001b[0;34m]\u001b[0m\u001b[0;34m\u001b[0m\u001b[0;34m\u001b[0m\u001b[0m\n\u001b[0m",
            "\u001b[0;31mTypeError\u001b[0m: 'spacy.tokens.doc.Doc' object does not support item assignment"
          ]
        }
      ]
    },
    {
      "cell_type": "markdown",
      "source": [
        "___\n",
        "# Named Entities\n",
        "Going a step beyond tokens, *named entities* add another layer of context. The language model recognizes that certain words are organizational names while others are locations, and still other combinations relate to money, dates, etc. Named entities are accessible through the `ents` property of a `Doc` object."
      ],
      "metadata": {
        "id": "UY-fEL1Td74Q"
      }
    },
    {
      "cell_type": "code",
      "source": [
        "doc8= nlp(u'Apple to build a Hong Kong factory for $6 million')"
      ],
      "metadata": {
        "id": "9WFLFZ_cd6AR"
      },
      "execution_count": 59,
      "outputs": []
    },
    {
      "cell_type": "code",
      "source": [
        "for token in doc8:\n",
        "  print(token.text, end='|')\n",
        "\n",
        "print('\\n...........')\n",
        "\n",
        "for ent in doc8.ents:\n",
        "  print(ent.text + '-- --' + 'ent.label'+ str(spacy.explain(ent.label_)))"
      ],
      "metadata": {
        "colab": {
          "base_uri": "https://localhost:8080/"
        },
        "id": "vxr93yhNeGMx",
        "outputId": "89b1f7df-d9de-4dba-b1c7-d31f8f94aad3"
      },
      "execution_count": 66,
      "outputs": [
        {
          "output_type": "stream",
          "name": "stdout",
          "text": [
            "Apple|to|build|a|Hong|Kong|factory|for|$|6|million|\n",
            "...........\n",
            "Apple-- --ent.labelCompanies, agencies, institutions, etc.\n",
            "Hong Kong-- --ent.labelCountries, cities, states\n",
            "$6 million-- --ent.labelMonetary values, including unit\n"
          ]
        }
      ]
    },
    {
      "cell_type": "code",
      "source": [
        "len(doc8.ents)"
      ],
      "metadata": {
        "colab": {
          "base_uri": "https://localhost:8080/"
        },
        "id": "aivhcqpDeQGx",
        "outputId": "9f705395-a148-4ac9-b993-dc82bb948ae1"
      },
      "execution_count": 67,
      "outputs": [
        {
          "output_type": "execute_result",
          "data": {
            "text/plain": [
              "3"
            ]
          },
          "metadata": {},
          "execution_count": 67
        }
      ]
    },
    {
      "cell_type": "markdown",
      "source": [
        "Named Entity Recognition (NER) is an important machine learning tool applied to Natural Language Processing.<br>We'll do a lot more with it in an upcoming section. For more info on **named entities** visit https://spacy.io/usage/linguistic-features#named-entities"
      ],
      "metadata": {
        "id": "86ErEhDxfDf-"
      }
    },
    {
      "cell_type": "markdown",
      "source": [
        "---\n",
        "# Noun Chunks\n",
        "Similar to `Doc.ents`, `Doc.noun_chunks` are another object property. *Noun chunks* are \"base noun phrases\" – flat phrases that have a noun as their head. You can think of noun chunks as a noun plus the words describing the noun – for example, in [Sheb Wooley's 1958 song](https://en.wikipedia.org/wiki/The_Purple_People_Eater), a *\"one-eyed, one-horned, flying, purple people-eater\"* would be one long noun chunk."
      ],
      "metadata": {
        "id": "asqhB-UzfIOP"
      }
    },
    {
      "cell_type": "code",
      "source": [
        "doc9 = nlp(u\"Autonomous cars shift insurance liability toward manufacturers.\")"
      ],
      "metadata": {
        "id": "2HZ3x5-1edFA"
      },
      "execution_count": 68,
      "outputs": []
    },
    {
      "cell_type": "code",
      "source": [
        "for chunk in doc9.noun_chunks:\n",
        "  print(chunk.text)"
      ],
      "metadata": {
        "colab": {
          "base_uri": "https://localhost:8080/"
        },
        "id": "JGAFq__0fXr-",
        "outputId": "b38746f4-e494-49c7-cf5a-562f4fc75d3b"
      },
      "execution_count": 69,
      "outputs": [
        {
          "output_type": "stream",
          "name": "stdout",
          "text": [
            "Autonomous cars\n",
            "insurance liability\n",
            "manufacturers\n"
          ]
        }
      ]
    },
    {
      "cell_type": "code",
      "source": [
        "doc10 = nlp(u\" Red cars do not carry higher insurance rates\")"
      ],
      "metadata": {
        "id": "QaRkhEdEfi5O"
      },
      "execution_count": 70,
      "outputs": []
    },
    {
      "cell_type": "code",
      "source": [
        "for chunk in doc10.noun_chunks:\n",
        "  print(chunk.text)"
      ],
      "metadata": {
        "colab": {
          "base_uri": "https://localhost:8080/"
        },
        "id": "kXeoS2JNfscP",
        "outputId": "49a2c4f3-94de-4bab-87bb-036fe0248f7d"
      },
      "execution_count": 73,
      "outputs": [
        {
          "output_type": "stream",
          "name": "stdout",
          "text": [
            " Red cars\n",
            "higher insurance rates\n"
          ]
        }
      ]
    },
    {
      "cell_type": "code",
      "source": [
        "doc11 = nlp(u\"He was a one-eyed, one-horned, flying, purple people-eater.\")\n",
        "\n",
        "for chunk in doc11.noun_chunks:\n",
        "    print(chunk.text)"
      ],
      "metadata": {
        "colab": {
          "base_uri": "https://localhost:8080/"
        },
        "id": "U9yyGS_XfySu",
        "outputId": "9f09af76-cbd1-4d89-ea31-caa415b5bd15"
      },
      "execution_count": 74,
      "outputs": [
        {
          "output_type": "stream",
          "name": "stdout",
          "text": [
            "He\n",
            "a one-eyed, one-horned, flying, purple people-eater\n"
          ]
        }
      ]
    },
    {
      "cell_type": "markdown",
      "source": [
        "We'll look at additional noun_chunks components besides `.text` in an upcoming section.<br>For more info on **noun_chunks** visit https://spacy.io/usage/linguistic-features#noun-chunks"
      ],
      "metadata": {
        "id": "iM6B9ZR3f--f"
      }
    },
    {
      "cell_type": "markdown",
      "source": [
        "___\n",
        "# Built-in Visualizers\n",
        "\n",
        "spaCy includes a built-in visualization tool called **displaCy**. displaCy is able to detect whether you're working in a Jupyter notebook, and will return markup that can be rendered in a cell right away. When you export your notebook, the visualizations will be included as HTML.\n",
        "\n",
        "For more info visit https://spacy.io/usage/visualizers"
      ],
      "metadata": {
        "id": "CScWuGkKgCf-"
      }
    },
    {
      "cell_type": "markdown",
      "source": [
        "## Visualizing the dependency parse\n",
        "Run the cell below to import displacy and display the dependency graphic"
      ],
      "metadata": {
        "id": "5PqRG75xgEi4"
      }
    },
    {
      "cell_type": "code",
      "source": [
        "from spacy import displacy\n",
        "\n",
        "doc = nlp(u'Apple is going to build a U.K. factory for $6 million.')\n",
        "\n",
        "\n",
        "displacy.render(doc, style='dep', jupyter=True, options={'distance': 110})"
      ],
      "metadata": {
        "colab": {
          "base_uri": "https://localhost:8080/",
          "height": 398
        },
        "id": "5dbGP7UVf6gt",
        "outputId": "b3295d10-234b-4a64-e50b-f2f71a970ec1"
      },
      "execution_count": 76,
      "outputs": [
        {
          "output_type": "display_data",
          "data": {
            "text/plain": [
              "<IPython.core.display.HTML object>"
            ],
            "text/html": [
              "<span class=\"tex2jax_ignore\"><svg xmlns=\"http://www.w3.org/2000/svg\" xmlns:xlink=\"http://www.w3.org/1999/xlink\" xml:lang=\"en\" id=\"dd88e7caa66e4b12bb160a4414bfd08e-0\" class=\"displacy\" width=\"1370\" height=\"357.0\" direction=\"ltr\" style=\"max-width: none; height: 357.0px; color: #000000; background: #ffffff; font-family: Arial; direction: ltr\">\n",
              "<text class=\"displacy-token\" fill=\"currentColor\" text-anchor=\"middle\" y=\"267.0\">\n",
              "    <tspan class=\"displacy-word\" fill=\"currentColor\" x=\"50\">Apple</tspan>\n",
              "    <tspan class=\"displacy-tag\" dy=\"2em\" fill=\"currentColor\" x=\"50\">PROPN</tspan>\n",
              "</text>\n",
              "\n",
              "<text class=\"displacy-token\" fill=\"currentColor\" text-anchor=\"middle\" y=\"267.0\">\n",
              "    <tspan class=\"displacy-word\" fill=\"currentColor\" x=\"160\">is</tspan>\n",
              "    <tspan class=\"displacy-tag\" dy=\"2em\" fill=\"currentColor\" x=\"160\">AUX</tspan>\n",
              "</text>\n",
              "\n",
              "<text class=\"displacy-token\" fill=\"currentColor\" text-anchor=\"middle\" y=\"267.0\">\n",
              "    <tspan class=\"displacy-word\" fill=\"currentColor\" x=\"270\">going</tspan>\n",
              "    <tspan class=\"displacy-tag\" dy=\"2em\" fill=\"currentColor\" x=\"270\">VERB</tspan>\n",
              "</text>\n",
              "\n",
              "<text class=\"displacy-token\" fill=\"currentColor\" text-anchor=\"middle\" y=\"267.0\">\n",
              "    <tspan class=\"displacy-word\" fill=\"currentColor\" x=\"380\">to</tspan>\n",
              "    <tspan class=\"displacy-tag\" dy=\"2em\" fill=\"currentColor\" x=\"380\">PART</tspan>\n",
              "</text>\n",
              "\n",
              "<text class=\"displacy-token\" fill=\"currentColor\" text-anchor=\"middle\" y=\"267.0\">\n",
              "    <tspan class=\"displacy-word\" fill=\"currentColor\" x=\"490\">build</tspan>\n",
              "    <tspan class=\"displacy-tag\" dy=\"2em\" fill=\"currentColor\" x=\"490\">VERB</tspan>\n",
              "</text>\n",
              "\n",
              "<text class=\"displacy-token\" fill=\"currentColor\" text-anchor=\"middle\" y=\"267.0\">\n",
              "    <tspan class=\"displacy-word\" fill=\"currentColor\" x=\"600\">a</tspan>\n",
              "    <tspan class=\"displacy-tag\" dy=\"2em\" fill=\"currentColor\" x=\"600\">DET</tspan>\n",
              "</text>\n",
              "\n",
              "<text class=\"displacy-token\" fill=\"currentColor\" text-anchor=\"middle\" y=\"267.0\">\n",
              "    <tspan class=\"displacy-word\" fill=\"currentColor\" x=\"710\">U.K.</tspan>\n",
              "    <tspan class=\"displacy-tag\" dy=\"2em\" fill=\"currentColor\" x=\"710\">PROPN</tspan>\n",
              "</text>\n",
              "\n",
              "<text class=\"displacy-token\" fill=\"currentColor\" text-anchor=\"middle\" y=\"267.0\">\n",
              "    <tspan class=\"displacy-word\" fill=\"currentColor\" x=\"820\">factory</tspan>\n",
              "    <tspan class=\"displacy-tag\" dy=\"2em\" fill=\"currentColor\" x=\"820\">NOUN</tspan>\n",
              "</text>\n",
              "\n",
              "<text class=\"displacy-token\" fill=\"currentColor\" text-anchor=\"middle\" y=\"267.0\">\n",
              "    <tspan class=\"displacy-word\" fill=\"currentColor\" x=\"930\">for</tspan>\n",
              "    <tspan class=\"displacy-tag\" dy=\"2em\" fill=\"currentColor\" x=\"930\">ADP</tspan>\n",
              "</text>\n",
              "\n",
              "<text class=\"displacy-token\" fill=\"currentColor\" text-anchor=\"middle\" y=\"267.0\">\n",
              "    <tspan class=\"displacy-word\" fill=\"currentColor\" x=\"1040\">$</tspan>\n",
              "    <tspan class=\"displacy-tag\" dy=\"2em\" fill=\"currentColor\" x=\"1040\">SYM</tspan>\n",
              "</text>\n",
              "\n",
              "<text class=\"displacy-token\" fill=\"currentColor\" text-anchor=\"middle\" y=\"267.0\">\n",
              "    <tspan class=\"displacy-word\" fill=\"currentColor\" x=\"1150\">6</tspan>\n",
              "    <tspan class=\"displacy-tag\" dy=\"2em\" fill=\"currentColor\" x=\"1150\">NUM</tspan>\n",
              "</text>\n",
              "\n",
              "<text class=\"displacy-token\" fill=\"currentColor\" text-anchor=\"middle\" y=\"267.0\">\n",
              "    <tspan class=\"displacy-word\" fill=\"currentColor\" x=\"1260\">million.</tspan>\n",
              "    <tspan class=\"displacy-tag\" dy=\"2em\" fill=\"currentColor\" x=\"1260\">NUM</tspan>\n",
              "</text>\n",
              "\n",
              "<g class=\"displacy-arrow\">\n",
              "    <path class=\"displacy-arc\" id=\"arrow-dd88e7caa66e4b12bb160a4414bfd08e-0-0\" stroke-width=\"2px\" d=\"M70,222.0 C70,112.0 260.0,112.0 260.0,222.0\" fill=\"none\" stroke=\"currentColor\"/>\n",
              "    <text dy=\"1.25em\" style=\"font-size: 0.8em; letter-spacing: 1px\">\n",
              "        <textPath xlink:href=\"#arrow-dd88e7caa66e4b12bb160a4414bfd08e-0-0\" class=\"displacy-label\" startOffset=\"50%\" side=\"left\" fill=\"currentColor\" text-anchor=\"middle\">nsubj</textPath>\n",
              "    </text>\n",
              "    <path class=\"displacy-arrowhead\" d=\"M70,224.0 L62,212.0 78,212.0\" fill=\"currentColor\"/>\n",
              "</g>\n",
              "\n",
              "<g class=\"displacy-arrow\">\n",
              "    <path class=\"displacy-arc\" id=\"arrow-dd88e7caa66e4b12bb160a4414bfd08e-0-1\" stroke-width=\"2px\" d=\"M180,222.0 C180,167.0 255.0,167.0 255.0,222.0\" fill=\"none\" stroke=\"currentColor\"/>\n",
              "    <text dy=\"1.25em\" style=\"font-size: 0.8em; letter-spacing: 1px\">\n",
              "        <textPath xlink:href=\"#arrow-dd88e7caa66e4b12bb160a4414bfd08e-0-1\" class=\"displacy-label\" startOffset=\"50%\" side=\"left\" fill=\"currentColor\" text-anchor=\"middle\">aux</textPath>\n",
              "    </text>\n",
              "    <path class=\"displacy-arrowhead\" d=\"M180,224.0 L172,212.0 188,212.0\" fill=\"currentColor\"/>\n",
              "</g>\n",
              "\n",
              "<g class=\"displacy-arrow\">\n",
              "    <path class=\"displacy-arc\" id=\"arrow-dd88e7caa66e4b12bb160a4414bfd08e-0-2\" stroke-width=\"2px\" d=\"M400,222.0 C400,167.0 475.0,167.0 475.0,222.0\" fill=\"none\" stroke=\"currentColor\"/>\n",
              "    <text dy=\"1.25em\" style=\"font-size: 0.8em; letter-spacing: 1px\">\n",
              "        <textPath xlink:href=\"#arrow-dd88e7caa66e4b12bb160a4414bfd08e-0-2\" class=\"displacy-label\" startOffset=\"50%\" side=\"left\" fill=\"currentColor\" text-anchor=\"middle\">aux</textPath>\n",
              "    </text>\n",
              "    <path class=\"displacy-arrowhead\" d=\"M400,224.0 L392,212.0 408,212.0\" fill=\"currentColor\"/>\n",
              "</g>\n",
              "\n",
              "<g class=\"displacy-arrow\">\n",
              "    <path class=\"displacy-arc\" id=\"arrow-dd88e7caa66e4b12bb160a4414bfd08e-0-3\" stroke-width=\"2px\" d=\"M290,222.0 C290,112.0 480.0,112.0 480.0,222.0\" fill=\"none\" stroke=\"currentColor\"/>\n",
              "    <text dy=\"1.25em\" style=\"font-size: 0.8em; letter-spacing: 1px\">\n",
              "        <textPath xlink:href=\"#arrow-dd88e7caa66e4b12bb160a4414bfd08e-0-3\" class=\"displacy-label\" startOffset=\"50%\" side=\"left\" fill=\"currentColor\" text-anchor=\"middle\">xcomp</textPath>\n",
              "    </text>\n",
              "    <path class=\"displacy-arrowhead\" d=\"M480.0,224.0 L488.0,212.0 472.0,212.0\" fill=\"currentColor\"/>\n",
              "</g>\n",
              "\n",
              "<g class=\"displacy-arrow\">\n",
              "    <path class=\"displacy-arc\" id=\"arrow-dd88e7caa66e4b12bb160a4414bfd08e-0-4\" stroke-width=\"2px\" d=\"M620,222.0 C620,112.0 810.0,112.0 810.0,222.0\" fill=\"none\" stroke=\"currentColor\"/>\n",
              "    <text dy=\"1.25em\" style=\"font-size: 0.8em; letter-spacing: 1px\">\n",
              "        <textPath xlink:href=\"#arrow-dd88e7caa66e4b12bb160a4414bfd08e-0-4\" class=\"displacy-label\" startOffset=\"50%\" side=\"left\" fill=\"currentColor\" text-anchor=\"middle\">det</textPath>\n",
              "    </text>\n",
              "    <path class=\"displacy-arrowhead\" d=\"M620,224.0 L612,212.0 628,212.0\" fill=\"currentColor\"/>\n",
              "</g>\n",
              "\n",
              "<g class=\"displacy-arrow\">\n",
              "    <path class=\"displacy-arc\" id=\"arrow-dd88e7caa66e4b12bb160a4414bfd08e-0-5\" stroke-width=\"2px\" d=\"M730,222.0 C730,167.0 805.0,167.0 805.0,222.0\" fill=\"none\" stroke=\"currentColor\"/>\n",
              "    <text dy=\"1.25em\" style=\"font-size: 0.8em; letter-spacing: 1px\">\n",
              "        <textPath xlink:href=\"#arrow-dd88e7caa66e4b12bb160a4414bfd08e-0-5\" class=\"displacy-label\" startOffset=\"50%\" side=\"left\" fill=\"currentColor\" text-anchor=\"middle\">compound</textPath>\n",
              "    </text>\n",
              "    <path class=\"displacy-arrowhead\" d=\"M730,224.0 L722,212.0 738,212.0\" fill=\"currentColor\"/>\n",
              "</g>\n",
              "\n",
              "<g class=\"displacy-arrow\">\n",
              "    <path class=\"displacy-arc\" id=\"arrow-dd88e7caa66e4b12bb160a4414bfd08e-0-6\" stroke-width=\"2px\" d=\"M510,222.0 C510,57.0 815.0,57.0 815.0,222.0\" fill=\"none\" stroke=\"currentColor\"/>\n",
              "    <text dy=\"1.25em\" style=\"font-size: 0.8em; letter-spacing: 1px\">\n",
              "        <textPath xlink:href=\"#arrow-dd88e7caa66e4b12bb160a4414bfd08e-0-6\" class=\"displacy-label\" startOffset=\"50%\" side=\"left\" fill=\"currentColor\" text-anchor=\"middle\">dobj</textPath>\n",
              "    </text>\n",
              "    <path class=\"displacy-arrowhead\" d=\"M815.0,224.0 L823.0,212.0 807.0,212.0\" fill=\"currentColor\"/>\n",
              "</g>\n",
              "\n",
              "<g class=\"displacy-arrow\">\n",
              "    <path class=\"displacy-arc\" id=\"arrow-dd88e7caa66e4b12bb160a4414bfd08e-0-7\" stroke-width=\"2px\" d=\"M510,222.0 C510,2.0 930.0,2.0 930.0,222.0\" fill=\"none\" stroke=\"currentColor\"/>\n",
              "    <text dy=\"1.25em\" style=\"font-size: 0.8em; letter-spacing: 1px\">\n",
              "        <textPath xlink:href=\"#arrow-dd88e7caa66e4b12bb160a4414bfd08e-0-7\" class=\"displacy-label\" startOffset=\"50%\" side=\"left\" fill=\"currentColor\" text-anchor=\"middle\">prep</textPath>\n",
              "    </text>\n",
              "    <path class=\"displacy-arrowhead\" d=\"M930.0,224.0 L938.0,212.0 922.0,212.0\" fill=\"currentColor\"/>\n",
              "</g>\n",
              "\n",
              "<g class=\"displacy-arrow\">\n",
              "    <path class=\"displacy-arc\" id=\"arrow-dd88e7caa66e4b12bb160a4414bfd08e-0-8\" stroke-width=\"2px\" d=\"M1060,222.0 C1060,112.0 1250.0,112.0 1250.0,222.0\" fill=\"none\" stroke=\"currentColor\"/>\n",
              "    <text dy=\"1.25em\" style=\"font-size: 0.8em; letter-spacing: 1px\">\n",
              "        <textPath xlink:href=\"#arrow-dd88e7caa66e4b12bb160a4414bfd08e-0-8\" class=\"displacy-label\" startOffset=\"50%\" side=\"left\" fill=\"currentColor\" text-anchor=\"middle\">quantmod</textPath>\n",
              "    </text>\n",
              "    <path class=\"displacy-arrowhead\" d=\"M1060,224.0 L1052,212.0 1068,212.0\" fill=\"currentColor\"/>\n",
              "</g>\n",
              "\n",
              "<g class=\"displacy-arrow\">\n",
              "    <path class=\"displacy-arc\" id=\"arrow-dd88e7caa66e4b12bb160a4414bfd08e-0-9\" stroke-width=\"2px\" d=\"M1170,222.0 C1170,167.0 1245.0,167.0 1245.0,222.0\" fill=\"none\" stroke=\"currentColor\"/>\n",
              "    <text dy=\"1.25em\" style=\"font-size: 0.8em; letter-spacing: 1px\">\n",
              "        <textPath xlink:href=\"#arrow-dd88e7caa66e4b12bb160a4414bfd08e-0-9\" class=\"displacy-label\" startOffset=\"50%\" side=\"left\" fill=\"currentColor\" text-anchor=\"middle\">compound</textPath>\n",
              "    </text>\n",
              "    <path class=\"displacy-arrowhead\" d=\"M1170,224.0 L1162,212.0 1178,212.0\" fill=\"currentColor\"/>\n",
              "</g>\n",
              "\n",
              "<g class=\"displacy-arrow\">\n",
              "    <path class=\"displacy-arc\" id=\"arrow-dd88e7caa66e4b12bb160a4414bfd08e-0-10\" stroke-width=\"2px\" d=\"M950,222.0 C950,57.0 1255.0,57.0 1255.0,222.0\" fill=\"none\" stroke=\"currentColor\"/>\n",
              "    <text dy=\"1.25em\" style=\"font-size: 0.8em; letter-spacing: 1px\">\n",
              "        <textPath xlink:href=\"#arrow-dd88e7caa66e4b12bb160a4414bfd08e-0-10\" class=\"displacy-label\" startOffset=\"50%\" side=\"left\" fill=\"currentColor\" text-anchor=\"middle\">pobj</textPath>\n",
              "    </text>\n",
              "    <path class=\"displacy-arrowhead\" d=\"M1255.0,224.0 L1263.0,212.0 1247.0,212.0\" fill=\"currentColor\"/>\n",
              "</g>\n",
              "</svg></span>"
            ]
          },
          "metadata": {}
        }
      ]
    },
    {
      "cell_type": "markdown",
      "source": [
        "The optional `'distance'` argument sets the distance between tokens. If the distance is made too small, text that appears beneath short arrows may become too compressed to read."
      ],
      "metadata": {
        "id": "dJTecfcegNNL"
      }
    },
    {
      "cell_type": "markdown",
      "source": [
        "## Visualizing the entity recognizer"
      ],
      "metadata": {
        "id": "UGZOlGUNgPEw"
      }
    },
    {
      "cell_type": "code",
      "source": [
        "doc = nlp(u'Over the last quarter Apple sold nearly 20 thousand iPods for a profit of $6 million.')\n",
        "displacy.render(doc, style='ent', jupyter=True)"
      ],
      "metadata": {
        "colab": {
          "base_uri": "https://localhost:8080/",
          "height": 87
        },
        "id": "9gIocSVkgFzd",
        "outputId": "a76060f6-99d8-47eb-edea-b93cde4f2d96"
      },
      "execution_count": 79,
      "outputs": [
        {
          "output_type": "display_data",
          "data": {
            "text/plain": [
              "<IPython.core.display.HTML object>"
            ],
            "text/html": [
              "<span class=\"tex2jax_ignore\"><div class=\"entities\" style=\"line-height: 2.5; direction: ltr\">Over \n",
              "<mark class=\"entity\" style=\"background: #bfe1d9; padding: 0.45em 0.6em; margin: 0 0.25em; line-height: 1; border-radius: 0.35em;\">\n",
              "    the last quarter\n",
              "    <span style=\"font-size: 0.8em; font-weight: bold; line-height: 1; border-radius: 0.35em; vertical-align: middle; margin-left: 0.5rem\">DATE</span>\n",
              "</mark>\n",
              " \n",
              "<mark class=\"entity\" style=\"background: #7aecec; padding: 0.45em 0.6em; margin: 0 0.25em; line-height: 1; border-radius: 0.35em;\">\n",
              "    Apple\n",
              "    <span style=\"font-size: 0.8em; font-weight: bold; line-height: 1; border-radius: 0.35em; vertical-align: middle; margin-left: 0.5rem\">ORG</span>\n",
              "</mark>\n",
              " sold \n",
              "<mark class=\"entity\" style=\"background: #e4e7d2; padding: 0.45em 0.6em; margin: 0 0.25em; line-height: 1; border-radius: 0.35em;\">\n",
              "    nearly 20 thousand\n",
              "    <span style=\"font-size: 0.8em; font-weight: bold; line-height: 1; border-radius: 0.35em; vertical-align: middle; margin-left: 0.5rem\">CARDINAL</span>\n",
              "</mark>\n",
              " \n",
              "<mark class=\"entity\" style=\"background: #bfeeb7; padding: 0.45em 0.6em; margin: 0 0.25em; line-height: 1; border-radius: 0.35em;\">\n",
              "    iPods\n",
              "    <span style=\"font-size: 0.8em; font-weight: bold; line-height: 1; border-radius: 0.35em; vertical-align: middle; margin-left: 0.5rem\">PRODUCT</span>\n",
              "</mark>\n",
              " for a profit of \n",
              "<mark class=\"entity\" style=\"background: #e4e7d2; padding: 0.45em 0.6em; margin: 0 0.25em; line-height: 1; border-radius: 0.35em;\">\n",
              "    $6 million\n",
              "    <span style=\"font-size: 0.8em; font-weight: bold; line-height: 1; border-radius: 0.35em; vertical-align: middle; margin-left: 0.5rem\">MONEY</span>\n",
              "</mark>\n",
              ".</div></span>"
            ]
          },
          "metadata": {}
        }
      ]
    },
    {
      "cell_type": "markdown",
      "source": [
        "___\n",
        "## Creating Visualizations Outside of Jupyter\n",
        "If you're using another Python IDE or writing a script, you can choose to have spaCy serve up html separately:"
      ],
      "metadata": {
        "id": "0bFEVpWIhQQF"
      }
    },
    {
      "cell_type": "code",
      "source": [
        "doc = nlp(u'This is a sentence.')\n",
        "displacy.serve(doc, style='dep')"
      ],
      "metadata": {
        "colab": {
          "base_uri": "https://localhost:8080/"
        },
        "id": "X5OB63p1gQk2",
        "outputId": "1a5d6db4-b060-47cd-cfb9-9adb86dbe893"
      },
      "execution_count": 80,
      "outputs": [
        {
          "output_type": "stream",
          "name": "stdout",
          "text": [
            "\n",
            "Using the 'dep' visualizer\n",
            "Serving on http://0.0.0.0:5000 ...\n",
            "\n",
            "Shutting down server on port 5000.\n"
          ]
        }
      ]
    },
    {
      "cell_type": "markdown",
      "source": [
        "<font color=blue>**After running the cell above, click the link below to view the dependency parse**:</font>\n",
        "\n",
        "http://127.0.0.1:5000\n",
        "<br><br>\n",
        "<font color=red>**To shut down the server and return to jupyter**, interrupt the kernel either through the **Kernel** menu above, by hitting the black square on the toolbar, or by typing the keyboard shortcut `Esc`, `I`, `I`</font>"
      ],
      "metadata": {
        "id": "Woqr0Ox7hcqg"
      }
    },
    {
      "cell_type": "markdown",
      "source": [
        "Great! Now you should have an understanding of how tokenization divides text up into individual elements, how named entities provide context, and how certain tools help to visualize grammar rules and entity labels.\n",
        "## Next up: Stemming"
      ],
      "metadata": {
        "id": "2uGqZDyxhhWl"
      }
    },
    {
      "cell_type": "markdown",
      "source": [
        "# Stemming\n",
        "Often when searching text for a certain keyword, it helps if the search returns variations of the word. For instance, searching for \"boat\" might also return \"boats\" and \"boating\". Here, \"boat\" would be the **stem** for [boat, boater, boating, boats].\n",
        "\n",
        "Stemming is a somewhat crude method for cataloging related words; it essentially chops off letters from the end until the stem is reached. This works fairly well in most cases, but unfortunately English has many exceptions where a more sophisticated process is required. In fact, spaCy doesn't include a stemmer, opting instead to rely entirely on lemmatization. For those interested, there's some background on this decision [here](https://github.com/explosion/spaCy/issues/327). We discuss the virtues of *lemmatization* in the next section.\n",
        "\n",
        "Instead, we'll use another popular NLP tool called **nltk**, which stands for *Natural Language Toolkit*. For more information on nltk visit https://www.nltk.org/"
      ],
      "metadata": {
        "id": "vBaeSbVAlwWX"
      }
    },
    {
      "cell_type": "markdown",
      "source": [
        "## Porter Stemmer\n",
        "\n",
        "One of the most common - and effective - stemming tools is [*Porter's Algorithm*](https://tartarus.org/martin/PorterStemmer/) developed by Martin Porter in [1980](https://tartarus.org/martin/PorterStemmer/def.txt). The algorithm employs five phases of word reduction, each with its own set of mapping rules. In the first phase, simple suffix mapping rules are defined, such as:"
      ],
      "metadata": {
        "id": "RL_ZvQUclz-8"
      }
    },
    {
      "cell_type": "markdown",
      "source": [
        "From a given set of stemming rules only one rule is applied, based on the longest suffix S1. Thus, `caresses` reduces to `caress` but not `cares`.\n",
        "\n",
        "More sophisticated phases consider the length/complexity of the word before applying a rule. For example:"
      ],
      "metadata": {
        "id": "fEgxvt7yl3Gz"
      }
    },
    {
      "cell_type": "markdown",
      "source": [
        "![image.png](data:image/png;base64,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)"
      ],
      "metadata": {
        "id": "uzJf3SeIl9b7"
      }
    },
    {
      "cell_type": "markdown",
      "source": [
        "Here `m>0` describes the \"measure\" of the stem, such that the rule is applied to all but the most basic stems."
      ],
      "metadata": {
        "id": "xaTnaV8xmCwX"
      }
    },
    {
      "cell_type": "code",
      "source": [
        "# Import the toolkit and the full Porter Stemmer library\n",
        "import nltk\n",
        "\n",
        "from nltk.stem.porter import *"
      ],
      "metadata": {
        "id": "UmQnRzwUhRu9"
      },
      "execution_count": 81,
      "outputs": []
    },
    {
      "cell_type": "code",
      "source": [
        "p_stemmer = PorterStemmer()"
      ],
      "metadata": {
        "id": "6e3l0_6UmKve"
      },
      "execution_count": 82,
      "outputs": []
    },
    {
      "cell_type": "code",
      "source": [
        "words = ['run','runner','running','ran','runs','easily','fairly']"
      ],
      "metadata": {
        "id": "YqsagBFSmN2-"
      },
      "execution_count": 83,
      "outputs": []
    },
    {
      "cell_type": "code",
      "source": [
        "for word in words:\n",
        "  print(word + \" --------------> \" + p_stemmer.stem(word))"
      ],
      "metadata": {
        "colab": {
          "base_uri": "https://localhost:8080/"
        },
        "id": "8dhrwdIrmPGl",
        "outputId": "bf1393a8-4da6-499e-c876-9a7a0aa865e1"
      },
      "execution_count": 85,
      "outputs": [
        {
          "output_type": "stream",
          "name": "stdout",
          "text": [
            "run --------------> run\n",
            "runner --------------> runner\n",
            "running --------------> run\n",
            "ran --------------> ran\n",
            "runs --------------> run\n",
            "easily --------------> easili\n",
            "fairly --------------> fairli\n"
          ]
        }
      ]
    },
    {
      "cell_type": "markdown",
      "source": [
        "<font color=green>Note how the stemmer recognizes \"runner\" as a noun, not a verb form or participle. Also, the adverbs \"easily\" and \"fairly\" are stemmed to the unusual root \"easili\" and \"fairli\"</font>\n",
        "___"
      ],
      "metadata": {
        "id": "jEqeVyWBmb0d"
      }
    },
    {
      "cell_type": "markdown",
      "source": [
        "## Snowball Stemmer\n",
        "This is somewhat of a misnomer, as Snowball is the name of a stemming language developed by Martin Porter. The algorithm used here is more acurately called the \"English Stemmer\" or \"Porter2 Stemmer\". It offers a slight improvement over the original Porter stemmer, both in logic and speed. Since **nltk** uses the name SnowballStemmer, we'll use it here."
      ],
      "metadata": {
        "id": "hVzzUrQnmgQp"
      }
    },
    {
      "cell_type": "code",
      "source": [
        "from nltk.stem.snowball import SnowballStemmer\n",
        "\n",
        "# The Snowball Stemmer requires that you pass a language parameter\n",
        "s_stemmer = SnowballStemmer(language='english')"
      ],
      "metadata": {
        "id": "-yEQw9h8mWm_"
      },
      "execution_count": 86,
      "outputs": []
    },
    {
      "cell_type": "code",
      "source": [
        "words = ['run','runner','running','ran','runs','easily','fairly']\n",
        "# words = ['generous','generation','generously','generate']"
      ],
      "metadata": {
        "id": "N1a3kYazmjBl"
      },
      "execution_count": 87,
      "outputs": []
    },
    {
      "cell_type": "code",
      "source": [
        "for word in words:\n",
        "    print(word+' --> '+s_stemmer.stem(word))"
      ],
      "metadata": {
        "colab": {
          "base_uri": "https://localhost:8080/"
        },
        "id": "mHKtWKZqmnUF",
        "outputId": "5d18312a-be00-4575-eba9-0e8f93cac576"
      },
      "execution_count": 88,
      "outputs": [
        {
          "output_type": "stream",
          "name": "stdout",
          "text": [
            "run --> run\n",
            "runner --> runner\n",
            "running --> run\n",
            "ran --> ran\n",
            "runs --> run\n",
            "easily --> easili\n",
            "fairly --> fair\n"
          ]
        }
      ]
    },
    {
      "cell_type": "markdown",
      "source": [
        "<font color=green>In this case the stemmer performed the same as the Porter Stemmer, with the exception that it handled the stem of \"fairly\" more appropriately with \"fair\"</font>"
      ],
      "metadata": {
        "id": "9gBkpkdxmsoK"
      }
    },
    {
      "cell_type": "markdown",
      "source": [
        "## Try it yourself!\n",
        "#### Pass in some of your own words and test each stemmer on them. Remember to pass them as strings!"
      ],
      "metadata": {
        "id": "mPsJmwCTmumf"
      }
    },
    {
      "cell_type": "code",
      "source": [
        "words = ['consolingly']"
      ],
      "metadata": {
        "id": "UCtR_d5CmpSl"
      },
      "execution_count": 89,
      "outputs": []
    },
    {
      "cell_type": "code",
      "source": [
        "print('PORTER STEMMER:' )\n",
        "for word in words:\n",
        "  print(word + \" ----------> \" + p_stemmer.stem(word))"
      ],
      "metadata": {
        "colab": {
          "base_uri": "https://localhost:8080/"
        },
        "id": "Gg1R3NDGmwDt",
        "outputId": "192bb9d5-b2fe-4235-82cd-9085e60125d7"
      },
      "execution_count": 94,
      "outputs": [
        {
          "output_type": "stream",
          "name": "stdout",
          "text": [
            "PORTER STEMMER:\n",
            "consolingly ----------> consolingli\n"
          ]
        }
      ]
    },
    {
      "cell_type": "code",
      "source": [
        "print('Porter2 Stemmer : ')\n",
        "for word in words:\n",
        "  print(word + \" ----------> \"+ s_stemmer.stem(word))"
      ],
      "metadata": {
        "colab": {
          "base_uri": "https://localhost:8080/"
        },
        "id": "PqIktjPDm22E",
        "outputId": "0e427944-6e6a-4442-bf71-2879a698f3c4"
      },
      "execution_count": 96,
      "outputs": [
        {
          "output_type": "stream",
          "name": "stdout",
          "text": [
            "Porter2 Stemmer : \n",
            "consolingly ----------> consol\n"
          ]
        }
      ]
    },
    {
      "cell_type": "markdown",
      "source": [
        "Stemming has its drawbacks. If given the token `saw`, stemming might always return `saw`, whereas lemmatization would likely return either `see` or `saw` depending on whether the use of the token was as a verb or a noun. As an example, consider the following:"
      ],
      "metadata": {
        "id": "HociCdNenfbk"
      }
    },
    {
      "cell_type": "code",
      "source": [
        "phrase = 'I am meeting him tomorrow at the meeting'\n",
        "\n",
        "for word in phrase.split():\n",
        "    print(word+' --> '+p_stemmer.stem(word))"
      ],
      "metadata": {
        "colab": {
          "base_uri": "https://localhost:8080/"
        },
        "id": "JYdo41iRnZz0",
        "outputId": "a63cc8e5-0904-4227-c36d-e00ec72b8bb3"
      },
      "execution_count": 101,
      "outputs": [
        {
          "output_type": "stream",
          "name": "stdout",
          "text": [
            "I --> i\n",
            "am --> am\n",
            "meeting --> meet\n",
            "him --> him\n",
            "tomorrow --> tomorrow\n",
            "at --> at\n",
            "the --> the\n",
            "meeting --> meet\n"
          ]
        }
      ]
    },
    {
      "cell_type": "markdown",
      "source": [
        "### Next up: Lemmatization"
      ],
      "metadata": {
        "id": "CoFbf6W8n9VF"
      }
    },
    {
      "cell_type": "markdown",
      "source": [
        "# Lemmatization\n",
        "In contrast to stemming, lemmatization looks beyond word reduction, and considers a language's full vocabulary to apply a *morphological analysis* to words. The lemma of 'was' is 'be' and the lemma of 'mice' is 'mouse'. Further, the lemma of 'meeting' might be 'meet' or 'meeting' depending on its use in a sentence."
      ],
      "metadata": {
        "id": "TWkiD7IYoBrM"
      }
    },
    {
      "cell_type": "code",
      "source": [
        "# Perform standard imports:\n",
        "import spacy\n",
        "nlp = spacy.load('en_core_web_sm')"
      ],
      "metadata": {
        "id": "x4ZbsJx-ng9j"
      },
      "execution_count": 102,
      "outputs": []
    },
    {
      "cell_type": "code",
      "source": [
        "doc1 = nlp(u\"I am a runner running in a race because I love to run since I ran today\")\n",
        "\n",
        "for token in doc1:\n",
        "    print(token.text, '\\t', token.pos_, '\\t', token.lemma, '\\t', token.lemma_)"
      ],
      "metadata": {
        "colab": {
          "base_uri": "https://localhost:8080/"
        },
        "id": "i1fM6ISioDjj",
        "outputId": "07aa55d8-1a97-43c1-e087-03378218be39"
      },
      "execution_count": 103,
      "outputs": [
        {
          "output_type": "stream",
          "name": "stdout",
          "text": [
            "I \t PRON \t 4690420944186131903 \t I\n",
            "am \t AUX \t 10382539506755952630 \t be\n",
            "a \t DET \t 11901859001352538922 \t a\n",
            "runner \t NOUN \t 12640964157389618806 \t runner\n",
            "running \t VERB \t 12767647472892411841 \t run\n",
            "in \t ADP \t 3002984154512732771 \t in\n",
            "a \t DET \t 11901859001352538922 \t a\n",
            "race \t NOUN \t 8048469955494714898 \t race\n",
            "because \t SCONJ \t 16950148841647037698 \t because\n",
            "I \t PRON \t 4690420944186131903 \t I\n",
            "love \t VERB \t 3702023516439754181 \t love\n",
            "to \t PART \t 3791531372978436496 \t to\n",
            "run \t VERB \t 12767647472892411841 \t run\n",
            "since \t SCONJ \t 10066841407251338481 \t since\n",
            "I \t PRON \t 4690420944186131903 \t I\n",
            "ran \t VERB \t 12767647472892411841 \t run\n",
            "today \t NOUN \t 11042482332948150395 \t today\n"
          ]
        }
      ]
    },
    {
      "cell_type": "markdown",
      "source": [
        "<font color=green>In the above sentence, `running`, `run` and `ran` all point to the same lemma `run` (...11841) to avoid duplication.</font>"
      ],
      "metadata": {
        "id": "Ssqex_M3oPx0"
      }
    },
    {
      "cell_type": "markdown",
      "source": [
        "### Function to display lemmas\n",
        "Since the display above is staggared and hard to read, let's write a function that displays the information we want more neatly."
      ],
      "metadata": {
        "id": "Qpo92lgXoTuu"
      }
    },
    {
      "cell_type": "code",
      "source": [
        "def show_lemmas(text):\n",
        "  for token in text:\n",
        "    print(f'{token.text:{10}} {token.pos_:{6}} {token.lemma:<{22}} {token.lemma_}')"
      ],
      "metadata": {
        "id": "FUmlf3-uoSLr"
      },
      "execution_count": 105,
      "outputs": []
    },
    {
      "cell_type": "markdown",
      "source": [
        "Here we're using an **f-string** to format the printed text by setting minimum field widths and adding a left-align to the lemma hash value."
      ],
      "metadata": {
        "id": "O8HyG6jSosPd"
      }
    },
    {
      "cell_type": "code",
      "source": [
        "doc2 = nlp(u\"I saw eighteen mice today!\")\n",
        "\n",
        "show_lemmas(doc2)"
      ],
      "metadata": {
        "colab": {
          "base_uri": "https://localhost:8080/"
        },
        "id": "cWxCyw83oqmq",
        "outputId": "4b4143e9-e188-4cff-deb9-bd7b7517351c"
      },
      "execution_count": 106,
      "outputs": [
        {
          "output_type": "stream",
          "name": "stdout",
          "text": [
            "I          PRON   4690420944186131903    I\n",
            "saw        VERB   11925638236994514241   see\n",
            "eighteen   NUM    9609336664675087640    eighteen\n",
            "mice       NOUN   1384165645700560590    mouse\n",
            "today      NOUN   11042482332948150395   today\n",
            "!          PUNCT  17494803046312582752   !\n"
          ]
        }
      ]
    },
    {
      "cell_type": "markdown",
      "source": [
        "<font color=green>Notice that the lemma of `saw` is `see`, `mice` is the plural form of `mouse`, and yet `eighteen` is its own number, *not* an expanded form of `eight`.</font>"
      ],
      "metadata": {
        "id": "m6E4nGFuo2SV"
      }
    },
    {
      "cell_type": "code",
      "source": [
        "doc3 = nlp(u\"I am meeting him tomorrow at the meeting.\")\n",
        "\n",
        "show_lemmas(doc3)"
      ],
      "metadata": {
        "colab": {
          "base_uri": "https://localhost:8080/"
        },
        "id": "2zKY5xpSot9T",
        "outputId": "351990d7-664f-4595-c89f-e009512b6d17"
      },
      "execution_count": 107,
      "outputs": [
        {
          "output_type": "stream",
          "name": "stdout",
          "text": [
            "I          PRON   4690420944186131903    I\n",
            "am         AUX    10382539506755952630   be\n",
            "meeting    VERB   6880656908171229526    meet\n",
            "him        PRON   1655312771067108281    he\n",
            "tomorrow   NOUN   3573583789758258062    tomorrow\n",
            "at         ADP    11667289587015813222   at\n",
            "the        DET    7425985699627899538    the\n",
            "meeting    NOUN   14798207169164081740   meeting\n",
            ".          PUNCT  12646065887601541794   .\n"
          ]
        }
      ]
    },
    {
      "cell_type": "markdown",
      "source": [
        "<font color=green>Here the lemma of `meeting` is determined by its Part of Speech tag.</font>"
      ],
      "metadata": {
        "id": "kaMle8Sao4P1"
      }
    },
    {
      "cell_type": "code",
      "source": [
        "doc4 = nlp(u\"That's an enormous automobile\")\n",
        "\n",
        "show_lemmas(doc4)"
      ],
      "metadata": {
        "colab": {
          "base_uri": "https://localhost:8080/"
        },
        "id": "lGNdVWVDox_T",
        "outputId": "2a4c3df6-52ba-42de-d525-d981b6b1135c"
      },
      "execution_count": 108,
      "outputs": [
        {
          "output_type": "stream",
          "name": "stdout",
          "text": [
            "That       PRON   4380130941430378203    that\n",
            "'s         AUX    10382539506755952630   be\n",
            "an         DET    15099054000809333061   an\n",
            "enormous   ADJ    17917224542039855524   enormous\n",
            "automobile NOUN   7211811266693931283    automobile\n"
          ]
        }
      ]
    },
    {
      "cell_type": "markdown",
      "source": [
        "<font color=green>Note that lemmatization does *not* reduce words to their most basic synonym - that is, `enormous` doesn't become `big` and `automobile` doesn't become `car`.</font>"
      ],
      "metadata": {
        "id": "TfpvtPwzo5_S"
      }
    },
    {
      "cell_type": "markdown",
      "source": [
        "We should point out that although lemmatization looks at surrounding text to determine a given word's part of speech, it does not categorize phrases. In an upcoming lecture we'll investigate *word vectors and similarity*.\n",
        "\n",
        "## Next up: Stop Words"
      ],
      "metadata": {
        "id": "9rLdkvr5o7eR"
      }
    },
    {
      "cell_type": "markdown",
      "source": [
        "# Stop Words\n",
        "Words like \"a\" and \"the\" appear so frequently that they don't require tagging as thoroughly as nouns, verbs and modifiers. We call these *stop words*, and they can be filtered from the text to be processed. spaCy holds a built-in list of some 305 English stop words."
      ],
      "metadata": {
        "id": "QDNbve1EpBN0"
      }
    },
    {
      "cell_type": "code",
      "source": [
        "# Perform standard imports:\n",
        "import spacy\n",
        "nlp = spacy.load('en_core_web_sm')"
      ],
      "metadata": {
        "id": "evb0B30wozgL"
      },
      "execution_count": 109,
      "outputs": []
    },
    {
      "cell_type": "code",
      "source": [
        "# Print the set of spaCy's default stop words (remember that sets are unordered):\n",
        "print(nlp.Defaults.stop_words)"
      ],
      "metadata": {
        "colab": {
          "base_uri": "https://localhost:8080/"
        },
        "id": "C18RaHnhpCzV",
        "outputId": "372f5e89-c479-4587-83bf-e74f8317d2ad"
      },
      "execution_count": 110,
      "outputs": [
        {
          "output_type": "stream",
          "name": "stdout",
          "text": [
            "{'below', 'have', 'herein', 'after', 'enough', 'own', 'only', 'in', 'less', 'we', 'under', 'whence', 'nine', 'once', 'those', 'one', 'both', 'when', 'using', 'behind', 'but', 'being', 'afterwards', 'seemed', 'so', 'did', 'please', 'six', 'otherwise', 'no', 'which', 'become', 'since', 'down', 'yourself', 'whom', 'am', 'an', 'perhaps', 'full', 'beyond', 'my', \"'ve\", 'some', 'has', 'do', 'whereas', 'because', 'everyone', 'hers', 'something', 'up', 'hereupon', \"'s\", '‘ve', '’re', 'somewhere', 'hence', 'name', 'though', 'every', 'third', 'where', 'ca', 'his', 'former', 'herself', 'anyone', 'four', 'most', 'rather', 'why', 'myself', 'further', 'due', 'itself', 'any', 'almost', '’m', 'via', 'as', 'hundred', 'sixty', 'sometime', 'used', 'although', 'somehow', 'besides', 'always', 'can', 'through', 'seeming', 'top', 'had', 'thence', 'make', 'onto', '‘s', 'toward', 'bottom', 'other', 'thus', 'yours', '‘d', 'moreover', 'ten', 'front', 'least', 'either', 'well', 'fifty', 'say', 'whoever', 'yourselves', 'alone', 'go', 'nobody', 'or', 'therein', 'serious', 'and', 'whither', 'becomes', 'how', 'others', 'sometimes', 'whenever', 'give', 'seems', 'now', 'again', 'anyway', 'them', 'its', 'n‘t', 'really', 'whereby', 'here', 'off', 'then', 'however', 'often', 'are', 'everywhere', 'move', 'next', 'twelve', 'over', 'therefore', 'if', 'within', 'very', 'our', 'fifteen', 'also', 'namely', 'put', 'cannot', 'against', 'latter', 'beforehand', 'such', 'than', 'eleven', 'him', 'he', 'even', 'their', 'whereupon', \"'m\", 'at', 'himself', 'does', 'amount', 'upon', 'except', 'noone', 'quite', 'thru', 'must', 'another', 'during', 'never', 'is', 'for', 'each', \"'d\", 'across', \"'re\", 'may', 'there', 'with', 'could', 'same', 'throughout', 'would', 'elsewhere', 'what', 'last', 'me', 'towards', 'made', 'will', 'wherein', 'just', 'part', 'i', 'about', 'take', 'few', 'two', 'indeed', 'latterly', 'anywhere', 'keep', 'between', 'not', 'that', 'seem', 'beside', 'us', 'get', 'all', 'done', 'themselves', 'none', 'it', 'ourselves', 'whole', 'they', 'much', 'on', 'meanwhile', 'someone', 'a', 'whatever', 'her', 'by', 'thereby', 'mostly', 'already', 'this', 'above', 'who', 'mine', 'thereafter', 'else', 'first', 'regarding', 'nowhere', 'see', 'nothing', 'five', 'side', 'still', 'these', 'out', 'empty', 'without', \"n't\", 'been', 'hereafter', 'was', 'became', 'yet', '‘ll', '’ll', 'among', 'amongst', 'from', 'back', 're', 'formerly', 'hereby', 'anyhow', '’d', \"'ll\", 'your', 'whether', 'before', 'various', 'along', 'of', 'whereafter', 'twenty', 'until', 'three', 'into', 'neither', '‘re', 'together', 'wherever', 'thereupon', 'anything', 'around', 'while', 'n’t', 'should', 'doing', 'several', 'be', 'were', 'unless', 'nevertheless', 'nor', '’ve', 'too', 'she', '‘m', 'per', 'many', 'call', 'becoming', 'ever', 'ours', 'everything', 'show', 'might', 'eight', 'forty', 'the', 'more', 'to', 'whose', '’s', 'you'}\n"
          ]
        }
      ]
    },
    {
      "cell_type": "code",
      "source": [
        "len(nlp.Defaults.stop_words)"
      ],
      "metadata": {
        "colab": {
          "base_uri": "https://localhost:8080/"
        },
        "id": "k7uRjsdOpECT",
        "outputId": "01c86c6b-2620-47b1-80e6-0f72130b5f7e"
      },
      "execution_count": 111,
      "outputs": [
        {
          "output_type": "execute_result",
          "data": {
            "text/plain": [
              "326"
            ]
          },
          "metadata": {},
          "execution_count": 111
        }
      ]
    },
    {
      "cell_type": "markdown",
      "source": [
        "## To see if a word is a stop word"
      ],
      "metadata": {
        "id": "FxKDOoq4pNPY"
      }
    },
    {
      "cell_type": "code",
      "source": [
        "nlp.vocab['myself'].is_stop"
      ],
      "metadata": {
        "colab": {
          "base_uri": "https://localhost:8080/"
        },
        "id": "Npsb5-sHpLKC",
        "outputId": "55ed344c-9035-4bc3-bdc1-5a1a01c23462"
      },
      "execution_count": 112,
      "outputs": [
        {
          "output_type": "execute_result",
          "data": {
            "text/plain": [
              "True"
            ]
          },
          "metadata": {},
          "execution_count": 112
        }
      ]
    },
    {
      "cell_type": "code",
      "source": [
        "nlp.vocab['mystery'].is_stop"
      ],
      "metadata": {
        "colab": {
          "base_uri": "https://localhost:8080/"
        },
        "id": "bWoZjhf-pR1K",
        "outputId": "4bcd5483-9c94-41de-8566-e8f79e556b1d"
      },
      "execution_count": 113,
      "outputs": [
        {
          "output_type": "execute_result",
          "data": {
            "text/plain": [
              "False"
            ]
          },
          "metadata": {},
          "execution_count": 113
        }
      ]
    },
    {
      "cell_type": "markdown",
      "source": [
        "## To add a stop word\n",
        "There may be times when you wish to add a stop word to the default set. Perhaps you decide that `'btw'` (common shorthand for \"by the way\") should be considered a stop word."
      ],
      "metadata": {
        "id": "R0GT4SZ6pUoO"
      }
    },
    {
      "cell_type": "code",
      "source": [
        "nlp.Defaults.stop_words.add('btw')"
      ],
      "metadata": {
        "id": "ZHshKVGrpYV1"
      },
      "execution_count": 114,
      "outputs": []
    },
    {
      "cell_type": "code",
      "source": [
        "# Set the stop_word tag on the lexeme\n",
        "nlp.vocab['btw'].is_stop = True"
      ],
      "metadata": {
        "id": "LI3wZUdNpTQK"
      },
      "execution_count": 115,
      "outputs": []
    },
    {
      "cell_type": "code",
      "source": [
        "len(nlp.Defaults.stop_words)"
      ],
      "metadata": {
        "colab": {
          "base_uri": "https://localhost:8080/"
        },
        "id": "s-p3xfIbpd0h",
        "outputId": "9973efac-203f-4b54-c77d-d3564ededcea"
      },
      "execution_count": 116,
      "outputs": [
        {
          "output_type": "execute_result",
          "data": {
            "text/plain": [
              "327"
            ]
          },
          "metadata": {},
          "execution_count": 116
        }
      ]
    },
    {
      "cell_type": "code",
      "source": [
        "nlp.vocab['btw'].is_stop"
      ],
      "metadata": {
        "colab": {
          "base_uri": "https://localhost:8080/"
        },
        "id": "LRPqavm4pinB",
        "outputId": "2434887e-1c78-487b-daaa-299d5344db55"
      },
      "execution_count": 117,
      "outputs": [
        {
          "output_type": "execute_result",
          "data": {
            "text/plain": [
              "True"
            ]
          },
          "metadata": {},
          "execution_count": 117
        }
      ]
    },
    {
      "cell_type": "markdown",
      "source": [
        "## To remove a stop word\n",
        "Alternatively, you may decide that `'beyond'` should not be considered a stop word."
      ],
      "metadata": {
        "id": "cP7dQqihplfO"
      }
    },
    {
      "cell_type": "code",
      "source": [
        "# Remove the word from the set of stop words\n",
        "nlp.Defaults.stop_words.remove('beyond')\n",
        "\n",
        "# Remove the stop_word tag from the lexeme\n",
        "nlp.vocab['beyond'].is_stop = False\n"
      ],
      "metadata": {
        "colab": {
          "base_uri": "https://localhost:8080/",
          "height": 245
        },
        "id": "yIK8xn2tpjzR",
        "outputId": "07ea9420-dd04-4ee3-b14a-7b473236620d"
      },
      "execution_count": 119,
      "outputs": [
        {
          "output_type": "error",
          "ename": "KeyError",
          "evalue": "ignored",
          "traceback": [
            "\u001b[0;31m---------------------------------------------------------------------------\u001b[0m",
            "\u001b[0;31mKeyError\u001b[0m                                  Traceback (most recent call last)",
            "\u001b[0;32m<ipython-input-119-75e68d958809>\u001b[0m in \u001b[0;36m<cell line: 2>\u001b[0;34m()\u001b[0m\n\u001b[1;32m      1\u001b[0m \u001b[0;31m# Remove the word from the set of stop words\u001b[0m\u001b[0;34m\u001b[0m\u001b[0;34m\u001b[0m\u001b[0m\n\u001b[0;32m----> 2\u001b[0;31m \u001b[0mnlp\u001b[0m\u001b[0;34m.\u001b[0m\u001b[0mDefaults\u001b[0m\u001b[0;34m.\u001b[0m\u001b[0mstop_words\u001b[0m\u001b[0;34m.\u001b[0m\u001b[0mremove\u001b[0m\u001b[0;34m(\u001b[0m\u001b[0;34m'beyond'\u001b[0m\u001b[0;34m)\u001b[0m\u001b[0;34m\u001b[0m\u001b[0;34m\u001b[0m\u001b[0m\n\u001b[0m\u001b[1;32m      3\u001b[0m \u001b[0;34m\u001b[0m\u001b[0m\n\u001b[1;32m      4\u001b[0m \u001b[0;31m# Remove the stop_word tag from the lexeme\u001b[0m\u001b[0;34m\u001b[0m\u001b[0;34m\u001b[0m\u001b[0m\n\u001b[1;32m      5\u001b[0m \u001b[0mnlp\u001b[0m\u001b[0;34m.\u001b[0m\u001b[0mvocab\u001b[0m\u001b[0;34m[\u001b[0m\u001b[0;34m'beyond'\u001b[0m\u001b[0;34m]\u001b[0m\u001b[0;34m.\u001b[0m\u001b[0mis_stop\u001b[0m \u001b[0;34m=\u001b[0m \u001b[0;32mFalse\u001b[0m\u001b[0;34m\u001b[0m\u001b[0;34m\u001b[0m\u001b[0m\n",
            "\u001b[0;31mKeyError\u001b[0m: 'beyond'"
          ]
        }
      ]
    },
    {
      "cell_type": "code",
      "source": [
        "len(nlp.Defaults.stop_words)"
      ],
      "metadata": {
        "colab": {
          "base_uri": "https://localhost:8080/"
        },
        "id": "bl3g9_QhpnwZ",
        "outputId": "a1b4719f-5e24-4c51-87df-dc4803e510bb"
      },
      "execution_count": 120,
      "outputs": [
        {
          "output_type": "execute_result",
          "data": {
            "text/plain": [
              "326"
            ]
          },
          "metadata": {},
          "execution_count": 120
        }
      ]
    },
    {
      "cell_type": "code",
      "source": [
        "nlp.vocab['beyond'].is_stop"
      ],
      "metadata": {
        "colab": {
          "base_uri": "https://localhost:8080/"
        },
        "id": "qqAiCGfwqECq",
        "outputId": "f78bf48e-c7ee-4f43-d5c8-4fed8dae00d5"
      },
      "execution_count": 121,
      "outputs": [
        {
          "output_type": "execute_result",
          "data": {
            "text/plain": [
              "False"
            ]
          },
          "metadata": {},
          "execution_count": 121
        }
      ]
    },
    {
      "cell_type": "markdown",
      "source": [
        "Great! Now you should be able to access spaCy's default set of stop words, and add or remove stop words as needed.\n",
        "## Next up: Vocabulary and Matching"
      ],
      "metadata": {
        "id": "jtNaFih9qHYx"
      }
    },
    {
      "cell_type": "markdown",
      "source": [
        "# Vocabulary and Matching\n",
        "So far we've seen how a body of text is divided into tokens, and how individual tokens are parsed and tagged with parts of speech, dependencies and lemmas.\n",
        "\n",
        "In this section we will identify and label specific phrases that match patterns we can define ourselves."
      ],
      "metadata": {
        "id": "loLjeXUiqoGx"
      }
    },
    {
      "cell_type": "markdown",
      "source": [
        "## Rule-based Matching\n",
        "spaCy offers a rule-matching tool called `Matcher` that allows you to build a library of token patterns, then match those patterns against a Doc object to return a list of found matches. You can match on any part of the token including text and annotations, and you can add multiple patterns to the same matcher."
      ],
      "metadata": {
        "id": "hcplveynqtwA"
      }
    },
    {
      "cell_type": "code",
      "source": [
        "# Perform standard imports\n",
        "import spacy\n",
        "nlp = spacy.load('en_core_web_sm')"
      ],
      "metadata": {
        "id": "XHdZGqXXqFmh"
      },
      "execution_count": 122,
      "outputs": []
    },
    {
      "cell_type": "code",
      "source": [
        "# Import the Matcher library\n",
        "from spacy.matcher import Matcher\n",
        "matcher = Matcher (nlp.vocab)"
      ],
      "metadata": {
        "id": "Osr94WtNq28x"
      },
      "execution_count": 192,
      "outputs": []
    },
    {
      "cell_type": "markdown",
      "source": [
        "<font color=green>Here `matcher` is an object that pairs to the current `Vocab` object. We can add and remove specific named matchers to `matcher` as needed.</font>"
      ],
      "metadata": {
        "id": "hrNEBxP3rGnX"
      }
    },
    {
      "cell_type": "markdown",
      "source": [
        "### Creating patterns\n",
        "In literature, the phrase 'solar power' might appear as one word or two, with or without a hyphen. In this section we'll develop a matcher named 'SolarPower' that finds all three:"
      ],
      "metadata": {
        "id": "ameN_OTzrKA1"
      }
    },
    {
      "cell_type": "code",
      "source": [
        "pattern1=[{'LOWER' : 'solarpower'}]"
      ],
      "metadata": {
        "id": "-5FzS0mcq5ny"
      },
      "execution_count": 193,
      "outputs": []
    },
    {
      "cell_type": "code",
      "source": [
        "pattern2=[{'LOWER': 'solar'}, {'LOWER': 'power'}]"
      ],
      "metadata": {
        "id": "iMV4VWIbrFkw"
      },
      "execution_count": 194,
      "outputs": []
    },
    {
      "cell_type": "code",
      "source": [
        "pattern3 = [{'LOWER': 'solar'}, {'IS_PUNCT': True}, {'LOWER': 'power'}]"
      ],
      "metadata": {
        "id": "xiGbl07wrjzg"
      },
      "execution_count": 195,
      "outputs": []
    },
    {
      "cell_type": "code",
      "source": [
        "matcher.add('SolarPower', [pattern1, pattern2, pattern3])"
      ],
      "metadata": {
        "id": "LsHWsXiCrtnl"
      },
      "execution_count": 202,
      "outputs": []
    },
    {
      "cell_type": "markdown",
      "source": [
        "Let's break this down:\n",
        "* `pattern1` looks for a single token whose lowercase text reads 'solarpower'\n",
        "* `pattern2` looks for two adjacent tokens that read 'solar' and 'power' in that order\n",
        "* `pattern3` looks for three adjacent tokens, with a middle token that can be any punctuation.<font color=green>*</font>\n",
        "\n",
        "<font color=green>\\* Remember that single spaces are not tokenized, so they don't count as punctuation.</font>\n",
        "<br>Once we define our patterns, we pass them into `matcher` with the name 'SolarPower', and set *callbacks* to `None` (more on callbacks later)."
      ],
      "metadata": {
        "id": "WvZMqmrk1EB0"
      }
    },
    {
      "cell_type": "markdown",
      "source": [
        "### Applying the matcher to a Doc object"
      ],
      "metadata": {
        "id": "-NwMRdwp1RLq"
      }
    },
    {
      "cell_type": "code",
      "source": [
        "doc = nlp(u'The Solar Power industry continues to grow as demand \\ for solarpower increases. Solar-power cars are gaining popularity.')"
      ],
      "metadata": {
        "id": "bKalSwEk0-Uw"
      },
      "execution_count": 203,
      "outputs": []
    },
    {
      "cell_type": "code",
      "source": [
        "found_matches = matcher(doc)\n",
        "print(found_matches)"
      ],
      "metadata": {
        "colab": {
          "base_uri": "https://localhost:8080/"
        },
        "id": "b4-43ZF41Sz4",
        "outputId": "85990642-1b8b-4988-e1c0-b8f835df027d"
      },
      "execution_count": 204,
      "outputs": [
        {
          "output_type": "stream",
          "name": "stdout",
          "text": [
            "[(15884727606302759643, 1, 3), (8656102463236116519, 1, 3), (15884727606302759643, 11, 12), (8656102463236116519, 11, 12), (15884727606302759643, 14, 17), (8656102463236116519, 14, 17)]\n"
          ]
        }
      ]
    },
    {
      "cell_type": "markdown",
      "source": [
        "`matcher` returns a list of tuples. Each tuple contains an ID for the match, with start & end tokens that map to the span `doc[start:end]`"
      ],
      "metadata": {
        "id": "3IVdLTgw1dC1"
      }
    },
    {
      "cell_type": "code",
      "source": [
        "for match_id,start,end in found_matches:\n",
        "  string_id = nlp.vocab.strings[match_id]\n",
        "  span=doc[start:end]\n",
        "  print(match_id,string_id,start,end,span.text)"
      ],
      "metadata": {
        "colab": {
          "base_uri": "https://localhost:8080/"
        },
        "id": "sb0PvG8d1XcX",
        "outputId": "a87e51d1-291f-4582-8633-bf380fd7113b"
      },
      "execution_count": 205,
      "outputs": [
        {
          "output_type": "stream",
          "name": "stdout",
          "text": [
            "15884727606302759643 solarPower 1 3 Solar Power\n",
            "8656102463236116519 SolarPower 1 3 Solar Power\n",
            "15884727606302759643 solarPower 11 12 solarpower\n",
            "8656102463236116519 SolarPower 11 12 solarpower\n",
            "15884727606302759643 solarPower 14 17 Solar-power\n",
            "8656102463236116519 SolarPower 14 17 Solar-power\n"
          ]
        }
      ]
    },
    {
      "cell_type": "markdown",
      "source": [
        "The `match_id` is simply the hash value of the `string_ID` 'SolarPower'"
      ],
      "metadata": {
        "id": "shLTTsKv2DFK"
      }
    },
    {
      "cell_type": "markdown",
      "source": [
        "### Setting pattern options and quantifiers\n",
        "You can make token rules optional by passing an `'OP':'*'` argument. This lets us streamline our patterns list:"
      ],
      "metadata": {
        "id": "VJoHBxxa2Faw"
      }
    },
    {
      "cell_type": "code",
      "source": [
        "# Redefine the patterns:\n",
        "pattern1 = [{'LOWER': 'solarpower'}]\n",
        "pattern2 = [{'LOWER': 'solar'}, {'IS_PUNCT': True, 'OP':'*'}, {'LOWER': 'power'}]"
      ],
      "metadata": {
        "id": "--6_xxH31uzA"
      },
      "execution_count": 206,
      "outputs": []
    },
    {
      "cell_type": "code",
      "source": [
        "# Remove the old patterns to avoid duplication:\n",
        "matcher.remove('SolarPower')\n"
      ],
      "metadata": {
        "id": "08AQCjNL2RiP"
      },
      "execution_count": 207,
      "outputs": []
    },
    {
      "cell_type": "code",
      "source": [
        "# Add the new set of patterns to the 'SolarPower' matcher:\n",
        "matcher.add('SolarPower', [pattern1, pattern2])"
      ],
      "metadata": {
        "id": "ZH9gjyf02UnP"
      },
      "execution_count": 147,
      "outputs": []
    },
    {
      "cell_type": "code",
      "source": [
        "found_matches = matcher(doc)\n",
        "print(found_matches)"
      ],
      "metadata": {
        "colab": {
          "base_uri": "https://localhost:8080/"
        },
        "id": "ENjhXDP_2Wvn",
        "outputId": "7b52e177-c1cf-4b2f-e7fd-77506988df5e"
      },
      "execution_count": 148,
      "outputs": [
        {
          "output_type": "stream",
          "name": "stdout",
          "text": [
            "[(8656102463236116519, 1, 3), (8656102463236116519, 11, 12), (8656102463236116519, 14, 17)]\n"
          ]
        }
      ]
    },
    {
      "cell_type": "markdown",
      "source": [
        "This found both two-word patterns, with and without the hyphen!\n",
        "\n",
        "The following quantifiers can be passed to the `'OP'` key:\n",
        "<table><tr><th>OP</th><th>Description</th></tr>\n",
        "\n",
        "<tr ><td><span >\\!</span></td><td>Negate the pattern, by requiring it to match exactly 0 times</td></tr>\n",
        "<tr ><td><span >?</span></td><td>Make the pattern optional, by allowing it to match 0 or 1 times</td></tr>\n",
        "<tr ><td><span >\\+</span></td><td>Require the pattern to match 1 or more times</td></tr>\n",
        "<tr ><td><span >\\*</span></td><td>Allow the pattern to match zero or more times</td></tr>\n",
        "</table>\n"
      ],
      "metadata": {
        "id": "LCH1IdZu2g2d"
      }
    },
    {
      "cell_type": "markdown",
      "source": [
        "### Be careful with lemmas!\n",
        "If we wanted to match on both 'solar power' and 'solar powered', it might be tempting to look for the *lemma* of 'powered' and expect it to be 'power'. This is not always the case! The lemma of the *adjective* 'powered' is still 'powered':"
      ],
      "metadata": {
        "id": "ROFSA7vt7-HI"
      }
    },
    {
      "cell_type": "code",
      "source": [
        "pattern1 = [{'LOWER': 'solarpower'}]\n",
        "pattern2 = [{'LOWER': 'solar'}, {'IS_PUNCT': True, 'OP':'*'}, {'LEMMA': 'power'}] # CHANGE THIS PATTERN\n",
        "\n"
      ],
      "metadata": {
        "id": "If5QLkwY2ekb"
      },
      "execution_count": 156,
      "outputs": []
    },
    {
      "cell_type": "code",
      "source": [
        "# Remove the old patterns to avoid duplication:\n",
        "matcher.remove('SolarPower')"
      ],
      "metadata": {
        "id": "2JTFMxE18DXX"
      },
      "execution_count": 160,
      "outputs": []
    },
    {
      "cell_type": "code",
      "source": [
        "# Add the new set of patterns to the 'SolarPower' matcher:\n",
        "matcher.add('SolarPower', [pattern1, pattern2])"
      ],
      "metadata": {
        "id": "heHUR_x08WFW"
      },
      "execution_count": 161,
      "outputs": []
    },
    {
      "cell_type": "code",
      "source": [
        "doc2 = nlp(u'Solar-powered energy runs solar-powered cars.')"
      ],
      "metadata": {
        "id": "vTZ5e5BR8Yyu"
      },
      "execution_count": 162,
      "outputs": []
    },
    {
      "cell_type": "code",
      "source": [
        "found_matches = matcher(doc2)"
      ],
      "metadata": {
        "id": "DTrLLXoC8g__"
      },
      "execution_count": 163,
      "outputs": []
    },
    {
      "cell_type": "code",
      "source": [
        "print(found_matches)"
      ],
      "metadata": {
        "colab": {
          "base_uri": "https://localhost:8080/"
        },
        "id": "-VXwS8wP8kTf",
        "outputId": "2664047c-a845-4066-c7c4-2ba918bc4a08"
      },
      "execution_count": 164,
      "outputs": [
        {
          "output_type": "stream",
          "name": "stdout",
          "text": [
            "[(8656102463236116519, 0, 3), (8656102463236116519, 5, 8)]\n"
          ]
        }
      ]
    },
    {
      "cell_type": "markdown",
      "source": [
        "<font color=green>The matcher found the first occurrence because the lemmatizer treated 'Solar-powered' as a verb, but not the second as it considered it an adjective.<br>For this case it may be better to set explicit token patterns.</font>"
      ],
      "metadata": {
        "id": "L1jamdp98o4L"
      }
    },
    {
      "cell_type": "code",
      "source": [
        "# Remove the old patterns to avoid duplication:\n",
        "matcher.remove('SolarPower')"
      ],
      "metadata": {
        "colab": {
          "base_uri": "https://localhost:8080/",
          "height": 227
        },
        "id": "FRA6B4Cc80CP",
        "outputId": "8799c6c3-c6e7-4728-d037-0982448e8800"
      },
      "execution_count": 208,
      "outputs": [
        {
          "output_type": "error",
          "ename": "ValueError",
          "evalue": "ignored",
          "traceback": [
            "\u001b[0;31m---------------------------------------------------------------------------\u001b[0m",
            "\u001b[0;31mValueError\u001b[0m                                Traceback (most recent call last)",
            "\u001b[0;32m<ipython-input-208-f2eabd3d9c32>\u001b[0m in \u001b[0;36m<cell line: 2>\u001b[0;34m()\u001b[0m\n\u001b[1;32m      1\u001b[0m \u001b[0;31m# Remove the old patterns to avoid duplication:\u001b[0m\u001b[0;34m\u001b[0m\u001b[0;34m\u001b[0m\u001b[0m\n\u001b[0;32m----> 2\u001b[0;31m \u001b[0mmatcher\u001b[0m\u001b[0;34m.\u001b[0m\u001b[0mremove\u001b[0m\u001b[0;34m(\u001b[0m\u001b[0;34m'SolarPower'\u001b[0m\u001b[0;34m)\u001b[0m\u001b[0;34m\u001b[0m\u001b[0;34m\u001b[0m\u001b[0m\n\u001b[0m",
            "\u001b[0;32m/usr/local/lib/python3.10/dist-packages/spacy/matcher/matcher.pyx\u001b[0m in \u001b[0;36mspacy.matcher.matcher.Matcher.remove\u001b[0;34m()\u001b[0m\n",
            "\u001b[0;31mValueError\u001b[0m: [E175] Can't remove rule for unknown match pattern ID: SolarPower"
          ]
        }
      ]
    },
    {
      "cell_type": "code",
      "source": [
        "pattern1 = [{'LOWER': 'solarpower'}]\n",
        "pattern2 = [{'LOWER': 'solar'}, {'IS_PUNCT': True, 'OP':'*'}, {'LOWER': 'power'}]\n",
        "pattern3 = [{'LOWER': 'solarpowered'}]\n",
        "pattern4 = [{'LOWER': 'solar'}, {'IS_PUNCT': True, 'OP':'*'}, {'LOWER': 'powered'}]\n",
        "\n",
        "\n",
        "\n",
        "# Add the new set of patterns to the 'SolarPower' matcher:\n",
        "matcher.add('SolarPower', [ pattern1, pattern2, pattern3, pattern4])"
      ],
      "metadata": {
        "id": "BOAiTnbV8nO3"
      },
      "execution_count": 169,
      "outputs": []
    },
    {
      "cell_type": "code",
      "source": [
        "found_matches = matcher(doc2)\n",
        "print(found_matches)"
      ],
      "metadata": {
        "colab": {
          "base_uri": "https://localhost:8080/"
        },
        "id": "6AEUHrKN8uZH",
        "outputId": "90cd74f3-6988-4bb2-9af9-67bd690f6903"
      },
      "execution_count": 170,
      "outputs": [
        {
          "output_type": "stream",
          "name": "stdout",
          "text": [
            "[(8656102463236116519, 0, 3), (8656102463236116519, 5, 8)]\n"
          ]
        }
      ]
    },
    {
      "cell_type": "markdown",
      "source": [
        "## Other token attributes\n",
        "Besides lemmas, there are a variety of token attributes we can use to determine matching rules:\n",
        "<table><tr><th>Attribute</th><th>Description</th></tr>\n",
        "\n",
        "<tr ><td><span >`ORTH`</span></td><td>The exact verbatim text of a token</td></tr>\n",
        "<tr ><td><span >`LOWER`</span></td><td>The lowercase form of the token text</td></tr>\n",
        "<tr ><td><span >`LENGTH`</span></td><td>The length of the token text</td></tr>\n",
        "<tr ><td><span >`IS_ALPHA`, `IS_ASCII`, `IS_DIGIT`</span></td><td>Token text consists of alphanumeric characters, ASCII characters, digits</td></tr>\n",
        "<tr ><td><span >`IS_LOWER`, `IS_UPPER`, `IS_TITLE`</span></td><td>Token text is in lowercase, uppercase, titlecase</td></tr>\n",
        "<tr ><td><span >`IS_PUNCT`, `IS_SPACE`, `IS_STOP`</span></td><td>Token is punctuation, whitespace, stop word</td></tr>\n",
        "<tr ><td><span >`LIKE_NUM`, `LIKE_URL`, `LIKE_EMAIL`</span></td><td>Token text resembles a number, URL, email</td></tr>\n",
        "<tr ><td><span >`POS`, `TAG`, `DEP`, `LEMMA`, `SHAPE`</span></td><td>The token's simple and extended part-of-speech tag, dependency label, lemma, shape</td></tr>\n",
        "<tr ><td><span >`ENT_TYPE`</span></td><td>The token's entity label</td></tr>\n",
        "\n",
        "</table>"
      ],
      "metadata": {
        "id": "VTnWQtBi8-Vd"
      }
    },
    {
      "cell_type": "markdown",
      "source": [
        "### Token wildcard\n",
        "You can pass an empty dictionary `{}` as a wildcard to represent **any token**. For example, you might want to retrieve hashtags without knowing what might follow the `#` character:\n",
        ">`[{'ORTH': '#'}, {}]`"
      ],
      "metadata": {
        "id": "YniLA-IH8_7z"
      }
    },
    {
      "cell_type": "markdown",
      "source": [
        "___\n",
        "## PhraseMatcher\n",
        "In the above section we used token patterns to perform rule-based matching. An alternative - and often more efficient - method is to match on terminology lists. In this case we use PhraseMatcher to create a Doc object from a list of phrases, and pass that into `matcher` instead."
      ],
      "metadata": {
        "id": "dqcovb4l9D2o"
      }
    },
    {
      "cell_type": "code",
      "source": [
        "# Perform standard imports, reset nlp\n",
        "import spacy\n",
        "nlp = spacy.load('en_core_web_sm')"
      ],
      "metadata": {
        "id": "aJWwHAaa88TG"
      },
      "execution_count": 171,
      "outputs": []
    },
    {
      "cell_type": "code",
      "source": [
        "# Import the PhraseMatcher library\n",
        "from spacy.matcher import PhraseMatcher\n",
        "matcher = PhraseMatcher(nlp.vocab)"
      ],
      "metadata": {
        "id": "beK8gBOo9FyW"
      },
      "execution_count": 209,
      "outputs": []
    },
    {
      "cell_type": "markdown",
      "source": [
        "For this exercise we're going to import a Wikipedia article on *Reaganomics*<br>\n",
        "Source: https://en.wikipedia.org/wiki/Reaganomics"
      ],
      "metadata": {
        "id": "tAtd-4eW9JwZ"
      }
    },
    {
      "cell_type": "code",
      "source": [
        "with open('reaganomics.txt', encoding='utf-8', errors='replace') as f:\n",
        "    doc3 = nlp(f.read())\n"
      ],
      "metadata": {
        "id": "ZY2sqWOt9Ije"
      },
      "execution_count": 178,
      "outputs": []
    },
    {
      "cell_type": "code",
      "source": [
        "# First, create a list of match phrases:\n",
        "phrase_list = ['voodoo economics', 'supply-side economics', 'trickle-down economics', 'free-market economics']"
      ],
      "metadata": {
        "id": "U01Emj6C9M8P"
      },
      "execution_count": 179,
      "outputs": []
    },
    {
      "cell_type": "code",
      "source": [
        "# Next, convert each phrase to a Doc object:\n",
        "phrase_patterns = [nlp(text) for text in phrase_list]"
      ],
      "metadata": {
        "id": "bHhDjb0j-Aiu"
      },
      "execution_count": 210,
      "outputs": []
    },
    {
      "cell_type": "code",
      "source": [
        "# Pass each Doc object into matcher (note the use of the asterisk!):\n",
        "matcher.add('VoodooEconomics', None, *phrase_patterns)"
      ],
      "metadata": {
        "id": "d8lCJOD--FAe"
      },
      "execution_count": 211,
      "outputs": []
    },
    {
      "cell_type": "code",
      "source": [
        "# Build a list of matches:\n",
        "matches = matcher(doc3)"
      ],
      "metadata": {
        "id": "3s80-_Q7-HYt"
      },
      "execution_count": 212,
      "outputs": []
    },
    {
      "cell_type": "code",
      "source": [
        "# (match_id, start, end)\n",
        "matches"
      ],
      "metadata": {
        "colab": {
          "base_uri": "https://localhost:8080/"
        },
        "id": "Upf_3TP1-KzW",
        "outputId": "3156b804-21c5-4ffa-c571-7a10b5c39b57"
      },
      "execution_count": 213,
      "outputs": [
        {
          "output_type": "execute_result",
          "data": {
            "text/plain": [
              "[(3473369816841043438, 41, 45),\n",
              " (3473369816841043438, 49, 53),\n",
              " (3473369816841043438, 54, 56),\n",
              " (3473369816841043438, 61, 65),\n",
              " (3473369816841043438, 673, 677),\n",
              " (3473369816841043438, 2990, 2994)]"
            ]
          },
          "metadata": {},
          "execution_count": 213
        }
      ]
    },
    {
      "cell_type": "code",
      "source": [
        "for match_id, start,  end in  matches:\n",
        "  string_id = nlp.vocab.strings[match_id]\n",
        "  span=doc3[start - 5 :end + 5]\n",
        "  print(match_id, string_id, start,end,span.text)"
      ],
      "metadata": {
        "colab": {
          "base_uri": "https://localhost:8080/"
        },
        "id": "wZ_QXj9zDXYt",
        "outputId": "5359b001-c316-4e39-c179-c87d7c9d82ab"
      },
      "execution_count": 222,
      "outputs": [
        {
          "output_type": "stream",
          "name": "stdout",
          "text": [
            "3473369816841043438 VoodooEconomics 41 45 policies are commonly associated with supply-side economics, referred to as trickle\n",
            "3473369816841043438 VoodooEconomics 49 53 economics, referred to as trickle-down economics or voodoo economics by political\n",
            "3473369816841043438 VoodooEconomics 54 56 trickle-down economics or voodoo economics by political opponents, and\n",
            "3473369816841043438 VoodooEconomics 61 65 by political opponents, and free-market economics by political advocates.\n",
            "\n",
            "\n",
            "3473369816841043438 VoodooEconomics 673 677 attracted a following from the supply-side economics movement, which formed in\n",
            "3473369816841043438 VoodooEconomics 2990 2994 became widely known as \"trickle-down economics\", due to the\n"
          ]
        }
      ]
    },
    {
      "cell_type": "code",
      "source": [
        "doc3[:70]"
      ],
      "metadata": {
        "colab": {
          "base_uri": "https://localhost:8080/"
        },
        "id": "3Hwk7HWN-McG",
        "outputId": "92a5d774-5f6a-429a-b788-a0e16ab1025e"
      },
      "execution_count": 216,
      "outputs": [
        {
          "output_type": "execute_result",
          "data": {
            "text/plain": [
              "REAGANOMICS\n",
              "https://en.wikipedia.org/wiki/Reaganomics\n",
              "\n",
              "Reaganomics (a portmanteau of [Ronald] Reagan and economics attributed to Paul Harvey)[1] refers to the economic policies promoted by U.S. President Ronald Reagan during the 1980s. These policies are commonly associated with supply-side economics, referred to as trickle-down economics or voodoo economics by political opponents, and free-market economics by political advocates.\n"
            ]
          },
          "metadata": {},
          "execution_count": 216
        }
      ]
    },
    {
      "cell_type": "markdown",
      "source": [
        "## Viewing Matches\n",
        "There are a few ways to fetch the text surrounding a match. The simplest is to grab a slice of tokens from the doc that is wider than the match:"
      ],
      "metadata": {
        "id": "_j5wPxoz-Rb9"
      }
    },
    {
      "cell_type": "code",
      "source": [
        "doc3[673:677]  # Note that the fifth match starts at doc3[673]"
      ],
      "metadata": {
        "colab": {
          "base_uri": "https://localhost:8080/"
        },
        "id": "TZqTbvua-Oit",
        "outputId": "3d376ce4-e140-46d2-ef44-d2dc405cf38b"
      },
      "execution_count": 217,
      "outputs": [
        {
          "output_type": "execute_result",
          "data": {
            "text/plain": [
              "supply-side economics"
            ]
          },
          "metadata": {},
          "execution_count": 217
        }
      ]
    },
    {
      "cell_type": "code",
      "source": [
        "doc3[2990:2994]  # The sixth match starts at doc3[2985]"
      ],
      "metadata": {
        "colab": {
          "base_uri": "https://localhost:8080/"
        },
        "id": "nkeYmiw9-S6t",
        "outputId": "15123ef1-f862-4bc5-d637-5215ed154470"
      },
      "execution_count": 218,
      "outputs": [
        {
          "output_type": "execute_result",
          "data": {
            "text/plain": [
              "trickle-down economics"
            ]
          },
          "metadata": {},
          "execution_count": 218
        }
      ]
    },
    {
      "cell_type": "code",
      "source": [
        "# Build a list of sentences\n",
        "sents = [sent for sent in doc3.sents]\n",
        "\n",
        "# In the next section we'll see that sentences contain start and end token values:\n",
        "print(sents[0].start, sents[0].end)"
      ],
      "metadata": {
        "colab": {
          "base_uri": "https://localhost:8080/"
        },
        "id": "O-lzCpRs-VeG",
        "outputId": "6ccc0bbb-a36a-4468-91da-6c71ff8482ff"
      },
      "execution_count": 219,
      "outputs": [
        {
          "output_type": "stream",
          "name": "stdout",
          "text": [
            "0 35\n"
          ]
        }
      ]
    },
    {
      "cell_type": "code",
      "source": [
        "# Iterate over the sentence list until the sentence end value exceeds a match start value:\n",
        "for sent in sents:\n",
        "    if matches[4][1] < sent.end:  # this is the fifth match, that starts at doc3[673]\n",
        "        print(sent)\n",
        "        break"
      ],
      "metadata": {
        "colab": {
          "base_uri": "https://localhost:8080/"
        },
        "id": "AM1Jjsp6-iEG",
        "outputId": "3f108511-5065-4296-ddf0-0248d02dbf24"
      },
      "execution_count": 220,
      "outputs": [
        {
          "output_type": "stream",
          "name": "stdout",
          "text": [
            "At the same time he attracted a following from the supply-side economics movement, which formed in opposition to Keynesian demand-stimulus economics.\n"
          ]
        }
      ]
    },
    {
      "cell_type": "markdown",
      "source": [
        "For additional information visit https://spacy.io/usage/linguistic-features#section-rule-based-matching\n",
        "## Next Up: NLP Basics Assessment"
      ],
      "metadata": {
        "id": "FqR6bGRZ-tq5"
      }
    },
    {
      "cell_type": "markdown",
      "source": [
        "# NLP Basics Assessment"
      ],
      "metadata": {
        "id": "O5btpT_GEZVN"
      }
    },
    {
      "cell_type": "markdown",
      "source": [
        "For this assessment we'll be using the short story [_An Occurrence at Owl Creek Bridge_](https://en.wikipedia.org/wiki/An_Occurrence_at_Owl_Creek_Bridge) by Ambrose Bierce (1890). <br>The story is in the public domain; the text file was obtained from [Project Gutenberg](https://www.gutenberg.org/ebooks/375.txt.utf-8)."
      ],
      "metadata": {
        "id": "VdW96f5REa1l"
      }
    },
    {
      "cell_type": "code",
      "source": [
        "import spacy\n",
        "nlp=spacy.load('en_core_web_sm')"
      ],
      "metadata": {
        "id": "HTDdYfHo-oIm"
      },
      "execution_count": 224,
      "outputs": []
    },
    {
      "cell_type": "markdown",
      "source": [
        "**1. Create a Doc object from the file `owlcreek.txt`**<br>\n",
        "> HINT: Use `with open('../TextFiles/owlcreek.txt') as f:`"
      ],
      "metadata": {
        "id": "s-rrT-naEnEs"
      }
    },
    {
      "cell_type": "code",
      "source": [
        "with open('owlcreek.txt') as f:\n",
        "    doc=nlp(f.read())"
      ],
      "metadata": {
        "id": "dWG71I3r-spl"
      },
      "execution_count": 237,
      "outputs": []
    },
    {
      "cell_type": "code",
      "source": [
        "len(doc)"
      ],
      "metadata": {
        "colab": {
          "base_uri": "https://localhost:8080/"
        },
        "id": "OXbycBANGpy6",
        "outputId": "1b5051ac-1511-4688-c650-60105973ffb9"
      },
      "execution_count": 239,
      "outputs": [
        {
          "output_type": "execute_result",
          "data": {
            "text/plain": [
              "4835"
            ]
          },
          "metadata": {},
          "execution_count": 239
        }
      ]
    },
    {
      "cell_type": "code",
      "source": [
        "doc[:36]"
      ],
      "metadata": {
        "colab": {
          "base_uri": "https://localhost:8080/"
        },
        "id": "q3ZkDetQFdB2",
        "outputId": "2ccc38d6-adfe-4dfc-b6b1-db9630c7bee7"
      },
      "execution_count": 238,
      "outputs": [
        {
          "output_type": "execute_result",
          "data": {
            "text/plain": [
              "AN OCCURRENCE AT OWL CREEK BRIDGE\n",
              "\n",
              "by Ambrose Bierce\n",
              "\n",
              "I\n",
              "\n",
              "A man stood upon a railroad bridge in northern Alabama, looking down\n",
              "into the swift water twenty feet below.  "
            ]
          },
          "metadata": {},
          "execution_count": 238
        }
      ]
    },
    {
      "cell_type": "markdown",
      "source": [
        "**2. How many tokens are contained in the file?**"
      ],
      "metadata": {
        "id": "9Ko-fxabFjNT"
      }
    },
    {
      "cell_type": "code",
      "source": [
        "len(doc)"
      ],
      "metadata": {
        "colab": {
          "base_uri": "https://localhost:8080/"
        },
        "id": "h3gfuJejFgJt",
        "outputId": "dc2f4127-00c6-4e36-ac39-654e4bbb2878"
      },
      "execution_count": 232,
      "outputs": [
        {
          "output_type": "execute_result",
          "data": {
            "text/plain": [
              "4835"
            ]
          },
          "metadata": {},
          "execution_count": 232
        }
      ]
    },
    {
      "cell_type": "markdown",
      "source": [
        "**3. How many sentences are contained in the file?**<br>HINT: You'll want to build a list first!"
      ],
      "metadata": {
        "id": "F2a8B65UFrjr"
      }
    },
    {
      "cell_type": "code",
      "source": [
        "doc_sentences = [sent for sent in doc.sents]"
      ],
      "metadata": {
        "id": "Y7G4mT2nFoEN"
      },
      "execution_count": 241,
      "outputs": []
    },
    {
      "cell_type": "code",
      "source": [
        "len(doc_sentences)"
      ],
      "metadata": {
        "colab": {
          "base_uri": "https://localhost:8080/"
        },
        "id": "zQXS0rWQFyqd",
        "outputId": "ad17b07f-a032-4698-bf97-6cea9b923f02"
      },
      "execution_count": 242,
      "outputs": [
        {
          "output_type": "execute_result",
          "data": {
            "text/plain": [
              "204"
            ]
          },
          "metadata": {},
          "execution_count": 242
        }
      ]
    },
    {
      "cell_type": "code",
      "source": [
        "print(doc_sentences[1].text)"
      ],
      "metadata": {
        "colab": {
          "base_uri": "https://localhost:8080/"
        },
        "id": "2up9tIEMG8uF",
        "outputId": "03bd3d75-dcb1-4af3-bea5-ada20895060f"
      },
      "execution_count": 248,
      "outputs": [
        {
          "output_type": "stream",
          "name": "stdout",
          "text": [
            "The man's hands were behind\n",
            "his back, the wrists bound with a cord.  \n"
          ]
        }
      ]
    },
    {
      "cell_type": "code",
      "source": [
        "#normal solution\n",
        "for token in doc_sentences[1]:\n",
        "  print(f'{token.text:{10}} {token.pos_:{10}}{token.text:{10}} {token.dep_:{10}} {token.lemma:{10}}')"
      ],
      "metadata": {
        "colab": {
          "base_uri": "https://localhost:8080/"
        },
        "id": "Zp2H4Q6SHAJ_",
        "outputId": "c9e56df9-ddb3-485a-97c1-9a51319a0ac2"
      },
      "execution_count": 252,
      "outputs": [
        {
          "output_type": "stream",
          "name": "stdout",
          "text": [
            "The        DET       The        det        7425985699627899538\n",
            "man        NOUN      man        poss       3104811030673030468\n",
            "'s         PART      's         case       16428057658620181782\n",
            "hands      NOUN      hands      nsubj      10690717480206833971\n",
            "were       AUX       were       ROOT       10382539506755952630\n",
            "behind     ADP       behind     prep       9368086581607646285\n",
            "\n",
            "          SPACE     \n",
            "          dep        962983613142996970\n",
            "his        PRON      his        poss       2661093235354845946\n",
            "back       NOUN      back       pobj       15255859468896132977\n",
            ",          PUNCT     ,          punct      2593208677638477497\n",
            "the        DET       the        det        7425985699627899538\n",
            "wrists     NOUN      wrists     appos      40049004327531306\n",
            "bound      VERB      bound      acl        16578919470474021089\n",
            "with       ADP       with       prep       12510949447758279278\n",
            "a          DET       a          det        11901859001352538922\n",
            "cord       NOUN      cord       pobj       8978229881582480158\n",
            ".          PUNCT     .          punct      12646065887601541794\n",
            "           SPACE                dep        8532415787641010193\n"
          ]
        }
      ]
    },
    {
      "cell_type": "markdown",
      "source": [
        "**6. Write a matcher called 'Swimming' that finds both occurrences of the phrase \"swimming vigorously\" in the text**<br>\n",
        "HINT: You should include an `'IS_SPACE': True` pattern between the two words!"
      ],
      "metadata": {
        "id": "XlQ0UCNQKsSX"
      }
    },
    {
      "cell_type": "code",
      "source": [
        "# Import the Matcher library:\n",
        "from spacy.matcher import matcher\n",
        "matcher = Matcher (nlp.vocab)"
      ],
      "metadata": {
        "id": "ek4YF-2MHx2k"
      },
      "execution_count": 271,
      "outputs": []
    },
    {
      "cell_type": "code",
      "source": [
        "#create a pattern and add it to matcher\n",
        "pattern1 = [{'LOWER': 'swimming'}, {'IS_SPACE': True, 'OP':'*'}, {'LOWER': 'vigorously'}]\n",
        "matcher.add('swimming',[pattern1])"
      ],
      "metadata": {
        "id": "qn_mlR-uITkM"
      },
      "execution_count": 256,
      "outputs": []
    },
    {
      "cell_type": "code",
      "source": [
        "found_matches=matcher(doc)"
      ],
      "metadata": {
        "id": "VqSZFB8GJAtn"
      },
      "execution_count": 264,
      "outputs": []
    },
    {
      "cell_type": "code",
      "source": [
        "print(found_matches) # Create a list of matches called \"found_matches\" and print the list:"
      ],
      "metadata": {
        "colab": {
          "base_uri": "https://localhost:8080/"
        },
        "id": "_RpQ2NrNJLND",
        "outputId": "e9474893-8952-4068-9311-7cfad3a6b1b1"
      },
      "execution_count": 272,
      "outputs": [
        {
          "output_type": "stream",
          "name": "stdout",
          "text": [
            "[(12526975369366237900, 1274, 1277), (12526975369366237900, 3609, 3612)]\n"
          ]
        }
      ]
    },
    {
      "cell_type": "markdown",
      "source": [
        "**7. Print the text surrounding each found match**"
      ],
      "metadata": {
        "id": "dpX2LJIfKlKS"
      }
    },
    {
      "cell_type": "code",
      "source": [
        "#create a lis of called \"found matches and print the list\"\n",
        "\n",
        "def surrounding(doc,start,end):\n",
        "  print(doc[start-10:end+5])"
      ],
      "metadata": {
        "id": "0b3w3kuDJNR7"
      },
      "execution_count": 266,
      "outputs": []
    },
    {
      "cell_type": "code",
      "source": [
        "surrounding(doc,1274,1277)"
      ],
      "metadata": {
        "colab": {
          "base_uri": "https://localhost:8080/"
        },
        "id": "9oe8PlKvJceT",
        "outputId": "a14f3548-fe88-48be-ce70-399f06b2452f"
      },
      "execution_count": 267,
      "outputs": [
        {
          "output_type": "stream",
          "name": "stdout",
          "text": [
            " By diving I could evade the bullets and, swimming\n",
            "vigorously, reach the bank,\n"
          ]
        }
      ]
    },
    {
      "cell_type": "code",
      "source": [
        "surrounding(doc,3609,3612)"
      ],
      "metadata": {
        "colab": {
          "base_uri": "https://localhost:8080/"
        },
        "id": "qJtXp6SVKMzz",
        "outputId": "4dc058f4-8749-4a3f-b908-33d52a068838"
      },
      "execution_count": 268,
      "outputs": [
        {
          "output_type": "stream",
          "name": "stdout",
          "text": [
            "saw all this over his shoulder; he was now swimming\n",
            "vigorously with the current.  \n"
          ]
        }
      ]
    },
    {
      "cell_type": "markdown",
      "source": [
        "**EXTRA CREDIT:<br>Print the *sentence* that contains each found match**"
      ],
      "metadata": {
        "id": "z5PPCRMpKivE"
      }
    },
    {
      "cell_type": "code",
      "source": [
        "for sentence in doc_sentences:\n",
        "  if found_matches[1][1] < sentence.end:\n",
        "    print(sentence)\n",
        "    break\n"
      ],
      "metadata": {
        "colab": {
          "base_uri": "https://localhost:8080/"
        },
        "id": "YPwkZYGMJgqz",
        "outputId": "56499bf1-1370-424f-b397-c4ec81e90f7f"
      },
      "execution_count": 269,
      "outputs": [
        {
          "output_type": "stream",
          "name": "stdout",
          "text": [
            "The hunted man saw all this over his shoulder; he was now swimming\n",
            "vigorously with the current.  \n"
          ]
        }
      ]
    },
    {
      "cell_type": "code",
      "source": [
        "for sentence in doc_sentences:\n",
        "  if found_matches[0][1] < sentence.end:\n",
        "    print(sentence)\n",
        "    break"
      ],
      "metadata": {
        "colab": {
          "base_uri": "https://localhost:8080/"
        },
        "id": "28-k0WcrJ29d",
        "outputId": "1379e479-8141-4ce7-90e3-5be2164ddb7f"
      },
      "execution_count": 270,
      "outputs": [
        {
          "output_type": "stream",
          "name": "stdout",
          "text": [
            "By diving I could evade the bullets and, swimming\n",
            "vigorously, reach the bank, take to the woods and get away home.  \n"
          ]
        }
      ]
    },
    {
      "cell_type": "code",
      "source": [],
      "metadata": {
        "id": "JaJ1kN90KaQb"
      },
      "execution_count": null,
      "outputs": []
    }
  ]
}