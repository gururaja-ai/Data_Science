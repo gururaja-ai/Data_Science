{
  "nbformat": 4,
  "nbformat_minor": 0,
  "metadata": {
    "colab": {
      "provenance": [],
      "authorship_tag": "ABX9TyO22v6yfb+qo+a3L3Ab1r/n",
      "include_colab_link": true
    },
    "kernelspec": {
      "name": "python3",
      "display_name": "Python 3"
    },
    "language_info": {
      "name": "python"
    }
  },
  "cells": [
    {
      "cell_type": "markdown",
      "metadata": {
        "id": "view-in-github",
        "colab_type": "text"
      },
      "source": [
        "<a href=\"https://colab.research.google.com/github/gururaja-ai/Data_Science/blob/Python_Programming/Python_Day_01.ipynb\" target=\"_parent\"><img src=\"https://colab.research.google.com/assets/colab-badge.svg\" alt=\"Open In Colab\"/></a>"
      ]
    },
    {
      "cell_type": "markdown",
      "source": [
        "Print Statement"
      ],
      "metadata": {
        "id": "wgM4KvIIG90x"
      }
    },
    {
      "cell_type": "code",
      "execution_count": 1,
      "metadata": {
        "colab": {
          "base_uri": "https://localhost:8080/"
        },
        "id": "97_sFwKRBgBO",
        "outputId": "b66f6c7a-9feb-456e-aa7c-f2f53039dfa1"
      },
      "outputs": [
        {
          "output_type": "stream",
          "name": "stdout",
          "text": [
            "Hello World\n"
          ]
        }
      ],
      "source": [
        "print(\"Hello World!\")"
      ]
    },
    {
      "cell_type": "markdown",
      "source": [
        "Adding New Line"
      ],
      "metadata": {
        "id": "1XilsmuwHBft"
      }
    },
    {
      "cell_type": "code",
      "source": [
        "print(\"Hello World!\\nHello World!\\nHello World!\")"
      ],
      "metadata": {
        "colab": {
          "base_uri": "https://localhost:8080/"
        },
        "id": "l1zv2igKB9Ed",
        "outputId": "cf09d40b-9be9-4cf7-f6b3-ae97202131ad"
      },
      "execution_count": 4,
      "outputs": [
        {
          "output_type": "stream",
          "name": "stdout",
          "text": [
            "Hello World!\n",
            "Hello World!\n",
            "Hello World!\n"
          ]
        }
      ]
    },
    {
      "cell_type": "markdown",
      "source": [
        "String Contactination"
      ],
      "metadata": {
        "id": "eedB1aCtG7DY"
      }
    },
    {
      "cell_type": "code",
      "source": [
        "print(\"Hello\" + \" Gururaja\")"
      ],
      "metadata": {
        "colab": {
          "base_uri": "https://localhost:8080/"
        },
        "id": "WK3bTWE3Gaa7",
        "outputId": "8b618365-5f30-42e7-9600-331bf5504382"
      },
      "execution_count": 10,
      "outputs": [
        {
          "output_type": "stream",
          "name": "stdout",
          "text": [
            "Hello Gururaja\n"
          ]
        }
      ]
    },
    {
      "cell_type": "markdown",
      "source": [
        "Indentation Error & Syntax Error"
      ],
      "metadata": {
        "id": "dZDNbYGgHGNM"
      }
    },
    {
      "cell_type": "code",
      "source": [
        "print(\"Hello\" + \" Gururaja\")"
      ],
      "metadata": {
        "colab": {
          "base_uri": "https://localhost:8080/"
        },
        "id": "HqTOyb9RGqnP",
        "outputId": "f21fce56-b921-4d96-9463-2d4c721bfeda"
      },
      "execution_count": 14,
      "outputs": [
        {
          "output_type": "stream",
          "name": "stdout",
          "text": [
            "Hello Gururaja\n"
          ]
        }
      ]
    },
    {
      "cell_type": "code",
      "source": [
        "input(\"What is your name?\")"
      ],
      "metadata": {
        "colab": {
          "base_uri": "https://localhost:8080/",
          "height": 53
        },
        "id": "KVoowexBHM46",
        "outputId": "8587b07b-74e7-4b42-df61-e2c86d20566f"
      },
      "execution_count": 15,
      "outputs": [
        {
          "name": "stdout",
          "output_type": "stream",
          "text": [
            "What is your name?gururaja\n"
          ]
        },
        {
          "output_type": "execute_result",
          "data": {
            "text/plain": [
              "'gururaja'"
            ],
            "application/vnd.google.colaboratory.intrinsic+json": {
              "type": "string"
            }
          },
          "metadata": {},
          "execution_count": 15
        }
      ]
    },
    {
      "cell_type": "code",
      "source": [
        "#thonny IDE for step by step execution of python code"
      ],
      "metadata": {
        "id": "z2eosPKBJeKu"
      },
      "execution_count": 16,
      "outputs": []
    },
    {
      "cell_type": "code",
      "source": [
        "# Hashtag is used for commenting a line, ctrl + / makes the line as a comment text and this line is executed as text information and not processed"
      ],
      "metadata": {
        "id": "ZY-NAXszKupo"
      },
      "execution_count": 17,
      "outputs": []
    },
    {
      "cell_type": "code",
      "source": [],
      "metadata": {
        "id": "1fW6XiVJLGq7"
      },
      "execution_count": null,
      "outputs": []
    },
    {
      "cell_type": "code",
      "source": [
        "print(\"Hello\"+\" \" +input(\"what is your name?\"))"
      ],
      "metadata": {
        "colab": {
          "base_uri": "https://localhost:8080/"
        },
        "id": "imbvxSaiLJBQ",
        "outputId": "f318e7ce-e045-412c-a5db-031d1c55cb23"
      },
      "execution_count": 19,
      "outputs": [
        {
          "output_type": "stream",
          "name": "stdout",
          "text": [
            "what is your name?Gururaja\n",
            "Hello Gururaja\n"
          ]
        }
      ]
    },
    {
      "cell_type": "markdown",
      "source": [
        "#Length of the string"
      ],
      "metadata": {
        "id": "_vk2YnPnOvBs"
      }
    },
    {
      "cell_type": "code",
      "source": [
        "len(\"gururaja\")"
      ],
      "metadata": {
        "colab": {
          "base_uri": "https://localhost:8080/"
        },
        "id": "VMGoPpCHLOIw",
        "outputId": "1b7bd717-1785-44d6-d218-a2d995bb91c1"
      },
      "execution_count": 20,
      "outputs": [
        {
          "output_type": "execute_result",
          "data": {
            "text/plain": [
              "8"
            ]
          },
          "metadata": {},
          "execution_count": 20
        }
      ]
    },
    {
      "cell_type": "markdown",
      "source": [
        "Variable"
      ],
      "metadata": {
        "id": "hU14RgN3O_0N"
      }
    },
    {
      "cell_type": "code",
      "source": [
        "variable_name=\"ths should have proper meaning so that line is readable\""
      ],
      "metadata": {
        "id": "tzMYjWdmOtpu"
      },
      "execution_count": 24,
      "outputs": []
    },
    {
      "cell_type": "code",
      "source": [
        "#cannot be sarted with numbers, cannot have spaces, or cannnot be smiliar to key words"
      ],
      "metadata": {
        "id": "qwO1LsBuO-X2"
      },
      "execution_count": 25,
      "outputs": []
    },
    {
      "cell_type": "markdown",
      "source": [
        "Project 1"
      ],
      "metadata": {
        "id": "jJ7fUFOAQAdj"
      }
    },
    {
      "cell_type": "code",
      "source": [
        "#Band Name Generator"
      ],
      "metadata": {
        "id": "5L38gclYPQKF"
      },
      "execution_count": 28,
      "outputs": []
    },
    {
      "cell_type": "code",
      "source": [
        "#1.Create a greeting for your programme\n",
        "print(\"Hello Welcome to the Band Name Generator\")\n",
        "#2.Ask thre user for the city that they grew up\n",
        "city=input(\"please enter the city you have grown up\\n\")\n",
        "#3. Ask the user for the name of a pet\n",
        "pet=input(\"please enter your pet name\\n\")\n",
        "#4.Combine the name of their city and pet and show them their band name\n",
        "print(\"your band name is\\n\" + city+pet)\n",
        "#5. Make sure the input cursor shows on a new line, see the example at:\n",
        "# https://band-name-genarator-end.appbrewery.repl.run/"
      ],
      "metadata": {
        "colab": {
          "base_uri": "https://localhost:8080/"
        },
        "id": "fag8HIUKQC58",
        "outputId": "3a3ba033-c5fc-4b7f-8d91-35ba9a9382a4"
      },
      "execution_count": 39,
      "outputs": [
        {
          "output_type": "stream",
          "name": "stdout",
          "text": [
            "Hello Welcome to the Band Name Generator\n",
            "please enter the city you have grown up\n",
            "hyd\n",
            "please enter your pet name\n",
            "king\n",
            "your band name is\n",
            "hydking\n"
          ]
        }
      ]
    },
    {
      "cell_type": "code",
      "source": [
        "city=print(\"hello \"+input(\"please enter the city you have grown up\"))"
      ],
      "metadata": {
        "colab": {
          "base_uri": "https://localhost:8080/"
        },
        "id": "_4wRI82oSMFr",
        "outputId": "62be6b41-0174-4110-b318-e7b08f18ea01"
      },
      "execution_count": 34,
      "outputs": [
        {
          "output_type": "stream",
          "name": "stdout",
          "text": [
            "please enter the city you have grown uphyd\n",
            "hello hyd\n"
          ]
        }
      ]
    }
  ]
}