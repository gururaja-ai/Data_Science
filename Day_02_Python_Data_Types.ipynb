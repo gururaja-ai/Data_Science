{
  "nbformat": 4,
  "nbformat_minor": 0,
  "metadata": {
    "colab": {
      "provenance": [],
      "authorship_tag": "ABX9TyOdxwNTsJ5qUz994ruvJSJp",
      "include_colab_link": true
    },
    "kernelspec": {
      "name": "python3",
      "display_name": "Python 3"
    },
    "language_info": {
      "name": "python"
    }
  },
  "cells": [
    {
      "cell_type": "markdown",
      "metadata": {
        "id": "view-in-github",
        "colab_type": "text"
      },
      "source": [
        "<a href=\"https://colab.research.google.com/github/gururaja-ai/Data_Science/blob/Python_Programming/Day_02_Python_Data_Types.ipynb\" target=\"_parent\"><img src=\"https://colab.research.google.com/assets/colab-badge.svg\" alt=\"Open In Colab\"/></a>"
      ]
    },
    {
      "cell_type": "code",
      "execution_count": null,
      "metadata": {
        "colab": {
          "base_uri": "https://localhost:8080/",
          "height": 175
        },
        "id": "hnsXweks18v_",
        "outputId": "ef870923-e9ae-49b8-b3a5-d0d522662faa"
      },
      "outputs": [
        {
          "output_type": "error",
          "ename": "TypeError",
          "evalue": "ignored",
          "traceback": [
            "\u001b[0;31m---------------------------------------------------------------------------\u001b[0m",
            "\u001b[0;31mTypeError\u001b[0m                                 Traceback (most recent call last)",
            "\u001b[0;32m<ipython-input-1-7a4479b9e00a>\u001b[0m in \u001b[0;36m<cell line: 1>\u001b[0;34m()\u001b[0m\n\u001b[0;32m----> 1\u001b[0;31m \u001b[0mprint\u001b[0m\u001b[0;34m(\u001b[0m\u001b[0mlen\u001b[0m\u001b[0;34m(\u001b[0m\u001b[0;36m12345\u001b[0m\u001b[0;34m)\u001b[0m\u001b[0;34m)\u001b[0m\u001b[0;34m\u001b[0m\u001b[0;34m\u001b[0m\u001b[0m\n\u001b[0m",
            "\u001b[0;31mTypeError\u001b[0m: object of type 'int' has no len()"
          ]
        }
      ],
      "source": [
        "print(len(12345))"
      ]
    },
    {
      "cell_type": "code",
      "source": [
        "len(int(12345))"
      ],
      "metadata": {
        "colab": {
          "base_uri": "https://localhost:8080/",
          "height": 175
        },
        "id": "Tal37XM44TLh",
        "outputId": "d181efb4-093f-47ba-f333-5acc98fae439"
      },
      "execution_count": null,
      "outputs": [
        {
          "output_type": "error",
          "ename": "TypeError",
          "evalue": "ignored",
          "traceback": [
            "\u001b[0;31m---------------------------------------------------------------------------\u001b[0m",
            "\u001b[0;31mTypeError\u001b[0m                                 Traceback (most recent call last)",
            "\u001b[0;32m<ipython-input-32-63e1b054f9ac>\u001b[0m in \u001b[0;36m<cell line: 1>\u001b[0;34m()\u001b[0m\n\u001b[0;32m----> 1\u001b[0;31m \u001b[0mlen\u001b[0m\u001b[0;34m(\u001b[0m\u001b[0mint\u001b[0m\u001b[0;34m(\u001b[0m\u001b[0;36m12345\u001b[0m\u001b[0;34m)\u001b[0m\u001b[0;34m)\u001b[0m\u001b[0;34m\u001b[0m\u001b[0;34m\u001b[0m\u001b[0m\n\u001b[0m",
            "\u001b[0;31mTypeError\u001b[0m: object of type 'int' has no len()"
          ]
        }
      ]
    },
    {
      "cell_type": "code",
      "source": [
        "print(\"Hello\"[0]) #subscripting"
      ],
      "metadata": {
        "colab": {
          "base_uri": "https://localhost:8080/"
        },
        "id": "En7UoviI2DaM",
        "outputId": "829106c9-bc9d-41a1-cf8d-70f97ea53217"
      },
      "execution_count": null,
      "outputs": [
        {
          "output_type": "stream",
          "name": "stdout",
          "text": [
            "H\n"
          ]
        }
      ]
    },
    {
      "cell_type": "code",
      "source": [
        "#string"
      ],
      "metadata": {
        "id": "gpXIOgz03lhB"
      },
      "execution_count": null,
      "outputs": []
    },
    {
      "cell_type": "code",
      "source": [
        "print(\"Hello\"[-1])"
      ],
      "metadata": {
        "colab": {
          "base_uri": "https://localhost:8080/"
        },
        "id": "7gdSdq5x2MJ6",
        "outputId": "8f21fba4-f39d-4896-c5d4-207c6563c8ba"
      },
      "execution_count": null,
      "outputs": [
        {
          "output_type": "stream",
          "name": "stdout",
          "text": [
            "o\n"
          ]
        }
      ]
    },
    {
      "cell_type": "code",
      "source": [
        "if print(\"Hello\"[-1]) == print(\"Hello[4]\"):\n",
        "  print(\"Yes\")\n",
        "else:\n",
        "  print(\"No\")"
      ],
      "metadata": {
        "colab": {
          "base_uri": "https://localhost:8080/"
        },
        "id": "JXYMTusX2XFJ",
        "outputId": "aaffc1f9-d9f0-4a45-d927-d8f12ccebed2"
      },
      "execution_count": null,
      "outputs": [
        {
          "output_type": "stream",
          "name": "stdout",
          "text": [
            "o\n",
            "Hello[4]\n",
            "Yes\n"
          ]
        }
      ]
    },
    {
      "cell_type": "code",
      "source": [
        "print(\"1230\"+\"Hello\")"
      ],
      "metadata": {
        "colab": {
          "base_uri": "https://localhost:8080/"
        },
        "id": "6EZPa9Sh2hBD",
        "outputId": "f799d89a-5450-45e4-9342-7ec3efade7c5"
      },
      "execution_count": null,
      "outputs": [
        {
          "output_type": "stream",
          "name": "stdout",
          "text": [
            "1230Hello\n"
          ]
        }
      ]
    },
    {
      "cell_type": "code",
      "source": [
        "print(\"1230\"+\"4567\")"
      ],
      "metadata": {
        "colab": {
          "base_uri": "https://localhost:8080/"
        },
        "id": "mPdAIkmb222y",
        "outputId": "3572d83c-cdef-43af-fe3d-897fd4d25df2"
      },
      "execution_count": null,
      "outputs": [
        {
          "output_type": "stream",
          "name": "stdout",
          "text": [
            "12304567\n"
          ]
        }
      ]
    },
    {
      "cell_type": "code",
      "source": [
        "#integer"
      ],
      "metadata": {
        "id": "U6jGzV0K26ja"
      },
      "execution_count": null,
      "outputs": []
    },
    {
      "cell_type": "code",
      "source": [
        "print(123+456)"
      ],
      "metadata": {
        "colab": {
          "base_uri": "https://localhost:8080/"
        },
        "id": "tYhhOsyx2_Gb",
        "outputId": "f2ead665-71d3-4dff-f174-29bc3e639165"
      },
      "execution_count": null,
      "outputs": [
        {
          "output_type": "stream",
          "name": "stdout",
          "text": [
            "579\n"
          ]
        }
      ]
    },
    {
      "cell_type": "code",
      "source": [
        "123_456_789+10 #_ symbol replaces the  123,456,789 comma position"
      ],
      "metadata": {
        "colab": {
          "base_uri": "https://localhost:8080/"
        },
        "id": "bZnhY35b3CAB",
        "outputId": "a1fe86ed-08a6-498d-f155-1df545bd973d"
      },
      "execution_count": null,
      "outputs": [
        {
          "output_type": "execute_result",
          "data": {
            "text/plain": [
              "123456799"
            ]
          },
          "metadata": {},
          "execution_count": 26
        }
      ]
    },
    {
      "cell_type": "code",
      "source": [
        "#Float"
      ],
      "metadata": {
        "id": "zfjPoXrF3O1i"
      },
      "execution_count": null,
      "outputs": []
    },
    {
      "cell_type": "code",
      "source": [
        "3.14159"
      ],
      "metadata": {
        "colab": {
          "base_uri": "https://localhost:8080/"
        },
        "id": "KUZTLfy43a3K",
        "outputId": "21bb90a2-2aac-409a-a461-f39740265bef"
      },
      "execution_count": null,
      "outputs": [
        {
          "output_type": "execute_result",
          "data": {
            "text/plain": [
              "3.14159"
            ]
          },
          "metadata": {},
          "execution_count": 28
        }
      ]
    },
    {
      "cell_type": "code",
      "source": [
        "type(3.1455)"
      ],
      "metadata": {
        "colab": {
          "base_uri": "https://localhost:8080/"
        },
        "id": "XFMIQuCi3cvh",
        "outputId": "0d7fa047-4907-4ca9-e9ad-eefa9692dfe4"
      },
      "execution_count": null,
      "outputs": [
        {
          "output_type": "execute_result",
          "data": {
            "text/plain": [
              "float"
            ]
          },
          "metadata": {},
          "execution_count": 29
        }
      ]
    },
    {
      "cell_type": "code",
      "source": [
        "#Boolean\n"
      ],
      "metadata": {
        "id": "m-PEXYUP3edp"
      },
      "execution_count": null,
      "outputs": []
    },
    {
      "cell_type": "code",
      "source": [
        "True\n",
        "False"
      ],
      "metadata": {
        "colab": {
          "base_uri": "https://localhost:8080/"
        },
        "id": "cfxLfxik3hAx",
        "outputId": "a21c8fff-db75-4034-dc65-e31e2004c0b6"
      },
      "execution_count": null,
      "outputs": [
        {
          "output_type": "execute_result",
          "data": {
            "text/plain": [
              "False"
            ]
          },
          "metadata": {},
          "execution_count": 31
        }
      ]
    },
    {
      "cell_type": "code",
      "source": [
        "num_char=len(input(\"What is your name?\"))"
      ],
      "metadata": {
        "colab": {
          "base_uri": "https://localhost:8080/"
        },
        "id": "089UB-Td3y8B",
        "outputId": "06699b62-275f-4082-e350-870ba6d0ccbb"
      },
      "execution_count": null,
      "outputs": [
        {
          "name": "stdout",
          "output_type": "stream",
          "text": [
            "What is your name?gururaja\n"
          ]
        }
      ]
    },
    {
      "cell_type": "code",
      "source": [
        "print(\"Your name has \" + num_char +\"Characters.\") #we cannot contacetenate integers & strings"
      ],
      "metadata": {
        "colab": {
          "base_uri": "https://localhost:8080/",
          "height": 175
        },
        "id": "_OdB0MpE4b-8",
        "outputId": "44a50d0d-0b0e-4c92-f503-77cea7657445"
      },
      "execution_count": null,
      "outputs": [
        {
          "output_type": "error",
          "ename": "TypeError",
          "evalue": "ignored",
          "traceback": [
            "\u001b[0;31m---------------------------------------------------------------------------\u001b[0m",
            "\u001b[0;31mTypeError\u001b[0m                                 Traceback (most recent call last)",
            "\u001b[0;32m<ipython-input-34-976b9e238b70>\u001b[0m in \u001b[0;36m<cell line: 1>\u001b[0;34m()\u001b[0m\n\u001b[0;32m----> 1\u001b[0;31m \u001b[0mprint\u001b[0m\u001b[0;34m(\u001b[0m\u001b[0;34m\"Your name has \"\u001b[0m \u001b[0;34m+\u001b[0m \u001b[0mnum_char\u001b[0m\u001b[0;34m+\u001b[0m\u001b[0;34m\"Characters.\"\u001b[0m\u001b[0;34m)\u001b[0m\u001b[0;34m\u001b[0m\u001b[0;34m\u001b[0m\u001b[0m\n\u001b[0m",
            "\u001b[0;31mTypeError\u001b[0m: can only concatenate str (not \"int\") to str"
          ]
        }
      ]
    },
    {
      "cell_type": "code",
      "source": [
        "print(type(num_char))"
      ],
      "metadata": {
        "colab": {
          "base_uri": "https://localhost:8080/"
        },
        "id": "_eiIbzu74kjx",
        "outputId": "de3b972d-a7ac-4988-81d0-ee8859b39897"
      },
      "execution_count": null,
      "outputs": [
        {
          "output_type": "stream",
          "name": "stdout",
          "text": [
            "<class 'int'>\n"
          ]
        }
      ]
    },
    {
      "cell_type": "code",
      "source": [
        "#type conversion or type casting refers the same"
      ],
      "metadata": {
        "id": "v1vdvY_L4yt4"
      },
      "execution_count": null,
      "outputs": []
    },
    {
      "cell_type": "code",
      "source": [
        "new_num_char=str(num_char)"
      ],
      "metadata": {
        "id": "5_fsJ-lX42xs"
      },
      "execution_count": null,
      "outputs": []
    },
    {
      "cell_type": "code",
      "source": [
        "print(type(new_num_char))"
      ],
      "metadata": {
        "colab": {
          "base_uri": "https://localhost:8080/"
        },
        "id": "noEdwD0f42u2",
        "outputId": "3a14e54c-e889-4c2a-8ec6-3ffc6138cb6e"
      },
      "execution_count": null,
      "outputs": [
        {
          "output_type": "stream",
          "name": "stdout",
          "text": [
            "<class 'str'>\n"
          ]
        }
      ]
    },
    {
      "cell_type": "code",
      "source": [
        "print(\"Your name has \"+ new_num_char+\" characters\")"
      ],
      "metadata": {
        "colab": {
          "base_uri": "https://localhost:8080/"
        },
        "id": "uGES_65_42rc",
        "outputId": "b5738f98-95cf-4685-f8ba-f3e41140ab31"
      },
      "execution_count": null,
      "outputs": [
        {
          "output_type": "stream",
          "name": "stdout",
          "text": [
            "Your name has 8 characters\n"
          ]
        }
      ]
    },
    {
      "cell_type": "code",
      "source": [
        "a=str(123)"
      ],
      "metadata": {
        "id": "YYM-Hu-u42o0"
      },
      "execution_count": null,
      "outputs": []
    },
    {
      "cell_type": "code",
      "source": [
        "print(type(a))"
      ],
      "metadata": {
        "colab": {
          "base_uri": "https://localhost:8080/"
        },
        "id": "TY4d5b1_42l1",
        "outputId": "80ce604b-a9f0-4744-fcdf-9dda70abe948"
      },
      "execution_count": null,
      "outputs": [
        {
          "output_type": "stream",
          "name": "stdout",
          "text": [
            "<class 'str'>\n"
          ]
        }
      ]
    },
    {
      "cell_type": "code",
      "source": [
        "print( 70+ float(\"10.5\"))"
      ],
      "metadata": {
        "colab": {
          "base_uri": "https://localhost:8080/"
        },
        "id": "shOMrNUv42jG",
        "outputId": "9e92aea8-0937-4f3c-a8d8-ee81f3f8fc0d"
      },
      "execution_count": null,
      "outputs": [
        {
          "output_type": "stream",
          "name": "stdout",
          "text": [
            "80.5\n"
          ]
        }
      ]
    },
    {
      "cell_type": "code",
      "source": [
        "print(str(70) + str(10.5))"
      ],
      "metadata": {
        "colab": {
          "base_uri": "https://localhost:8080/"
        },
        "id": "zF1dMNJN42gV",
        "outputId": "c432f45e-49d6-4c0e-8496-846be4597d51"
      },
      "execution_count": null,
      "outputs": [
        {
          "output_type": "stream",
          "name": "stdout",
          "text": [
            "7010.5\n"
          ]
        }
      ]
    },
    {
      "cell_type": "code",
      "source": [
        "two_digit_number = input()\n",
        "# 🚨 Don't change the code above 👆\n",
        "####################################\n",
        "# Write your code below this line 👇\n",
        "print(type(two_digit_number))\n",
        "a=str(two_digit_number)\n",
        "print(int(a[0])+int(a[1]))  #try not to make code complicated much"
      ],
      "metadata": {
        "colab": {
          "base_uri": "https://localhost:8080/"
        },
        "id": "hIXgwrFK5qRJ",
        "outputId": "e9846086-d728-4d16-d965-0bb16cb4f5ae"
      },
      "execution_count": null,
      "outputs": [
        {
          "output_type": "stream",
          "name": "stdout",
          "text": [
            "12\n",
            "<class 'str'>\n",
            "3\n"
          ]
        }
      ]
    },
    {
      "cell_type": "code",
      "source": [
        "#mathematical operations with integers and floats"
      ],
      "metadata": {
        "id": "3sXo3uJx6oog"
      },
      "execution_count": null,
      "outputs": []
    },
    {
      "cell_type": "code",
      "source": [
        "30+5"
      ],
      "metadata": {
        "colab": {
          "base_uri": "https://localhost:8080/"
        },
        "id": "bt3Dccbj-WrJ",
        "outputId": "9c87044c-9dd4-4f80-eb9a-0eed1ed7e2da"
      },
      "execution_count": null,
      "outputs": [
        {
          "output_type": "execute_result",
          "data": {
            "text/plain": [
              "35"
            ]
          },
          "metadata": {},
          "execution_count": 55
        }
      ]
    },
    {
      "cell_type": "code",
      "source": [
        "30-5\n"
      ],
      "metadata": {
        "colab": {
          "base_uri": "https://localhost:8080/"
        },
        "id": "_d4GDspc-pj6",
        "outputId": "008aa05b-a143-4180-a1d2-33cf129c3973"
      },
      "execution_count": null,
      "outputs": [
        {
          "output_type": "execute_result",
          "data": {
            "text/plain": [
              "25"
            ]
          },
          "metadata": {},
          "execution_count": 56
        }
      ]
    },
    {
      "cell_type": "code",
      "source": [
        "30*5\n"
      ],
      "metadata": {
        "colab": {
          "base_uri": "https://localhost:8080/"
        },
        "id": "5pnvivJS-pgt",
        "outputId": "fee5077d-0fc3-4272-d120-647a423a9f2e"
      },
      "execution_count": null,
      "outputs": [
        {
          "output_type": "execute_result",
          "data": {
            "text/plain": [
              "150"
            ]
          },
          "metadata": {},
          "execution_count": 57
        }
      ]
    },
    {
      "cell_type": "code",
      "source": [
        "30/5"
      ],
      "metadata": {
        "colab": {
          "base_uri": "https://localhost:8080/"
        },
        "id": "V5tJffsj-pco",
        "outputId": "b645877c-8898-4ed9-c16a-a24ce6365bc0"
      },
      "execution_count": null,
      "outputs": [
        {
          "output_type": "execute_result",
          "data": {
            "text/plain": [
              "6.0"
            ]
          },
          "metadata": {},
          "execution_count": 58
        }
      ]
    },
    {
      "cell_type": "code",
      "source": [
        "30**5"
      ],
      "metadata": {
        "colab": {
          "base_uri": "https://localhost:8080/"
        },
        "id": "y3NcOASB-bmR",
        "outputId": "99f02967-7f33-4396-c958-04ced5c83e79"
      },
      "execution_count": null,
      "outputs": [
        {
          "output_type": "execute_result",
          "data": {
            "text/plain": [
              "24300000"
            ]
          },
          "metadata": {},
          "execution_count": 59
        }
      ]
    },
    {
      "cell_type": "code",
      "source": [
        "31//5"
      ],
      "metadata": {
        "colab": {
          "base_uri": "https://localhost:8080/"
        },
        "id": "nky6mqwu-lHB",
        "outputId": "d5956f1a-fe78-431b-b2a4-01149f25a23a"
      },
      "execution_count": null,
      "outputs": [
        {
          "output_type": "execute_result",
          "data": {
            "text/plain": [
              "6"
            ]
          },
          "metadata": {},
          "execution_count": 60
        }
      ]
    },
    {
      "cell_type": "code",
      "source": [
        "# from __future__ import division\n",
        "# BODMAS Rule i.e PEMDAS  Parenthese  > Exponents > Multiplication > division > Addition > Subtraction"
      ],
      "metadata": {
        "id": "iPwNhlgf-wJx"
      },
      "execution_count": null,
      "outputs": []
    },
    {
      "cell_type": "code",
      "source": [
        "30/10*2/2"
      ],
      "metadata": {
        "colab": {
          "base_uri": "https://localhost:8080/"
        },
        "id": "yFTkaxsa-0Q7",
        "outputId": "29a71c45-3e1c-4423-f275-6d728ec31147"
      },
      "execution_count": null,
      "outputs": [
        {
          "output_type": "execute_result",
          "data": {
            "text/plain": [
              "3.0"
            ]
          },
          "metadata": {},
          "execution_count": 63
        }
      ]
    },
    {
      "cell_type": "code",
      "source": [
        "30*10/2*2 #follows BODMAS Rule"
      ],
      "metadata": {
        "colab": {
          "base_uri": "https://localhost:8080/"
        },
        "id": "cj36a0ys-0N_",
        "outputId": "f26f6905-18c9-45d3-a79b-72f1e020a33b"
      },
      "execution_count": null,
      "outputs": [
        {
          "output_type": "execute_result",
          "data": {
            "text/plain": [
              "300.0"
            ]
          },
          "metadata": {},
          "execution_count": 64
        }
      ]
    },
    {
      "cell_type": "code",
      "source": [
        "print(8/3)"
      ],
      "metadata": {
        "id": "DFeQY9yp-0K8",
        "colab": {
          "base_uri": "https://localhost:8080/"
        },
        "outputId": "003e1f1c-cb64-423a-9cab-f5a0701a504b"
      },
      "execution_count": null,
      "outputs": [
        {
          "output_type": "stream",
          "name": "stdout",
          "text": [
            "2.6666666666666665\n"
          ]
        }
      ]
    },
    {
      "cell_type": "code",
      "source": [
        "print(int(8/3))"
      ],
      "metadata": {
        "id": "YjJVZfmi-0Hu",
        "colab": {
          "base_uri": "https://localhost:8080/"
        },
        "outputId": "7999ad13-6ef5-4bf2-d3d1-e5761aafefb6"
      },
      "execution_count": null,
      "outputs": [
        {
          "output_type": "stream",
          "name": "stdout",
          "text": [
            "2\n"
          ]
        }
      ]
    },
    {
      "cell_type": "code",
      "source": [
        "print(round(8/3))"
      ],
      "metadata": {
        "id": "glztdlaH-0Dd",
        "colab": {
          "base_uri": "https://localhost:8080/"
        },
        "outputId": "6cf625d6-2f6e-4356-b65e-c8c979acaa0e"
      },
      "execution_count": null,
      "outputs": [
        {
          "output_type": "stream",
          "name": "stdout",
          "text": [
            "3\n"
          ]
        }
      ]
    },
    {
      "cell_type": "code",
      "source": [
        "print(round(8/3,2))"
      ],
      "metadata": {
        "id": "wvPZqsBh-z_-",
        "colab": {
          "base_uri": "https://localhost:8080/"
        },
        "outputId": "f134cccd-108a-4e36-fe06-d3df4ca21a1f"
      },
      "execution_count": null,
      "outputs": [
        {
          "output_type": "stream",
          "name": "stdout",
          "text": [
            "2.67\n"
          ]
        }
      ]
    },
    {
      "cell_type": "code",
      "source": [
        "print(8//3)"
      ],
      "metadata": {
        "id": "rFkvj8wz-z8t",
        "colab": {
          "base_uri": "https://localhost:8080/"
        },
        "outputId": "f85c2957-1a6e-4ce5-98ff-1b985f099649"
      },
      "execution_count": null,
      "outputs": [
        {
          "output_type": "stream",
          "name": "stdout",
          "text": [
            "2\n"
          ]
        }
      ]
    },
    {
      "cell_type": "code",
      "source": [
        "result=4/2\n",
        "result"
      ],
      "metadata": {
        "id": "-XHWMR6J-z5s",
        "colab": {
          "base_uri": "https://localhost:8080/"
        },
        "outputId": "c2c2d6b3-e1cf-49e2-931d-6296ff71ba73"
      },
      "execution_count": null,
      "outputs": [
        {
          "output_type": "execute_result",
          "data": {
            "text/plain": [
              "2.0"
            ]
          },
          "metadata": {},
          "execution_count": 6
        }
      ]
    },
    {
      "cell_type": "code",
      "source": [
        "result/=2"
      ],
      "metadata": {
        "id": "TmGibSga-z2k"
      },
      "execution_count": null,
      "outputs": []
    },
    {
      "cell_type": "code",
      "source": [
        "result"
      ],
      "metadata": {
        "id": "_RPCc_nz-zzr",
        "colab": {
          "base_uri": "https://localhost:8080/"
        },
        "outputId": "f655acb5-77e7-4481-bc94-376d56b9378c"
      },
      "execution_count": null,
      "outputs": [
        {
          "output_type": "execute_result",
          "data": {
            "text/plain": [
              "1.0"
            ]
          },
          "metadata": {},
          "execution_count": 8
        }
      ]
    },
    {
      "cell_type": "code",
      "source": [
        "score = 0"
      ],
      "metadata": {
        "id": "WHdlGqxV-zwr"
      },
      "execution_count": null,
      "outputs": []
    },
    {
      "cell_type": "code",
      "source": [
        "score = score + 1"
      ],
      "metadata": {
        "id": "V-RERA7IG5o7"
      },
      "execution_count": null,
      "outputs": []
    },
    {
      "cell_type": "code",
      "source": [
        "score"
      ],
      "metadata": {
        "colab": {
          "base_uri": "https://localhost:8080/"
        },
        "id": "NF1lGvqzG8Tc",
        "outputId": "122bac43-cd47-49c0-c770-381fbd9779a9"
      },
      "execution_count": null,
      "outputs": [
        {
          "output_type": "execute_result",
          "data": {
            "text/plain": [
              "1"
            ]
          },
          "metadata": {},
          "execution_count": 11
        }
      ]
    },
    {
      "cell_type": "code",
      "source": [
        "score += 1\n",
        "score"
      ],
      "metadata": {
        "colab": {
          "base_uri": "https://localhost:8080/"
        },
        "id": "iVPe6FmVG9ah",
        "outputId": "949f0d25-7d31-40fc-c16b-c521285c5a40"
      },
      "execution_count": null,
      "outputs": [
        {
          "output_type": "execute_result",
          "data": {
            "text/plain": [
              "2"
            ]
          },
          "metadata": {},
          "execution_count": 12
        }
      ]
    },
    {
      "cell_type": "code",
      "source": [
        "score = 0\n",
        "print(\"your score is \" + (score))"
      ],
      "metadata": {
        "colab": {
          "base_uri": "https://localhost:8080/",
          "height": 192
        },
        "id": "rCPqkNHfHAwN",
        "outputId": "74a2e25c-489b-4482-a7a5-ad2a40e67b94"
      },
      "execution_count": null,
      "outputs": [
        {
          "output_type": "error",
          "ename": "TypeError",
          "evalue": "ignored",
          "traceback": [
            "\u001b[0;31m---------------------------------------------------------------------------\u001b[0m",
            "\u001b[0;31mTypeError\u001b[0m                                 Traceback (most recent call last)",
            "\u001b[0;32m<ipython-input-14-938e4c3cbb04>\u001b[0m in \u001b[0;36m<cell line: 2>\u001b[0;34m()\u001b[0m\n\u001b[1;32m      1\u001b[0m \u001b[0mscore\u001b[0m \u001b[0;34m=\u001b[0m \u001b[0;36m0\u001b[0m\u001b[0;34m\u001b[0m\u001b[0;34m\u001b[0m\u001b[0m\n\u001b[0;32m----> 2\u001b[0;31m \u001b[0mprint\u001b[0m\u001b[0;34m(\u001b[0m\u001b[0;34m\"your score is \"\u001b[0m \u001b[0;34m+\u001b[0m \u001b[0;34m(\u001b[0m\u001b[0mscore\u001b[0m\u001b[0;34m)\u001b[0m\u001b[0;34m)\u001b[0m\u001b[0;34m\u001b[0m\u001b[0;34m\u001b[0m\u001b[0m\n\u001b[0m",
            "\u001b[0;31mTypeError\u001b[0m: can only concatenate str (not \"int\") to str"
          ]
        }
      ]
    },
    {
      "cell_type": "markdown",
      "source": [
        "#f STRING"
      ],
      "metadata": {
        "id": "oiCzvUCJIhE7"
      }
    },
    {
      "cell_type": "code",
      "source": [
        "score = 0\n",
        "print(\"your score is \" + str(score))"
      ],
      "metadata": {
        "colab": {
          "base_uri": "https://localhost:8080/"
        },
        "id": "iWeh1GimHZYT",
        "outputId": "78006afa-c635-403a-ee9c-55c9cd439ad6"
      },
      "execution_count": null,
      "outputs": [
        {
          "output_type": "stream",
          "name": "stdout",
          "text": [
            "your score is 0\n"
          ]
        }
      ]
    },
    {
      "cell_type": "code",
      "source": [
        "score = 0\n",
        "height = 1.8\n",
        "iswinning=True"
      ],
      "metadata": {
        "id": "uwf5jFomILVY"
      },
      "execution_count": null,
      "outputs": []
    },
    {
      "cell_type": "code",
      "source": [
        "print(\"your score is \" + score + height + iswinning)"
      ],
      "metadata": {
        "colab": {
          "base_uri": "https://localhost:8080/",
          "height": 175
        },
        "id": "KgyKIYxpIGkL",
        "outputId": "2f90ce7a-a962-4a78-80f7-75dc537c5e95"
      },
      "execution_count": null,
      "outputs": [
        {
          "output_type": "error",
          "ename": "TypeError",
          "evalue": "ignored",
          "traceback": [
            "\u001b[0;31m---------------------------------------------------------------------------\u001b[0m",
            "\u001b[0;31mTypeError\u001b[0m                                 Traceback (most recent call last)",
            "\u001b[0;32m<ipython-input-18-66c15cf3c439>\u001b[0m in \u001b[0;36m<cell line: 1>\u001b[0;34m()\u001b[0m\n\u001b[0;32m----> 1\u001b[0;31m \u001b[0mprint\u001b[0m\u001b[0;34m(\u001b[0m\u001b[0;34m\"your score is \"\u001b[0m \u001b[0;34m+\u001b[0m \u001b[0mscore\u001b[0m \u001b[0;34m+\u001b[0m \u001b[0mheight\u001b[0m \u001b[0;34m+\u001b[0m \u001b[0miswinning\u001b[0m\u001b[0;34m)\u001b[0m\u001b[0;34m\u001b[0m\u001b[0;34m\u001b[0m\u001b[0m\n\u001b[0m",
            "\u001b[0;31mTypeError\u001b[0m: can only concatenate str (not \"int\") to str"
          ]
        }
      ]
    },
    {
      "cell_type": "code",
      "source": [
        "print(\"your score is \" + str(score) + str(height) + str(iswinning))"
      ],
      "metadata": {
        "colab": {
          "base_uri": "https://localhost:8080/"
        },
        "id": "BYgPBWF_IWqw",
        "outputId": "d5344435-a87a-4033-9f6f-b78ce7112b22"
      },
      "execution_count": null,
      "outputs": [
        {
          "output_type": "stream",
          "name": "stdout",
          "text": [
            "your score is 01.8True\n"
          ]
        }
      ]
    },
    {
      "cell_type": "code",
      "source": [
        "score = 0\n",
        "height = 1.8\n",
        "iswinning=True\n",
        "#f-string\n",
        "print(f\" your score is {score}, your height is {height}, your are winning is {iswinning}\")"
      ],
      "metadata": {
        "colab": {
          "base_uri": "https://localhost:8080/"
        },
        "id": "eHaXer7mHe0x",
        "outputId": "a7269bda-891e-496e-821e-8e00b946cb40"
      },
      "execution_count": null,
      "outputs": [
        {
          "output_type": "stream",
          "name": "stdout",
          "text": [
            " your score is 0, your height is 1.8, your are winning is True\n"
          ]
        }
      ]
    },
    {
      "cell_type": "markdown",
      "source": [
        "tip calculator - project"
      ],
      "metadata": {
        "id": "AE977GcuQptg"
      }
    },
    {
      "cell_type": "code",
      "source": [
        "print(\" Welcome to the tip calculator.\")\n",
        "bill = float(input(\"What was the total bill? $\"))\n",
        "print(f'bill = ${bill}')"
      ],
      "metadata": {
        "colab": {
          "base_uri": "https://localhost:8080/"
        },
        "id": "hi3AnLuJOle3",
        "outputId": "30d22f7f-8497-47cd-a8fa-6b198d9bbbcd"
      },
      "execution_count": null,
      "outputs": [
        {
          "output_type": "stream",
          "name": "stdout",
          "text": [
            " Welcome to the tip calculator.\n",
            "What was the total bill? $150\n",
            "bill = $150.0\n"
          ]
        }
      ]
    },
    {
      "cell_type": "code",
      "source": [
        "Tip=float(input(\"What percentage tip would you like to give? 10, 12, or 15? \"))\n",
        "print(f\"Tip : {Tip}\")"
      ],
      "metadata": {
        "colab": {
          "base_uri": "https://localhost:8080/"
        },
        "id": "PuIDCHqBOpp1",
        "outputId": "23f1b9a1-fbcd-46b3-ca7b-97313f17fcec"
      },
      "execution_count": null,
      "outputs": [
        {
          "output_type": "stream",
          "name": "stdout",
          "text": [
            "What percentage tip would you like to give? 10, 12, or 15? 15\n",
            "Tip : 15.0\n"
          ]
        }
      ]
    },
    {
      "cell_type": "code",
      "source": [
        "Members=int(input(\"How many people to split the bill?\"))\n",
        "print(f\"Bill is divided among the {Members} members\")"
      ],
      "metadata": {
        "colab": {
          "base_uri": "https://localhost:8080/"
        },
        "id": "R9NtFUsxOz-J",
        "outputId": "a7bc9426-0766-49cf-c103-cae8e1ef387a"
      },
      "execution_count": 46,
      "outputs": [
        {
          "output_type": "stream",
          "name": "stdout",
          "text": [
            "How many people to split the bill?5\n",
            "Bill is divided among the 5 members\n"
          ]
        }
      ]
    },
    {
      "cell_type": "code",
      "source": [
        "share=print(f\"Each person should pay : $ \" , ( (bill * (1+Tip/100)        ) / Members))"
      ],
      "metadata": {
        "colab": {
          "base_uri": "https://localhost:8080/"
        },
        "id": "qGQy_KBeSzr5",
        "outputId": "f1ee72c2-221c-4041-850a-33197dee2a2f"
      },
      "execution_count": 65,
      "outputs": [
        {
          "output_type": "stream",
          "name": "stdout",
          "text": [
            "Each person should pay : $  34.5\n"
          ]
        }
      ]
    },
    {
      "cell_type": "code",
      "source": [],
      "metadata": {
        "id": "cdrz_LjpUgt2"
      },
      "execution_count": null,
      "outputs": []
    }
  ]
}