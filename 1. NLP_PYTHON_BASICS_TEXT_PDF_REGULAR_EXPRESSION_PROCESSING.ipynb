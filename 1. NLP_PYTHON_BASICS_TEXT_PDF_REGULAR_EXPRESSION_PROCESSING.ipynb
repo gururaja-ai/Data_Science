{
  "nbformat": 4,
  "nbformat_minor": 0,
  "metadata": {
    "colab": {
      "provenance": [],
      "authorship_tag": "ABX9TyNZzVtLQnkceXYe2IEMFa99",
      "include_colab_link": true
    },
    "kernelspec": {
      "name": "python3",
      "display_name": "Python 3"
    },
    "language_info": {
      "name": "python"
    }
  },
  "cells": [
    {
      "cell_type": "markdown",
      "metadata": {
        "id": "view-in-github",
        "colab_type": "text"
      },
      "source": [
        "<a href=\"https://colab.research.google.com/github/gururaja-ai/Data_Science/blob/Natural_Language_Processing/1.%20NLP_PYTHON_BASICS_TEXT_PDF_REGULAR_EXPRESSION_PROCESSING.ipynb\" target=\"_parent\"><img src=\"https://colab.research.google.com/assets/colab-badge.svg\" alt=\"Open In Colab\"/></a>"
      ]
    },
    {
      "cell_type": "markdown",
      "source": [
        "## **Topic 1. Working with Text File**s\n",
        "\n",
        "In this section we'll cover\n",
        "\n",
        "Working with f-strings (formatted string\n",
        "literals) to format printed text\n",
        "Working with Files - opening, reading, writing and appending text files"
      ],
      "metadata": {
        "id": "iZWJEltM8jVc"
      }
    },
    {
      "cell_type": "markdown",
      "source": [
        "**Formatted String Literals (f-strings)**\n",
        "Introduced in Python 3.6, f-strings offer several benefits over the older .format() string method.\n",
        "For one, you can bring outside variables immediately into to the string rather than pass them through as keyword arguments:"
      ],
      "metadata": {
        "id": "axcongCI8mdq"
      }
    },
    {
      "cell_type": "code",
      "execution_count": 1,
      "metadata": {
        "colab": {
          "base_uri": "https://localhost:8080/"
        },
        "id": "feVgr4JD8hBU",
        "outputId": "287160b1-878e-4296-d158-2b99bce958fb"
      },
      "outputs": [
        {
          "output_type": "stream",
          "name": "stdout",
          "text": [
            "his name is gururaja\n"
          ]
        }
      ],
      "source": [
        "name='gururaja'\n",
        "print(\"his name is {var}\".format(var=name))"
      ]
    },
    {
      "cell_type": "code",
      "source": [
        "print(f'his name is {name}')"
      ],
      "metadata": {
        "colab": {
          "base_uri": "https://localhost:8080/"
        },
        "id": "eZa_HWmL9CFa",
        "outputId": "0fd9ed76-7a25-4f6e-ad8d-ab56b99e486a"
      },
      "execution_count": 2,
      "outputs": [
        {
          "output_type": "stream",
          "name": "stdout",
          "text": [
            "his name is gururaja\n"
          ]
        }
      ]
    },
    {
      "cell_type": "markdown",
      "source": [
        "Pass !r to get the string representation:"
      ],
      "metadata": {
        "id": "YOCtQW3l9TJo"
      }
    },
    {
      "cell_type": "code",
      "source": [
        "print(f'his name is {name!r}')"
      ],
      "metadata": {
        "colab": {
          "base_uri": "https://localhost:8080/"
        },
        "id": "m4BW8GsW9OY-",
        "outputId": "c7e79838-098e-4bb5-884a-5b87753834a4"
      },
      "execution_count": 4,
      "outputs": [
        {
          "output_type": "stream",
          "name": "stdout",
          "text": [
            "his name is 'gururaja'\n"
          ]
        }
      ]
    },
    {
      "cell_type": "code",
      "source": [
        "var=123"
      ],
      "metadata": {
        "id": "QZwi6yng9ehO"
      },
      "execution_count": 5,
      "outputs": []
    },
    {
      "cell_type": "code",
      "source": [
        "print(f'his name is {var!r}')"
      ],
      "metadata": {
        "colab": {
          "base_uri": "https://localhost:8080/"
        },
        "id": "5Y_DH1Vk9l9j",
        "outputId": "80a9aecc-7a0d-411b-985e-61461a66d779"
      },
      "execution_count": 6,
      "outputs": [
        {
          "output_type": "stream",
          "name": "stdout",
          "text": [
            "his name is 123\n"
          ]
        }
      ]
    },
    {
      "cell_type": "code",
      "source": [
        "d = {'a':123,'b':456}"
      ],
      "metadata": {
        "id": "W5x3uWyO-S6j"
      },
      "execution_count": 11,
      "outputs": []
    },
    {
      "cell_type": "code",
      "source": [
        "print(f'address : d['a'] Main Street')"
      ],
      "metadata": {
        "colab": {
          "base_uri": "https://localhost:8080/",
          "height": 140
        },
        "id": "0-z4pqUz9n98",
        "outputId": "ef6812c7-2b01-4395-ddf0-9157573a8fb8"
      },
      "execution_count": 12,
      "outputs": [
        {
          "output_type": "error",
          "ename": "SyntaxError",
          "evalue": "ignored",
          "traceback": [
            "\u001b[0;36m  File \u001b[0;32m\"<ipython-input-12-5164e25b79ec>\"\u001b[0;36m, line \u001b[0;32m1\u001b[0m\n\u001b[0;31m    print(f'address : d['a'] Main Street')\u001b[0m\n\u001b[0m          ^\u001b[0m\n\u001b[0;31mSyntaxError\u001b[0m\u001b[0;31m:\u001b[0m invalid syntax. Perhaps you forgot a comma?\n"
          ]
        }
      ]
    },
    {
      "cell_type": "code",
      "source": [
        "#understand the power of aphostropies here\n",
        "print(f\"address : {d['a']} Main Street\")"
      ],
      "metadata": {
        "colab": {
          "base_uri": "https://localhost:8080/"
        },
        "id": "ouEFd6NV9_wz",
        "outputId": "2171458e-7e97-4755-f86b-3aaaa3d83797"
      },
      "execution_count": 13,
      "outputs": [
        {
          "output_type": "stream",
          "name": "stdout",
          "text": [
            "address : 123 Main Street\n"
          ]
        }
      ]
    },
    {
      "cell_type": "markdown",
      "source": [
        "## **Minimum Widths, Alignment and Padding**\n",
        "You can pass arguments inside a nested set of curly braces to set a minimum width for the field, the alignment and even padding characters."
      ],
      "metadata": {
        "id": "jM4Ke14c_AvF"
      }
    },
    {
      "cell_type": "code",
      "source": [
        "library = [('Author', 'Topic', 'Pages'), ('Twain', 'Rafting', 601), ('Feynman', 'Physics', 95), ('Hamilton', 'Mythology', 144)]"
      ],
      "metadata": {
        "id": "nMVVjwKW_AMd"
      },
      "execution_count": 14,
      "outputs": []
    },
    {
      "cell_type": "code",
      "source": [
        "for author in library:\n",
        "  print(author)\n",
        ""
      ],
      "metadata": {
        "colab": {
          "base_uri": "https://localhost:8080/"
        },
        "id": "BJbofivq_AKH",
        "outputId": "8067a6a5-38dd-4dcd-a039-98039d45fe02"
      },
      "execution_count": 17,
      "outputs": [
        {
          "output_type": "stream",
          "name": "stdout",
          "text": [
            "('Author', 'Topic', 'Pages')\n",
            "('Twain', 'Rafting', 601)\n",
            "('Feynman', 'Physics', 95)\n",
            "('Hamilton', 'Mythology', 144)\n"
          ]
        }
      ]
    },
    {
      "cell_type": "code",
      "source": [
        "for book in library:\n",
        "  print (f'{book[0]:{10}} {book[1]:{10}} {book[2]:{10}}')"
      ],
      "metadata": {
        "colab": {
          "base_uri": "https://localhost:8080/"
        },
        "id": "YroqiQ6l_AG2",
        "outputId": "bbeb6ae4-0713-4466-c5b8-2827d1287a0c"
      },
      "execution_count": 18,
      "outputs": [
        {
          "output_type": "stream",
          "name": "stdout",
          "text": [
            "Author     Topic      Pages     \n",
            "Twain      Rafting           601\n",
            "Feynman    Physics            95\n",
            "Hamilton   Mythology         144\n"
          ]
        }
      ]
    },
    {
      "cell_type": "code",
      "source": [
        "for book in library:\n",
        "  print (f'{book[0]:{10}} {book[1]:{10}} {book[2]:{10}}')"
      ],
      "metadata": {
        "id": "isBeS1_w_ADs"
      },
      "execution_count": null,
      "outputs": []
    },
    {
      "cell_type": "code",
      "source": [
        "for book in library:\n",
        "  print (f'{book[0]:{10}} {book[1]:{10}} {book[2]:.>{10}}')"
      ],
      "metadata": {
        "colab": {
          "base_uri": "https://localhost:8080/"
        },
        "id": "nkFzXkHE_AAl",
        "outputId": "6a362d7a-038f-45b6-d62c-d0ccaecde6f2"
      },
      "execution_count": 21,
      "outputs": [
        {
          "output_type": "stream",
          "name": "stdout",
          "text": [
            "Author     Topic      .....Pages\n",
            "Twain      Rafting    .......601\n",
            "Feynman    Physics    ........95\n",
            "Hamilton   Mythology  .......144\n"
          ]
        }
      ]
    },
    {
      "cell_type": "markdown",
      "source": [
        "## Date Formatting"
      ],
      "metadata": {
        "id": "o8VdkQHtAIUE"
      }
    },
    {
      "cell_type": "code",
      "source": [
        "from datetime import datetime"
      ],
      "metadata": {
        "id": "yFGAgMW0-_9t"
      },
      "execution_count": 22,
      "outputs": []
    },
    {
      "cell_type": "code",
      "source": [
        "today=datetime(year=2023, month=12, day=28)\n",
        "print(today)"
      ],
      "metadata": {
        "colab": {
          "base_uri": "https://localhost:8080/"
        },
        "id": "hN0rZEC6AQeR",
        "outputId": "74164bea-2b0c-4698-9d03-c688a681f4e1"
      },
      "execution_count": 23,
      "outputs": [
        {
          "output_type": "stream",
          "name": "stdout",
          "text": [
            "2023-12-28 00:00:00\n"
          ]
        }
      ]
    },
    {
      "cell_type": "code",
      "source": [
        "print(f'{today:%B%d, %Y}')"
      ],
      "metadata": {
        "colab": {
          "base_uri": "https://localhost:8080/"
        },
        "id": "8j1-SudmAYb0",
        "outputId": "b25441b5-ea22-4483-b1b6-cb659b180e8b"
      },
      "execution_count": 26,
      "outputs": [
        {
          "output_type": "stream",
          "name": "stdout",
          "text": [
            "December28, 2023\n"
          ]
        }
      ]
    },
    {
      "cell_type": "markdown",
      "source": [
        "# Dealing with Test Files"
      ],
      "metadata": {
        "id": "6ZWMB_3UA2Yo"
      }
    },
    {
      "cell_type": "markdown",
      "source": [
        "Python uses file objects to interact with external files on your computer. These file objects can be any sort of file you have on your computer, whether it be an audio file, a text file, emails, Excel documents, etc. Note: You will probably need to install certain libraries or modules to interact with those various file types, but they are easily available. (We will cover downloading modules later on in the course).\n",
        "\n",
        "Python has a built-in open function that allows us to open and play with basic file types. First we will need a file though. We're going to use some IPython magic to create a text file!\n"
      ],
      "metadata": {
        "id": "CTw1xz0fA_n_"
      }
    },
    {
      "cell_type": "markdown",
      "source": [
        "## **Creating a File with IPython**\n",
        "This function is specific to jupyter notebooks! Alternatively, quickly create a simple .txt file with Sublime text editor."
      ],
      "metadata": {
        "id": "HZTJl4QxBEmY"
      }
    },
    {
      "cell_type": "code",
      "source": [
        "%%writefile test.txt\n",
        "Hello, this is a quick test file.\n",
        "This is the second line of the file."
      ],
      "metadata": {
        "colab": {
          "base_uri": "https://localhost:8080/"
        },
        "id": "MQ0N9-5fA-5a",
        "outputId": "2969403c-1d6f-484b-962c-361c6f6bb615"
      },
      "execution_count": 27,
      "outputs": [
        {
          "output_type": "stream",
          "name": "stdout",
          "text": [
            "Writing test.txt\n"
          ]
        }
      ]
    },
    {
      "cell_type": "markdown",
      "source": [
        "## Python Opening a File\n",
        "Know Your File's Location\n",
        "It's easy to get an error on this step:"
      ],
      "metadata": {
        "id": "cQ4K_3IfBQDA"
      }
    },
    {
      "cell_type": "code",
      "source": [
        "myfile=open(\"whoops.txt\")"
      ],
      "metadata": {
        "colab": {
          "base_uri": "https://localhost:8080/",
          "height": 175
        },
        "id": "-uiorkSIAdZm",
        "outputId": "0f95e0ba-0dd3-4527-e590-e17edb027ee8"
      },
      "execution_count": 28,
      "outputs": [
        {
          "output_type": "error",
          "ename": "FileNotFoundError",
          "evalue": "ignored",
          "traceback": [
            "\u001b[0;31m---------------------------------------------------------------------------\u001b[0m",
            "\u001b[0;31mFileNotFoundError\u001b[0m                         Traceback (most recent call last)",
            "\u001b[0;32m<ipython-input-28-310dc57d05e8>\u001b[0m in \u001b[0;36m<cell line: 1>\u001b[0;34m()\u001b[0m\n\u001b[0;32m----> 1\u001b[0;31m \u001b[0mmyfile\u001b[0m\u001b[0;34m=\u001b[0m\u001b[0mopen\u001b[0m\u001b[0;34m(\u001b[0m\u001b[0;34m\"whoops.txt\"\u001b[0m\u001b[0;34m)\u001b[0m\u001b[0;34m\u001b[0m\u001b[0;34m\u001b[0m\u001b[0m\n\u001b[0m",
            "\u001b[0;31mFileNotFoundError\u001b[0m: [Errno 2] No such file or directory: 'whoops.txt'"
          ]
        }
      ]
    },
    {
      "cell_type": "code",
      "source": [
        "pwd"
      ],
      "metadata": {
        "colab": {
          "base_uri": "https://localhost:8080/",
          "height": 36
        },
        "id": "kVsMtl1CBXHL",
        "outputId": "58738bcb-97c7-424f-d175-1b5e13c67fd6"
      },
      "execution_count": 29,
      "outputs": [
        {
          "output_type": "execute_result",
          "data": {
            "text/plain": [
              "'/content'"
            ],
            "application/vnd.google.colaboratory.intrinsic+json": {
              "type": "string"
            }
          },
          "metadata": {},
          "execution_count": 29
        }
      ]
    },
    {
      "cell_type": "code",
      "source": [
        "#open the text.txt file we created\n",
        "my_file=open('test.txt',mode='r')"
      ],
      "metadata": {
        "id": "ZUOXF5dQBY2d"
      },
      "execution_count": 30,
      "outputs": []
    },
    {
      "cell_type": "code",
      "source": [
        "my_file"
      ],
      "metadata": {
        "colab": {
          "base_uri": "https://localhost:8080/"
        },
        "id": "0tAmCNKBBuQv",
        "outputId": "ecf3694a-3703-495b-b557-799f57679433"
      },
      "execution_count": 31,
      "outputs": [
        {
          "output_type": "execute_result",
          "data": {
            "text/plain": [
              "<_io.TextIOWrapper name='test.txt' mode='r' encoding='UTF-8'>"
            ]
          },
          "metadata": {},
          "execution_count": 31
        }
      ]
    },
    {
      "cell_type": "markdown",
      "source": [
        "myfile is now an open file object held in memory. We'll perform some reading and writing exercises, and then we have to close the file to free up memory."
      ],
      "metadata": {
        "id": "qMgEismlBy9C"
      }
    },
    {
      "cell_type": "markdown",
      "source": [
        ".read() and .seek()"
      ],
      "metadata": {
        "id": "AgxL-j1fCDAy"
      }
    },
    {
      "cell_type": "code",
      "source": [
        "note=my_file.read()"
      ],
      "metadata": {
        "id": "zJscZL2oBvrE"
      },
      "execution_count": 33,
      "outputs": []
    },
    {
      "cell_type": "code",
      "source": [
        "note"
      ],
      "metadata": {
        "colab": {
          "base_uri": "https://localhost:8080/",
          "height": 36
        },
        "id": "A6PYZRc-CBiv",
        "outputId": "8f1b1350-7069-4de5-dd5a-3959c3bdbf5d"
      },
      "execution_count": 34,
      "outputs": [
        {
          "output_type": "execute_result",
          "data": {
            "text/plain": [
              "'Hello, this is a quick test file.\\nThis is the second line of the file.\\n'"
            ],
            "application/vnd.google.colaboratory.intrinsic+json": {
              "type": "string"
            }
          },
          "metadata": {},
          "execution_count": 34
        }
      ]
    },
    {
      "cell_type": "code",
      "source": [
        "note"
      ],
      "metadata": {
        "colab": {
          "base_uri": "https://localhost:8080/",
          "height": 36
        },
        "id": "pYOdsFhJCIEE",
        "outputId": "2f7279ca-05f0-4f2e-f74b-99bdeaf39df9"
      },
      "execution_count": 35,
      "outputs": [
        {
          "output_type": "execute_result",
          "data": {
            "text/plain": [
              "'Hello, this is a quick test file.\\nThis is the second line of the file.\\n'"
            ],
            "application/vnd.google.colaboratory.intrinsic+json": {
              "type": "string"
            }
          },
          "metadata": {},
          "execution_count": 35
        }
      ]
    },
    {
      "cell_type": "code",
      "source": [
        "my_file.read()"
      ],
      "metadata": {
        "colab": {
          "base_uri": "https://localhost:8080/",
          "height": 36
        },
        "id": "DLKaSLFACIBR",
        "outputId": "d5332233-2d70-4ac5-9012-106cb66f1b05"
      },
      "execution_count": 37,
      "outputs": [
        {
          "output_type": "execute_result",
          "data": {
            "text/plain": [
              "''"
            ],
            "application/vnd.google.colaboratory.intrinsic+json": {
              "type": "string"
            }
          },
          "metadata": {},
          "execution_count": 37
        }
      ]
    },
    {
      "cell_type": "code",
      "source": [
        "my_file.seek(0)"
      ],
      "metadata": {
        "colab": {
          "base_uri": "https://localhost:8080/"
        },
        "id": "JN4nwt1-CH-s",
        "outputId": "421d9802-218c-4dec-c1f1-bc22ad884da8"
      },
      "execution_count": 38,
      "outputs": [
        {
          "output_type": "execute_result",
          "data": {
            "text/plain": [
              "0"
            ]
          },
          "metadata": {},
          "execution_count": 38
        }
      ]
    },
    {
      "cell_type": "code",
      "source": [
        "my_file.read()"
      ],
      "metadata": {
        "colab": {
          "base_uri": "https://localhost:8080/",
          "height": 36
        },
        "id": "tWPk2ALfCH7l",
        "outputId": "4f4ba5ed-43ff-41a1-98ef-de8e4e90f338"
      },
      "execution_count": 39,
      "outputs": [
        {
          "output_type": "execute_result",
          "data": {
            "text/plain": [
              "'Hello, this is a quick test file.\\nThis is the second line of the file.\\n'"
            ],
            "application/vnd.google.colaboratory.intrinsic+json": {
              "type": "string"
            }
          },
          "metadata": {},
          "execution_count": 39
        }
      ]
    },
    {
      "cell_type": "code",
      "source": [
        "my_file.seek(0)"
      ],
      "metadata": {
        "colab": {
          "base_uri": "https://localhost:8080/"
        },
        "id": "Haj6ffYoCH4k",
        "outputId": "f12a20b2-c0f7-4f88-e46f-b482011969cb"
      },
      "execution_count": 41,
      "outputs": [
        {
          "output_type": "execute_result",
          "data": {
            "text/plain": [
              "0"
            ]
          },
          "metadata": {},
          "execution_count": 41
        }
      ]
    },
    {
      "cell_type": "markdown",
      "source": [
        ".readlines()"
      ],
      "metadata": {
        "id": "4DZJRjFNCh6U"
      }
    },
    {
      "cell_type": "markdown",
      "source": [
        "You can read a file line by line using the readlines method. Use caution with large files, since everything will be held in memory. We will learn how to iterate over large files later in the course."
      ],
      "metadata": {
        "id": "p1AthDmeCmji"
      }
    },
    {
      "cell_type": "code",
      "source": [
        "my_file.readlines()"
      ],
      "metadata": {
        "colab": {
          "base_uri": "https://localhost:8080/"
        },
        "id": "RxXrMDnsClxM",
        "outputId": "7f1fe580-62b5-493f-f755-03b6020293f7"
      },
      "execution_count": 42,
      "outputs": [
        {
          "output_type": "execute_result",
          "data": {
            "text/plain": [
              "['Hello, this is a quick test file.\\n',\n",
              " 'This is the second line of the file.\\n']"
            ]
          },
          "metadata": {},
          "execution_count": 42
        }
      ]
    },
    {
      "cell_type": "markdown",
      "source": [
        "## Writing to a **File**"
      ],
      "metadata": {
        "id": "0-4xmvV0CyAa"
      }
    },
    {
      "cell_type": "markdown",
      "source": [
        "By default, the open() function will only allow us to **read** the file. We need to pass the argument 'w' to write over the file. For example"
      ],
      "metadata": {
        "id": "qzB80laiC13p"
      }
    },
    {
      "cell_type": "code",
      "source": [
        "my_file=open('test.txt','w+')"
      ],
      "metadata": {
        "id": "0Pw_ic50C1nG"
      },
      "execution_count": 43,
      "outputs": []
    },
    {
      "cell_type": "code",
      "source": [
        "my_file.write('This is a new line')"
      ],
      "metadata": {
        "colab": {
          "base_uri": "https://localhost:8080/"
        },
        "id": "Nj6Ve_ceCH1j",
        "outputId": "2cca6f91-0806-4b43-98e1-d8a2688eeb22"
      },
      "execution_count": 44,
      "outputs": [
        {
          "output_type": "execute_result",
          "data": {
            "text/plain": [
              "18"
            ]
          },
          "metadata": {},
          "execution_count": 44
        }
      ]
    },
    {
      "cell_type": "code",
      "source": [
        "my_file.close()"
      ],
      "metadata": {
        "id": "sUC-Ow4tCHx3"
      },
      "execution_count": 45,
      "outputs": []
    },
    {
      "cell_type": "markdown",
      "source": [
        "## **Appending to a File**\n",
        "Passing the argument 'a' opens the file and puts the pointer at the end, so anything written is appended. Like 'w+', 'a+' lets us read and write to a file. If the file does not exist, one will be created."
      ],
      "metadata": {
        "id": "0hJU8iO_DO-Y"
      }
    },
    {
      "cell_type": "code",
      "source": [
        "my_file=open(\"test.txt\",'a+')"
      ],
      "metadata": {
        "id": "B15YtJHjDIpe"
      },
      "execution_count": 46,
      "outputs": []
    },
    {
      "cell_type": "code",
      "source": [
        "my_file.write(\"\\n This is a new line appended to tst.txt\")"
      ],
      "metadata": {
        "colab": {
          "base_uri": "https://localhost:8080/"
        },
        "id": "wVBvub97Dgc-",
        "outputId": "ac8db4a8-36b6-4e9c-e150-eea6347d6621"
      },
      "execution_count": 47,
      "outputs": [
        {
          "output_type": "execute_result",
          "data": {
            "text/plain": [
              "40"
            ]
          },
          "metadata": {},
          "execution_count": 47
        }
      ]
    },
    {
      "cell_type": "code",
      "source": [
        "my_file.write (\"\\n This is another line added\" )"
      ],
      "metadata": {
        "colab": {
          "base_uri": "https://localhost:8080/"
        },
        "id": "w6wipTKwDoM3",
        "outputId": "0f341a02-c85a-4f82-9357-609538b6d1f1"
      },
      "execution_count": 48,
      "outputs": [
        {
          "output_type": "execute_result",
          "data": {
            "text/plain": [
              "28"
            ]
          },
          "metadata": {},
          "execution_count": 48
        }
      ]
    },
    {
      "cell_type": "code",
      "source": [
        "my_file.read()"
      ],
      "metadata": {
        "colab": {
          "base_uri": "https://localhost:8080/",
          "height": 36
        },
        "id": "SyqVRQPtDvFc",
        "outputId": "a57f3c5e-ed4c-4c38-8ffb-7f9801ecd5f0"
      },
      "execution_count": 51,
      "outputs": [
        {
          "output_type": "execute_result",
          "data": {
            "text/plain": [
              "''"
            ],
            "application/vnd.google.colaboratory.intrinsic+json": {
              "type": "string"
            }
          },
          "metadata": {},
          "execution_count": 51
        }
      ]
    },
    {
      "cell_type": "code",
      "source": [
        "my_file.seek(0)"
      ],
      "metadata": {
        "colab": {
          "base_uri": "https://localhost:8080/"
        },
        "id": "UarGPlS3DxhO",
        "outputId": "d8feeee4-832e-454a-9949-f53fea2d364e"
      },
      "execution_count": 52,
      "outputs": [
        {
          "output_type": "execute_result",
          "data": {
            "text/plain": [
              "0"
            ]
          },
          "metadata": {},
          "execution_count": 52
        }
      ]
    },
    {
      "cell_type": "markdown",
      "source": [
        "***Appending with %%writefile***\n",
        "Jupyter notebook users can do the same thing using IPython cell magic:"
      ],
      "metadata": {
        "id": "amfJFHaWEvvZ"
      }
    },
    {
      "cell_type": "code",
      "source": [
        "%%writefile -a test.txt\n",
        "this is dditional text being added to the initial test.txt file\n",
        "this may be probaby 4th line in the test"
      ],
      "metadata": {
        "colab": {
          "base_uri": "https://localhost:8080/"
        },
        "id": "Ulc4IAyYEn48",
        "outputId": "e051e736-9fcb-4a82-e8c3-044df386cb81"
      },
      "execution_count": 54,
      "outputs": [
        {
          "output_type": "stream",
          "name": "stdout",
          "text": [
            "Appending to test.txt\n"
          ]
        }
      ]
    },
    {
      "cell_type": "markdown",
      "source": [
        "Add a blank space if you want the first line to begin on its own line, as Jupyter won't recognize escape sequences like \\n"
      ],
      "metadata": {
        "id": "W8ygNZNmFfxX"
      }
    },
    {
      "cell_type": "code",
      "source": [
        "note=open('test.txt','r')"
      ],
      "metadata": {
        "id": "opc3g-FNFYdS"
      },
      "execution_count": 55,
      "outputs": []
    },
    {
      "cell_type": "code",
      "source": [
        "note.read()"
      ],
      "metadata": {
        "colab": {
          "base_uri": "https://localhost:8080/",
          "height": 53
        },
        "id": "gpQmrhpCGeYS",
        "outputId": "5bd99a04-dcfd-465d-d3b2-654b51bbbea7"
      },
      "execution_count": 58,
      "outputs": [
        {
          "output_type": "execute_result",
          "data": {
            "text/plain": [
              "'This is a new line\\n This is a new line appended to tst.txt\\n This is another line addedthis is dditional text being added to the initial test.txt file\\nthis may be probaby 4th line in the test\\n'"
            ],
            "application/vnd.google.colaboratory.intrinsic+json": {
              "type": "string"
            }
          },
          "metadata": {},
          "execution_count": 58
        }
      ]
    },
    {
      "cell_type": "markdown",
      "source": [
        "Aliases and Context Managers"
      ],
      "metadata": {
        "id": "qQnO8NGoG_5c"
      }
    },
    {
      "cell_type": "markdown",
      "source": [
        "You can assign temporary variable names as aliases, and manage the opening and closing of files automatically using a context manager:"
      ],
      "metadata": {
        "id": "ib_U8knZHEOT"
      }
    },
    {
      "cell_type": "code",
      "source": [
        "with open('test.txt','r') as txt:\n",
        "  first_line=txt.readlines()\n",
        "print(first_line)"
      ],
      "metadata": {
        "colab": {
          "base_uri": "https://localhost:8080/"
        },
        "id": "e8k_GcCzKyMk",
        "outputId": "1e576661-33a8-4810-a1c2-06a1a7b96b2b"
      },
      "execution_count": 68,
      "outputs": [
        {
          "output_type": "stream",
          "name": "stdout",
          "text": [
            "['This is a new line\\n', ' This is a new line appended to tst.txt\\n', ' This is another line addedthis is dditional text being added to the initial test.txt file\\n', 'this may be probaby 4th line in the test\\n']\n"
          ]
        }
      ]
    },
    {
      "cell_type": "code",
      "source": [
        "with open('test.txt','r') as txt:\n",
        "  first_line=txt.readlines()[0]\n",
        "print(first_line)"
      ],
      "metadata": {
        "colab": {
          "base_uri": "https://localhost:8080/"
        },
        "id": "-JfzHBVMHDd1",
        "outputId": "5bec4426-cd55-4553-9d90-56d254bf750e"
      },
      "execution_count": 69,
      "outputs": [
        {
          "output_type": "stream",
          "name": "stdout",
          "text": [
            "This is a new line\n",
            "\n"
          ]
        }
      ]
    },
    {
      "cell_type": "code",
      "source": [
        "with note as txt: #this doesnt work here\n",
        "  first_line=txt.readlines()[0]\n",
        "print(first_line)"
      ],
      "metadata": {
        "colab": {
          "base_uri": "https://localhost:8080/",
          "height": 210
        },
        "id": "WpKjYvvJICgQ",
        "outputId": "b1459d32-e86a-404a-e974-c22a380c321d"
      },
      "execution_count": 71,
      "outputs": [
        {
          "output_type": "error",
          "ename": "ValueError",
          "evalue": "ignored",
          "traceback": [
            "\u001b[0;31m---------------------------------------------------------------------------\u001b[0m",
            "\u001b[0;31mValueError\u001b[0m                                Traceback (most recent call last)",
            "\u001b[0;32m<ipython-input-71-69b2759f6847>\u001b[0m in \u001b[0;36m<cell line: 1>\u001b[0;34m()\u001b[0m\n\u001b[0;32m----> 1\u001b[0;31m \u001b[0;32mwith\u001b[0m \u001b[0mnote\u001b[0m \u001b[0;32mas\u001b[0m \u001b[0mtxt\u001b[0m\u001b[0;34m:\u001b[0m \u001b[0;31m#this doesnt work here\u001b[0m\u001b[0;34m\u001b[0m\u001b[0;34m\u001b[0m\u001b[0m\n\u001b[0m\u001b[1;32m      2\u001b[0m   \u001b[0mfirst_line\u001b[0m\u001b[0;34m=\u001b[0m\u001b[0mtxt\u001b[0m\u001b[0;34m.\u001b[0m\u001b[0mreadlines\u001b[0m\u001b[0;34m(\u001b[0m\u001b[0;34m)\u001b[0m\u001b[0;34m[\u001b[0m\u001b[0;36m0\u001b[0m\u001b[0;34m]\u001b[0m\u001b[0;34m\u001b[0m\u001b[0;34m\u001b[0m\u001b[0m\n\u001b[1;32m      3\u001b[0m \u001b[0mprint\u001b[0m\u001b[0;34m(\u001b[0m\u001b[0mfirst_line\u001b[0m\u001b[0;34m)\u001b[0m\u001b[0;34m\u001b[0m\u001b[0;34m\u001b[0m\u001b[0m\n",
            "\u001b[0;31mValueError\u001b[0m: I/O operation on closed file."
          ]
        }
      ]
    },
    {
      "cell_type": "markdown",
      "source": [
        "Note that the with ... as ...: context manager automatically closed test.txt after assigning the first line of text to first_line:"
      ],
      "metadata": {
        "id": "7iTgx3xHHdSZ"
      }
    },
    {
      "cell_type": "code",
      "source": [
        "txt.read() #throws error"
      ],
      "metadata": {
        "colab": {
          "base_uri": "https://localhost:8080/",
          "height": 175
        },
        "id": "zwzXLIXYGg2W",
        "outputId": "6bc5ea54-945f-4bea-a0a9-41c0248e4e33"
      },
      "execution_count": 74,
      "outputs": [
        {
          "output_type": "error",
          "ename": "ValueError",
          "evalue": "ignored",
          "traceback": [
            "\u001b[0;31m---------------------------------------------------------------------------\u001b[0m",
            "\u001b[0;31mValueError\u001b[0m                                Traceback (most recent call last)",
            "\u001b[0;32m<ipython-input-74-0b427e798708>\u001b[0m in \u001b[0;36m<cell line: 1>\u001b[0;34m()\u001b[0m\n\u001b[0;32m----> 1\u001b[0;31m \u001b[0mtxt\u001b[0m\u001b[0;34m.\u001b[0m\u001b[0mread\u001b[0m\u001b[0;34m(\u001b[0m\u001b[0;34m)\u001b[0m \u001b[0;31m#throws error\u001b[0m\u001b[0;34m\u001b[0m\u001b[0;34m\u001b[0m\u001b[0m\n\u001b[0m",
            "\u001b[0;31mValueError\u001b[0m: I/O operation on closed file."
          ]
        }
      ]
    },
    {
      "cell_type": "markdown",
      "source": [
        "# **Iterating through a File**"
      ],
      "metadata": {
        "id": "UlC2bETwHypm"
      }
    },
    {
      "cell_type": "code",
      "source": [
        "with open('test.txt','r') as txt:\n",
        "  for line in txt:\n",
        "    print(line,end=\"\") #the end \" \" arguement removes extra line breaks"
      ],
      "metadata": {
        "colab": {
          "base_uri": "https://localhost:8080/"
        },
        "id": "7iBHKqjuHm-s",
        "outputId": "ec098478-9973-4d97-ca46-c8d5f5c547d8"
      },
      "execution_count": 75,
      "outputs": [
        {
          "output_type": "stream",
          "name": "stdout",
          "text": [
            "This is a new line\n",
            " This is a new line appended to tst.txt\n",
            " This is another line addedthis is dditional text being added to the initial test.txt file\n",
            "this may be probaby 4th line in the test\n"
          ]
        }
      ]
    },
    {
      "cell_type": "markdown",
      "source": [
        "## **Working with PDF Files**"
      ],
      "metadata": {
        "id": "y182FmGeLrUP"
      }
    },
    {
      "cell_type": "markdown",
      "source": [
        "Often you will have to deal with PDF files. There are many libraries in Python for working with PDFs, each with their pros and cons, the most common one being PyPDF2. You can install it with (note the case-sensitivity, you need to make sure your capitilization matches):\n",
        "\n",
        "pip install PyPDF2\n",
        "Keep in mind that not every PDF file can be read with this library. PDFs that are too blurry, have a special encoding, encrypted, or maybe just created with a particular program that doesn't work well with PyPDF2 won't be able to be read. If you find yourself in this situation, try using the libraries linked above, but keep in mind, these may also not work. The reason for this is because of the many different parameters for a PDF and how non-standard the settings can be, text could be shown as an image instead of a utf-8 encoding. There are many parameters to consider in this aspect.\n",
        "\n",
        "As far as PyPDF2 is concerned, it can only read the text from a PDF document, it won't be able to grab images or other media files from a PDF."
      ],
      "metadata": {
        "id": "7_HacG2BLzGg"
      }
    },
    {
      "cell_type": "markdown",
      "source": [
        "## **Working with PyPDF2**\n",
        "Let's begin by showing the basics of the PyPDF2 library."
      ],
      "metadata": {
        "id": "12-uVMAbLr1C"
      }
    },
    {
      "cell_type": "code",
      "source": [
        "#NOTE CAPITALISATION"
      ],
      "metadata": {
        "id": "hq1tc7rqKWgz"
      },
      "execution_count": 76,
      "outputs": []
    },
    {
      "cell_type": "code",
      "source": [
        "pip install PyPDF2"
      ],
      "metadata": {
        "colab": {
          "base_uri": "https://localhost:8080/"
        },
        "id": "mhbInheGMAH5",
        "outputId": "76f0fc29-40a7-446b-9afd-bfac93ab49dd"
      },
      "execution_count": 77,
      "outputs": [
        {
          "output_type": "stream",
          "name": "stdout",
          "text": [
            "Collecting PyPDF2\n",
            "  Downloading pypdf2-3.0.1-py3-none-any.whl (232 kB)\n",
            "\u001b[?25l     \u001b[90m━━━━━━━━━━━━━━━━━━━━━━━━━━━━━━━━━━━━━━━━\u001b[0m \u001b[32m0.0/232.6 kB\u001b[0m \u001b[31m?\u001b[0m eta \u001b[36m-:--:--\u001b[0m\r\u001b[2K     \u001b[91m━━━━━━━━━━\u001b[0m\u001b[91m╸\u001b[0m\u001b[90m━━━━━━━━━━━━━━━━━━━━━━━━━━━━━\u001b[0m \u001b[32m61.4/232.6 kB\u001b[0m \u001b[31m1.7 MB/s\u001b[0m eta \u001b[36m0:00:01\u001b[0m\r\u001b[2K     \u001b[90m━━━━━━━━━━━━━━━━━━━━━━━━━━━━━━━━━━━━━━━━\u001b[0m \u001b[32m232.6/232.6 kB\u001b[0m \u001b[31m3.8 MB/s\u001b[0m eta \u001b[36m0:00:00\u001b[0m\n",
            "\u001b[?25hInstalling collected packages: PyPDF2\n",
            "Successfully installed PyPDF2-3.0.1\n"
          ]
        }
      ]
    },
    {
      "cell_type": "code",
      "source": [
        "import PyPDF2"
      ],
      "metadata": {
        "id": "1ECfegXvMFQB"
      },
      "execution_count": 78,
      "outputs": []
    },
    {
      "cell_type": "markdown",
      "source": [
        "## **Reading PDFs**\n",
        "First we open a pdf, then create a reader object for it. Notice how we use the binary method of reading , 'rb', instead of just 'r'."
      ],
      "metadata": {
        "id": "4TSRkHwFMMqI"
      }
    },
    {
      "cell_type": "code",
      "source": [
        "#notice we read it ass binary with rb"
      ],
      "metadata": {
        "id": "_J0NF48CMJJ8"
      },
      "execution_count": 79,
      "outputs": []
    },
    {
      "cell_type": "code",
      "source": [
        "f=open(\"/content/US_Declaration.pdf\", 'rb')"
      ],
      "metadata": {
        "id": "tDzwSWDTMh1r"
      },
      "execution_count": 109,
      "outputs": []
    },
    {
      "cell_type": "code",
      "source": [
        "pdf_reader = PyPDF2.PdfReader(f)"
      ],
      "metadata": {
        "id": "YdO1LdkcMPSh"
      },
      "execution_count": 110,
      "outputs": []
    },
    {
      "cell_type": "code",
      "source": [
        "print(len(pdf_reader.pages))"
      ],
      "metadata": {
        "colab": {
          "base_uri": "https://localhost:8080/"
        },
        "id": "JhZAkHx_OygA",
        "outputId": "9bf60595-a887-495b-ab6e-95bad7524435"
      },
      "execution_count": 111,
      "outputs": [
        {
          "output_type": "stream",
          "name": "stdout",
          "text": [
            "5\n"
          ]
        }
      ]
    },
    {
      "cell_type": "code",
      "source": [
        "page_one=pdf_reader.pages[0] #initate reading first page of the pdf"
      ],
      "metadata": {
        "id": "GD19C4wWMPI5"
      },
      "execution_count": 112,
      "outputs": []
    },
    {
      "cell_type": "code",
      "source": [
        "page_one_text=page_one.extract_text() # then extract the text of page 1 in a variablee"
      ],
      "metadata": {
        "id": "qN6t17BAMPGO"
      },
      "execution_count": 113,
      "outputs": []
    },
    {
      "cell_type": "code",
      "source": [
        "#print extrctaed page one"
      ],
      "metadata": {
        "id": "sI62LnnNOms_"
      },
      "execution_count": 114,
      "outputs": []
    },
    {
      "cell_type": "code",
      "source": [
        "page_one_text"
      ],
      "metadata": {
        "colab": {
          "base_uri": "https://localhost:8080/",
          "height": 123
        },
        "id": "hhVOX6eWPGOt",
        "outputId": "9b691734-ae82-4a4d-abac-f7e2d5644a3f"
      },
      "execution_count": 115,
      "outputs": [
        {
          "output_type": "execute_result",
          "data": {
            "text/plain": [
              "\"Declaration of Independence\\nIN CONGRESS, July 4, 1776.  \\nThe unanimous Declaration of the thirteen united States of America,  \\nWhen in the Course of human events, it becomes necessary for one people to dissolve thepolitical bands which have connected them with another, and to assume among the powers of theearth, the separate and equal station to which the Laws of Nature and of Nature's God entitlethem, a decent respect to the opinions of mankind requires that they should declare the causeswhich impel them to the separation. We hold these truths to be self-evident, that all men are created equal, that they are endowed bytheir Creator with certain unalienable Rights, that among these are Life, Liberty and the pursuit\\nof Happiness.— \\x14That to secure these rights, Governments are instituted among Men, derivingtheir just powers from the consent of the governed,—  \\x14That whenever any Form of Government\\nbecomes destructive of these ends, it is the Right of the People to alter or to abolish it, and to\\ninstitute new Government, laying its foundation on such principles and organizing its powers in\\nsuch form, as to them shall seem most likely to effect their Safety and Happiness. Prudence,indeed, will dictate that Governments long established should not be changed for light andtransient causes; and accordingly all experience hath shewn, that mankind are more disposed to\\nsuffer, while evils are sufferable, than to right themselves by abolishing the forms to which theyare accustomed. But when a long train of abuses and usurpations, pursuing invariably the same\\nObject evinces a design to reduce them under absolute Despotism, it is their right, it is their duty,\\nto throw off such Government, and to provide new Guards for their future securit y.— \\x14Such has\\nbeen the patient sufferance of these Colonies; and such is now the necessity which constrainsthem to alter their former Systems of Government. The history of the present King of GreatBritain is a history of repeated injuries and usurpations, all having in direct object the\\nestablishment of an absolute Tyranny over these States. To prove this, let Facts be submitted to a\\ncandid world. \\nHe has refused his Assent to Laws, the most wholesome and necessary for the\\npublic good.He has forbidden his Governors to pass Laws of immediate and pressingimportance, unless suspended in their operation till his Assent should be obtained;and when so suspended, he has utterly neglected to attend to them.He has refused to pass other Laws for the accommodation of large districts of\\npeople, unless those people would relinquish the right of Representation in theLegislature, a right inestimable to them and formidable to tyrants only. He has called together legislative bodies at places unusual, uncomfortable, and distantfrom the depository of their public Records, for the sole purpose of fatiguing them into\\ncompliance with his measures.\""
            ],
            "application/vnd.google.colaboratory.intrinsic+json": {
              "type": "string"
            }
          },
          "metadata": {},
          "execution_count": 115
        }
      ]
    },
    {
      "cell_type": "code",
      "source": [
        "f.close()"
      ],
      "metadata": {
        "id": "QjlYqAFcPIWe"
      },
      "execution_count": null,
      "outputs": []
    },
    {
      "cell_type": "markdown",
      "source": [
        "## **Adding to PDFs**"
      ],
      "metadata": {
        "id": "aSxLP4nUPTER"
      }
    },
    {
      "cell_type": "markdown",
      "source": [
        "We can not write to PDFs using Python because of the differences between the single string type of Python, and the variety of fonts, placements, and other parameters that a PDF could have.\n",
        "\n",
        "What we can do is copy pages and append pages to the end."
      ],
      "metadata": {
        "id": "yz6XhuO2PZGX"
      }
    },
    {
      "cell_type": "code",
      "source": [
        "f=('/content/US_Declaration.pdf','rb')"
      ],
      "metadata": {
        "id": "AOuPzBmpPYxI"
      },
      "execution_count": 117,
      "outputs": []
    },
    {
      "cell_type": "code",
      "source": [
        "page_one=pdf_reader.pages[0] #initate reading first page of the pdf\n"
      ],
      "metadata": {
        "id": "9JyHCwqFPRcO"
      },
      "execution_count": 120,
      "outputs": []
    },
    {
      "cell_type": "code",
      "source": [
        "pdf_writer=PyPDF2.PdfWriter()"
      ],
      "metadata": {
        "id": "Lmh8-eaGP2dG"
      },
      "execution_count": 122,
      "outputs": []
    },
    {
      "cell_type": "code",
      "source": [
        "pdf_writer.add_page(page_one)"
      ],
      "metadata": {
        "id": "bGK94nvZR1e2"
      },
      "execution_count": null,
      "outputs": []
    },
    {
      "cell_type": "code",
      "source": [
        "pdf_output=open(\"Some_new_doc.pdf\",\"wb\")"
      ],
      "metadata": {
        "id": "3TNuqYBHSCkC"
      },
      "execution_count": 126,
      "outputs": []
    },
    {
      "cell_type": "code",
      "source": [
        "pdf_writer.write(pdf_output)"
      ],
      "metadata": {
        "colab": {
          "base_uri": "https://localhost:8080/"
        },
        "id": "tEOKb9DnSmNa",
        "outputId": "f7f4a68e-a541-4c7f-dd4b-eeb6afa5ad1d"
      },
      "execution_count": 127,
      "outputs": [
        {
          "output_type": "execute_result",
          "data": {
            "text/plain": [
              "(False, <_io.BufferedWriter name='Some_new_doc.pdf'>)"
            ]
          },
          "metadata": {},
          "execution_count": 127
        }
      ]
    },
    {
      "cell_type": "code",
      "source": [
        "pdf_output.close()"
      ],
      "metadata": {
        "id": "0esv7QmlSsE8"
      },
      "execution_count": 128,
      "outputs": []
    },
    {
      "cell_type": "code",
      "source": [
        "f.close()"
      ],
      "metadata": {
        "id": "iB3GYjsOSxK-"
      },
      "execution_count": null,
      "outputs": []
    },
    {
      "cell_type": "markdown",
      "source": [
        "## **Simple Example**\n",
        "Let's try to grab all the text from this PDF file"
      ],
      "metadata": {
        "id": "5Haz9Qi1TUO0"
      }
    },
    {
      "cell_type": "code",
      "source": [
        "s=open(\"/content/Some_new_doc.pdf\",'rb')"
      ],
      "metadata": {
        "id": "2CarGu4MSyAi"
      },
      "execution_count": 136,
      "outputs": []
    },
    {
      "cell_type": "code",
      "source": [
        "pdf_text=[0]"
      ],
      "metadata": {
        "id": "Nsu2Z1NlTfqF"
      },
      "execution_count": 137,
      "outputs": []
    },
    {
      "cell_type": "code",
      "source": [
        "pdf_reader=PyPDF2.PdfReader(s)"
      ],
      "metadata": {
        "id": "i_Gg-e-tT6X3"
      },
      "execution_count": 138,
      "outputs": []
    },
    {
      "cell_type": "code",
      "source": [
        "for p in range(len(pdf_reader.pages)):\n",
        "  page=pdf_reader.getPage(p)\n",
        "  pdf_text.append(page.extract_text())\n",
        "  s.close()"
      ],
      "metadata": {
        "id": "e-XPXkzZTj-x"
      },
      "execution_count": 147,
      "outputs": []
    },
    {
      "cell_type": "code",
      "source": [
        "pdf_text"
      ],
      "metadata": {
        "colab": {
          "base_uri": "https://localhost:8080/"
        },
        "id": "Bs6txr40UQAI",
        "outputId": "cb06e02a-b24c-47be-f696-9fe1e57725be"
      },
      "execution_count": 148,
      "outputs": [
        {
          "output_type": "execute_result",
          "data": {
            "text/plain": [
              "[0]"
            ]
          },
          "metadata": {},
          "execution_count": 148
        }
      ]
    },
    {
      "cell_type": "code",
      "source": [
        "print(pdf_text[2])"
      ],
      "metadata": {
        "colab": {
          "base_uri": "https://localhost:8080/",
          "height": 175
        },
        "id": "LQM0_V2PU083",
        "outputId": "d459991e-c5a0-416f-8e67-5eff78c22a17"
      },
      "execution_count": 149,
      "outputs": [
        {
          "output_type": "error",
          "ename": "IndexError",
          "evalue": "ignored",
          "traceback": [
            "\u001b[0;31m---------------------------------------------------------------------------\u001b[0m",
            "\u001b[0;31mIndexError\u001b[0m                                Traceback (most recent call last)",
            "\u001b[0;32m<ipython-input-149-b41a922b5a8e>\u001b[0m in \u001b[0;36m<cell line: 1>\u001b[0;34m()\u001b[0m\n\u001b[0;32m----> 1\u001b[0;31m \u001b[0mprint\u001b[0m\u001b[0;34m(\u001b[0m\u001b[0mpdf_text\u001b[0m\u001b[0;34m[\u001b[0m\u001b[0;36m2\u001b[0m\u001b[0;34m]\u001b[0m\u001b[0;34m)\u001b[0m\u001b[0;34m\u001b[0m\u001b[0;34m\u001b[0m\u001b[0m\n\u001b[0m",
            "\u001b[0;31mIndexError\u001b[0m: list index out of range"
          ]
        }
      ]
    },
    {
      "cell_type": "markdown",
      "source": [
        "## **Next up: Regular Expressions**"
      ],
      "metadata": {
        "id": "ZKMOjsApVC48"
      }
    },
    {
      "cell_type": "markdown",
      "source": [
        "Regular Expressions (sometimes called regex for short) allow a user to search for strings using almost any sort of rule they can come up with. For example, finding all capital letters in a string, or finding a phone number in a document.\n",
        "\n",
        "Regular expressions are notorious for their seemingly strange syntax. This strange syntax is a byproduct of their flexibility. Regular expressions have to be able to filter out any string pattern you can imagine, which is why they have a complex string pattern format.\n",
        "\n",
        "Regular expressions are handled using Python's built-in re library. See the docs for more information."
      ],
      "metadata": {
        "id": "gPxQo3olbQx4"
      }
    },
    {
      "cell_type": "markdown",
      "source": [
        "Let's begin by explaining how to search for basic patterns in a string!"
      ],
      "metadata": {
        "id": "ovOIxSrEbTe0"
      }
    },
    {
      "cell_type": "markdown",
      "source": [
        "Searching for Basic Patterns\n",
        "\n",
        "\n",
        "Let's imagine that we have the following string:"
      ],
      "metadata": {
        "id": "K1qwLo3obVhP"
      }
    },
    {
      "cell_type": "code",
      "source": [
        "text = \"The agent's phone number is 408-555-1234. Call soon!\""
      ],
      "metadata": {
        "id": "jj2e-rThbQSd"
      },
      "execution_count": 150,
      "outputs": []
    },
    {
      "cell_type": "markdown",
      "source": [
        "We'll start off by trying to find out if the string \"phone\" is inside the text string. Now we could quickly do this with:\n",
        "\n",
        "\n",
        "But let's show the format for regular expressions, because later on we will be searching for patterns that won't have such a simple solution.\n",
        "\n"
      ],
      "metadata": {
        "id": "8scAA9LDbrRr"
      }
    },
    {
      "cell_type": "markdown",
      "source": [],
      "metadata": {
        "id": "fwQ04TKnbrMF"
      }
    },
    {
      "cell_type": "code",
      "source": [
        "'phone' in text"
      ],
      "metadata": {
        "colab": {
          "base_uri": "https://localhost:8080/"
        },
        "id": "GN6t3JM0VI1G",
        "outputId": "ce9c8d00-ccca-4637-d06b-6c26223e209a"
      },
      "execution_count": 151,
      "outputs": [
        {
          "output_type": "execute_result",
          "data": {
            "text/plain": [
              "True"
            ]
          },
          "metadata": {},
          "execution_count": 151
        }
      ]
    },
    {
      "cell_type": "code",
      "source": [
        "\"Phone\" in text"
      ],
      "metadata": {
        "colab": {
          "base_uri": "https://localhost:8080/"
        },
        "id": "BKeOe5gWbjyT",
        "outputId": "5591fc58-321c-4947-8675-d96d86528eaf"
      },
      "execution_count": 152,
      "outputs": [
        {
          "output_type": "execute_result",
          "data": {
            "text/plain": [
              "False"
            ]
          },
          "metadata": {},
          "execution_count": 152
        }
      ]
    },
    {
      "cell_type": "code",
      "source": [
        "import re"
      ],
      "metadata": {
        "id": "wuEI-uRFbm6u"
      },
      "execution_count": 153,
      "outputs": []
    },
    {
      "cell_type": "code",
      "source": [
        "pattern = 'phone'"
      ],
      "metadata": {
        "id": "FJIdwSACboRa"
      },
      "execution_count": 154,
      "outputs": []
    },
    {
      "cell_type": "code",
      "source": [
        "re.search(pattern,text)"
      ],
      "metadata": {
        "colab": {
          "base_uri": "https://localhost:8080/"
        },
        "id": "lVouo3ZLbyFZ",
        "outputId": "1fef6a8c-f3d5-4403-d234-6f4086f88217"
      },
      "execution_count": 155,
      "outputs": [
        {
          "output_type": "execute_result",
          "data": {
            "text/plain": [
              "<re.Match object; span=(12, 17), match='phone'>"
            ]
          },
          "metadata": {},
          "execution_count": 155
        }
      ]
    },
    {
      "cell_type": "code",
      "source": [
        "pattern=\"NOT IN TEXT\""
      ],
      "metadata": {
        "id": "Ajht3VpGb0bs"
      },
      "execution_count": 156,
      "outputs": []
    },
    {
      "cell_type": "code",
      "source": [
        "re.search(pattern,text)"
      ],
      "metadata": {
        "id": "KUvaNwh0b3TE"
      },
      "execution_count": 157,
      "outputs": []
    },
    {
      "cell_type": "markdown",
      "source": [
        "Now we've seen that re.search() will take the pattern, scan the text, and then returns a Match object. If no pattern is found, a None is returned (in Jupyter Notebook this just means that nothing is output below the cell).\n",
        "\n",
        "Let's take a closer look at this Match object."
      ],
      "metadata": {
        "id": "RgPst3fpcCFM"
      }
    },
    {
      "cell_type": "code",
      "source": [
        "pattern = 'phone'"
      ],
      "metadata": {
        "id": "02qjdsvFb6qL"
      },
      "execution_count": 158,
      "outputs": []
    },
    {
      "cell_type": "code",
      "source": [
        "match=re.search(pattern,text)"
      ],
      "metadata": {
        "id": "ZOu2pfoycEVM"
      },
      "execution_count": 159,
      "outputs": []
    },
    {
      "cell_type": "code",
      "source": [
        "match"
      ],
      "metadata": {
        "colab": {
          "base_uri": "https://localhost:8080/"
        },
        "id": "ghMfJIXjcHy0",
        "outputId": "d8007349-4e25-4b09-b215-a55cd214f651"
      },
      "execution_count": 160,
      "outputs": [
        {
          "output_type": "execute_result",
          "data": {
            "text/plain": [
              "<re.Match object; span=(12, 17), match='phone'>"
            ]
          },
          "metadata": {},
          "execution_count": 160
        }
      ]
    },
    {
      "cell_type": "code",
      "source": [
        "match.span()"
      ],
      "metadata": {
        "colab": {
          "base_uri": "https://localhost:8080/"
        },
        "id": "qFszP49wcI6G",
        "outputId": "5c8e8b68-ff09-4fd2-8887-09c4bddb3234"
      },
      "execution_count": 161,
      "outputs": [
        {
          "output_type": "execute_result",
          "data": {
            "text/plain": [
              "(12, 17)"
            ]
          },
          "metadata": {},
          "execution_count": 161
        }
      ]
    },
    {
      "cell_type": "code",
      "source": [
        "match.start()"
      ],
      "metadata": {
        "colab": {
          "base_uri": "https://localhost:8080/"
        },
        "id": "phk9aemMcNJ9",
        "outputId": "8b4c0807-990f-4df8-b824-7069200bcbe0"
      },
      "execution_count": 162,
      "outputs": [
        {
          "output_type": "execute_result",
          "data": {
            "text/plain": [
              "12"
            ]
          },
          "metadata": {},
          "execution_count": 162
        }
      ]
    },
    {
      "cell_type": "code",
      "source": [
        "match.end()"
      ],
      "metadata": {
        "colab": {
          "base_uri": "https://localhost:8080/"
        },
        "id": "UrEW69cScOkW",
        "outputId": "c4a03528-4a35-49bb-e598-7ef87bdc9b1f"
      },
      "execution_count": 163,
      "outputs": [
        {
          "output_type": "execute_result",
          "data": {
            "text/plain": [
              "17"
            ]
          },
          "metadata": {},
          "execution_count": 163
        }
      ]
    },
    {
      "cell_type": "code",
      "source": [
        "#but what if more than once occurs"
      ],
      "metadata": {
        "id": "aeSY5n2OcQoc"
      },
      "execution_count": 164,
      "outputs": []
    },
    {
      "cell_type": "code",
      "source": [
        "text = \"my phone is a new phone\""
      ],
      "metadata": {
        "id": "0nKEAJR1cVe4"
      },
      "execution_count": 165,
      "outputs": []
    },
    {
      "cell_type": "code",
      "source": [
        "match=re.search(\"phone\",text)"
      ],
      "metadata": {
        "id": "VyOae-NTcY1L"
      },
      "execution_count": 166,
      "outputs": []
    },
    {
      "cell_type": "code",
      "source": [
        "match.span()"
      ],
      "metadata": {
        "colab": {
          "base_uri": "https://localhost:8080/"
        },
        "id": "C9mz3cPsccv_",
        "outputId": "b2083668-d418-4cb4-e434-1012be899eaf"
      },
      "execution_count": 167,
      "outputs": [
        {
          "output_type": "execute_result",
          "data": {
            "text/plain": [
              "(3, 8)"
            ]
          },
          "metadata": {},
          "execution_count": 167
        }
      ]
    },
    {
      "cell_type": "code",
      "source": [
        "matches=re.findall(\"phone\",text)"
      ],
      "metadata": {
        "id": "iSNiDwawcfGC"
      },
      "execution_count": 169,
      "outputs": []
    },
    {
      "cell_type": "code",
      "source": [
        "matches"
      ],
      "metadata": {
        "colab": {
          "base_uri": "https://localhost:8080/"
        },
        "id": "qzPAN696ci4K",
        "outputId": "205d6310-a280-436f-f1b0-5cd60353ac07"
      },
      "execution_count": 170,
      "outputs": [
        {
          "output_type": "execute_result",
          "data": {
            "text/plain": [
              "['phone', 'phone']"
            ]
          },
          "metadata": {},
          "execution_count": 170
        }
      ]
    },
    {
      "cell_type": "code",
      "source": [
        "len(matches)"
      ],
      "metadata": {
        "colab": {
          "base_uri": "https://localhost:8080/"
        },
        "id": "xTvHhWtqcock",
        "outputId": "8d1ed71d-9171-4f85-9277-3b7a80b13018"
      },
      "execution_count": 171,
      "outputs": [
        {
          "output_type": "execute_result",
          "data": {
            "text/plain": [
              "2"
            ]
          },
          "metadata": {},
          "execution_count": 171
        }
      ]
    },
    {
      "cell_type": "code",
      "source": [
        "for match in re.finditer (\"phone\",text):\n",
        "  print(match.span())"
      ],
      "metadata": {
        "colab": {
          "base_uri": "https://localhost:8080/"
        },
        "id": "nSZScTdicqZV",
        "outputId": "b84c2efa-91bf-43d9-9d7c-132120bf2384"
      },
      "execution_count": 174,
      "outputs": [
        {
          "output_type": "stream",
          "name": "stdout",
          "text": [
            "(3, 8)\n",
            "(18, 23)\n"
          ]
        }
      ]
    },
    {
      "cell_type": "code",
      "source": [
        "match.group()"
      ],
      "metadata": {
        "colab": {
          "base_uri": "https://localhost:8080/",
          "height": 36
        },
        "id": "GOGIM--scziW",
        "outputId": "f7a4b2da-02f2-4f82-b267-3a03d29443a9"
      },
      "execution_count": 175,
      "outputs": [
        {
          "output_type": "execute_result",
          "data": {
            "text/plain": [
              "'phone'"
            ],
            "application/vnd.google.colaboratory.intrinsic+json": {
              "type": "string"
            }
          },
          "metadata": {},
          "execution_count": 175
        }
      ]
    },
    {
      "cell_type": "markdown",
      "source": [
        "## **Patterns**\n",
        "So far we've learned how to search for a basic string. What about more complex examples? Such as trying to find a telephone number in a large string of text? Or an email address?\n",
        "\n",
        "We could just use search method if we know the exact phone or email, but what if we don't know it? We may know the general format, and we can use that along with regular expressions to search the document for strings that match a particular pattern.\n",
        "\n",
        "This is where the syntax may appear strange at first, but take your time with this; often it's just a matter of looking up the pattern code.\n",
        "\n",
        "Let's begin!"
      ],
      "metadata": {
        "id": "R-yXaRNlc8q5"
      }
    },
    {
      "cell_type": "markdown",
      "source": [
        "# Identifiers for Characters in Patterns\n",
        "Characters such as a digit or a single string have different codes that represent them. You can use these to build up a pattern string. Notice how these make heavy use of the backwards slash \\ . Because of this when defining a pattern string for regular expression we use the format:\n",
        "\n",
        "r'mypattern'\n",
        "placing the r in front of the string allows python to understand that the \\ in the pattern string are not meant to be escape slashes.\n",
        "\n",
        "Below you can find a table of all the possible identifiers:\n",
        "\n",
        "\n",
        "For example:"
      ],
      "metadata": {
        "id": "Rny7UvEBc__H"
      }
    },
    {
      "cell_type": "markdown",
      "source": [
        "<table ><tr><th>Character</th><th>Description</th><th>Example Pattern Code</th><th >Exammple Match</th></tr>\n",
        "\n",
        "<tr ><td><span >\\d</span></td><td>A digit</td><td>file_\\d\\d</td><td>file_25</td></tr>\n",
        "\n",
        "<tr ><td><span >\\w</span></td><td>Alphanumeric</td><td>\\w-\\w\\w\\w</td><td>A-b_1</td></tr>\n",
        "\n",
        "\n",
        "\n",
        "<tr ><td><span >\\s</span></td><td>White space</td><td>a\\sb\\sc</td><td>a b c</td></tr>\n",
        "\n",
        "\n",
        "\n",
        "<tr ><td><span >\\D</span></td><td>A non digit</td><td>\\D\\D\\D</td><td>ABC</td></tr>\n",
        "\n",
        "<tr ><td><span >\\W</span></td><td>Non-alphanumeric</td><td>\\W\\W\\W\\W\\W</td><td>*-+=)</td></tr>\n",
        "\n",
        "<tr ><td><span >\\S</span></td><td>Non-whitespace</td><td>\\S\\S\\S\\S</td><td>Yoyo</td></tr></table>"
      ],
      "metadata": {
        "id": "dv9ZurUAdJ3L"
      }
    },
    {
      "cell_type": "code",
      "source": [
        "text = \"My telephone number is 408-555-1234\""
      ],
      "metadata": {
        "id": "aRxOTU_Oc6RE"
      },
      "execution_count": 176,
      "outputs": []
    },
    {
      "cell_type": "code",
      "source": [
        "phone=re.search(r'\\d\\d\\d-\\d\\d\\d-\\d\\d\\d\\d',text)"
      ],
      "metadata": {
        "id": "sOLoukvLddgI"
      },
      "execution_count": 178,
      "outputs": []
    },
    {
      "cell_type": "code",
      "source": [
        "phone.group()"
      ],
      "metadata": {
        "colab": {
          "base_uri": "https://localhost:8080/",
          "height": 36
        },
        "id": "1ZXCThypdlcF",
        "outputId": "2f9ea0f4-07ce-46eb-b660-e98360c51176"
      },
      "execution_count": 179,
      "outputs": [
        {
          "output_type": "execute_result",
          "data": {
            "text/plain": [
              "'408-555-1234'"
            ],
            "application/vnd.google.colaboratory.intrinsic+json": {
              "type": "string"
            }
          },
          "metadata": {},
          "execution_count": 179
        }
      ]
    },
    {
      "cell_type": "markdown",
      "source": [
        "Notice the repetition of \\d. That is a bit of an annoyance, especially if we are looking for very long strings of numbers. Let's explore the possible quantifiers.\n",
        "\n",
        "## **Quantifiers**\n",
        "Now that we know the special character designations, we can use them along with quantifiers to define how many we expect."
      ],
      "metadata": {
        "id": "b0itSOOpdso5"
      }
    },
    {
      "cell_type": "markdown",
      "source": [
        "<table ><tr><th>Character</th><th>Description</th><th>Example Pattern Code</th><th >Exammple Match</th></tr>\n",
        "\n",
        "<tr ><td><span >+</span></td><td>Occurs one or more times</td><td>\tVersion \\w-\\w+</td><td>Version A-b1_1</td></tr>\n",
        "\n",
        "<tr ><td><span >{3}</span></td><td>Occurs exactly 3 times</td><td>\\D{3}</td><td>abc</td></tr>\n",
        "\n",
        "\n",
        "\n",
        "<tr ><td><span >{2,4}</span></td><td>Occurs 2 to 4 times</td><td>\\d{2,4}</td><td>123</td></tr>\n",
        "\n",
        "\n",
        "\n",
        "<tr ><td><span >{3,}</span></td><td>Occurs 3 or more</td><td>\\w{3,}</td><td>anycharacters</td></tr>\n",
        "\n",
        "<tr ><td><span >\\*</span></td><td>Occurs zero or more times</td><td>A\\*B\\*C*</td><td>AAACC</td></tr>\n",
        "\n",
        "<tr ><td><span >?</span></td><td>Once or none</td><td>plurals?</td><td>plural</td></tr></table>"
      ],
      "metadata": {
        "id": "dn2DDJE0dv4q"
      }
    },
    {
      "cell_type": "markdown",
      "source": [
        "Let's rewrite our pattern using these quantifiers:"
      ],
      "metadata": {
        "id": "EI0H4HhkdyN6"
      }
    },
    {
      "cell_type": "code",
      "source": [
        "re.search(r'\\d{3}-\\d{3}-\\d{4}',text)"
      ],
      "metadata": {
        "colab": {
          "base_uri": "https://localhost:8080/"
        },
        "id": "giU-6ylgdp9Z",
        "outputId": "1791aa0a-50cc-478f-a5a7-7cf567d70ac2"
      },
      "execution_count": 180,
      "outputs": [
        {
          "output_type": "execute_result",
          "data": {
            "text/plain": [
              "<re.Match object; span=(23, 35), match='408-555-1234'>"
            ]
          },
          "metadata": {},
          "execution_count": 180
        }
      ]
    },
    {
      "cell_type": "markdown",
      "source": [
        "# Groups\n",
        "What if we wanted to do two tasks, find phone numbers, but also be able to quickly extract their area code (the first three digits). We can use groups for any general task that involves grouping together regular expressions (so that we can later break them down).\n",
        "\n",
        "Using the phone number example, we can separate groups of regular expressions using parentheses:"
      ],
      "metadata": {
        "id": "I8uEpstId23i"
      }
    },
    {
      "cell_type": "code",
      "source": [
        "phone_pattern=re.compile(r\"(\\d{3})-(\\d{3})-(\\d{4})\")"
      ],
      "metadata": {
        "id": "q8oD5DULd0HU"
      },
      "execution_count": 181,
      "outputs": []
    },
    {
      "cell_type": "code",
      "source": [
        "results=re.search(phone_pattern,text)"
      ],
      "metadata": {
        "id": "OkI6_fTqeJjo"
      },
      "execution_count": 182,
      "outputs": []
    },
    {
      "cell_type": "code",
      "source": [
        "results.group()"
      ],
      "metadata": {
        "colab": {
          "base_uri": "https://localhost:8080/",
          "height": 36
        },
        "id": "P3VWsByGeOJ0",
        "outputId": "b9b712d7-9beb-4f50-b302-a276a811a47f"
      },
      "execution_count": 183,
      "outputs": [
        {
          "output_type": "execute_result",
          "data": {
            "text/plain": [
              "'408-555-1234'"
            ],
            "application/vnd.google.colaboratory.intrinsic+json": {
              "type": "string"
            }
          },
          "metadata": {},
          "execution_count": 183
        }
      ]
    },
    {
      "cell_type": "code",
      "source": [
        "results.group(1)"
      ],
      "metadata": {
        "colab": {
          "base_uri": "https://localhost:8080/",
          "height": 36
        },
        "id": "M9XdgoBUeQBB",
        "outputId": "051313a3-5044-481c-8779-a63bd81ef47f"
      },
      "execution_count": 185,
      "outputs": [
        {
          "output_type": "execute_result",
          "data": {
            "text/plain": [
              "'408'"
            ],
            "application/vnd.google.colaboratory.intrinsic+json": {
              "type": "string"
            }
          },
          "metadata": {},
          "execution_count": 185
        }
      ]
    },
    {
      "cell_type": "code",
      "source": [
        "results.group(2)"
      ],
      "metadata": {
        "colab": {
          "base_uri": "https://localhost:8080/",
          "height": 36
        },
        "id": "4EP1g_aTeR30",
        "outputId": "7f5961d4-0c6b-48da-aa3a-f69b4e867a4b"
      },
      "execution_count": 186,
      "outputs": [
        {
          "output_type": "execute_result",
          "data": {
            "text/plain": [
              "'555'"
            ],
            "application/vnd.google.colaboratory.intrinsic+json": {
              "type": "string"
            }
          },
          "metadata": {},
          "execution_count": 186
        }
      ]
    },
    {
      "cell_type": "code",
      "source": [
        "results.group(3)"
      ],
      "metadata": {
        "colab": {
          "base_uri": "https://localhost:8080/",
          "height": 36
        },
        "id": "e7nRgbKPeWbi",
        "outputId": "07089205-b99e-4aad-c5f8-b6b578b5e0b7"
      },
      "execution_count": 187,
      "outputs": [
        {
          "output_type": "execute_result",
          "data": {
            "text/plain": [
              "'1234'"
            ],
            "application/vnd.google.colaboratory.intrinsic+json": {
              "type": "string"
            }
          },
          "metadata": {},
          "execution_count": 187
        }
      ]
    },
    {
      "cell_type": "markdown",
      "source": [
        "## Additional Regex **Syntax**"
      ],
      "metadata": {
        "id": "Tvq9UnqIebrz"
      }
    },
    {
      "cell_type": "markdown",
      "source": [
        "Or operator |\n",
        "Use the pipe operator to have an **or **statment. For example"
      ],
      "metadata": {
        "id": "MosZuCXKeeRK"
      }
    },
    {
      "cell_type": "code",
      "source": [
        "re.search(r\"man|woman\", \"this woman was here.\")"
      ],
      "metadata": {
        "colab": {
          "base_uri": "https://localhost:8080/"
        },
        "id": "Mrch-h51eX5v",
        "outputId": "2ec4e2ce-7580-4d67-f441-589b1975096f"
      },
      "execution_count": 189,
      "outputs": [
        {
          "output_type": "execute_result",
          "data": {
            "text/plain": [
              "<re.Match object; span=(5, 10), match='woman'>"
            ]
          },
          "metadata": {},
          "execution_count": 189
        }
      ]
    },
    {
      "cell_type": "markdown",
      "source": [
        "## **The Wildcard Character**\n",
        "Use a \"wildcard\" as a placement that will match any character placed there. You can use a simple period . for this. For example:"
      ],
      "metadata": {
        "id": "h_cSqnEme3XR"
      }
    },
    {
      "cell_type": "code",
      "source": [
        "re.findall(r\".at\",\"the cat in the hat sat here\")"
      ],
      "metadata": {
        "colab": {
          "base_uri": "https://localhost:8080/"
        },
        "id": "uwZqaR4Uenl3",
        "outputId": "bebf215c-c57c-4bc8-d42e-8b976fcc6306"
      },
      "execution_count": 190,
      "outputs": [
        {
          "output_type": "execute_result",
          "data": {
            "text/plain": [
              "['cat', 'hat', 'sat']"
            ]
          },
          "metadata": {},
          "execution_count": 190
        }
      ]
    },
    {
      "cell_type": "code",
      "source": [
        "re.findall(r\".at\",\"the bat went splat\")"
      ],
      "metadata": {
        "colab": {
          "base_uri": "https://localhost:8080/"
        },
        "id": "U_koOLagfE_6",
        "outputId": "06d3b79a-0e94-461d-c973-1754c0b69564"
      },
      "execution_count": 194,
      "outputs": [
        {
          "output_type": "execute_result",
          "data": {
            "text/plain": [
              "['bat', 'lat']"
            ]
          },
          "metadata": {},
          "execution_count": 194
        }
      ]
    },
    {
      "cell_type": "markdown",
      "source": [
        "Notice how we only matched the first 3 letters, that is because we need a . for each wildcard letter. Or use the quantifiers described above to set its own rules.\n",
        "\n",
        "\n",
        "However this still leads the problem to grabbing more beforehand. Really we only want words that end with \"at\"."
      ],
      "metadata": {
        "id": "sWPam7zcfR-T"
      }
    },
    {
      "cell_type": "code",
      "source": [
        "re.findall(r'\\S+at',\"the bat went splat\")"
      ],
      "metadata": {
        "colab": {
          "base_uri": "https://localhost:8080/"
        },
        "id": "G3dcRrbEfLe_",
        "outputId": "a87f59d9-3cbf-4811-c1af-41a24391a944"
      },
      "execution_count": 195,
      "outputs": [
        {
          "output_type": "execute_result",
          "data": {
            "text/plain": [
              "['bat', 'splat']"
            ]
          },
          "metadata": {},
          "execution_count": 195
        }
      ]
    },
    {
      "cell_type": "markdown",
      "source": [
        "## **Starts With and Ends With**\n",
        "We can use the ^ to signal starts with, and the $ to signal ends with:"
      ],
      "metadata": {
        "id": "OvxsSnDif1wy"
      }
    },
    {
      "cell_type": "code",
      "source": [
        "#ends with a number"
      ],
      "metadata": {
        "id": "AGFbGerLfjX0"
      },
      "execution_count": 196,
      "outputs": []
    },
    {
      "cell_type": "code",
      "source": [
        "re.findall(r\"\\d$\",\"This ends with a number 2\")"
      ],
      "metadata": {
        "colab": {
          "base_uri": "https://localhost:8080/"
        },
        "id": "2dtKPg0tf6lc",
        "outputId": "327a2f06-f9f5-473d-84e2-125e61ddf6ac"
      },
      "execution_count": 197,
      "outputs": [
        {
          "output_type": "execute_result",
          "data": {
            "text/plain": [
              "['2']"
            ]
          },
          "metadata": {},
          "execution_count": 197
        }
      ]
    },
    {
      "cell_type": "code",
      "source": [
        "re.findall(r\"^\\d\",\"1 is a non lonliest number \")"
      ],
      "metadata": {
        "colab": {
          "base_uri": "https://localhost:8080/"
        },
        "id": "YMPSrmfegBMn",
        "outputId": "b1f3a681-63f9-4191-ad30-5d2895a43774"
      },
      "execution_count": 198,
      "outputs": [
        {
          "output_type": "execute_result",
          "data": {
            "text/plain": [
              "['1']"
            ]
          },
          "metadata": {},
          "execution_count": 198
        }
      ]
    },
    {
      "cell_type": "markdown",
      "source": [
        "Note that this is for the entire string, not individual words!"
      ],
      "metadata": {
        "id": "p3mxOLImgUt0"
      }
    },
    {
      "cell_type": "markdown",
      "source": [
        "### Exclusion\n",
        "\n",
        "To exclude characters, we can use the **^** symbol in conjunction with a set of brackets **[]**. Anything inside the brackets is excluded. For example:"
      ],
      "metadata": {
        "id": "Bv5nJQkOgWvb"
      }
    },
    {
      "cell_type": "code",
      "source": [
        "phrase = \"there are 3 numbers 34 inside 5 this sentence.\""
      ],
      "metadata": {
        "id": "FVx4lq7cgRtY"
      },
      "execution_count": 199,
      "outputs": []
    },
    {
      "cell_type": "code",
      "source": [
        "re.findall(r'[^\\d]',phrase) #finds all non digits in the text using [^\\]"
      ],
      "metadata": {
        "colab": {
          "base_uri": "https://localhost:8080/"
        },
        "id": "ANLQIUo7gZCO",
        "outputId": "f8eee787-1ef8-47ec-f829-30d3e4183a13"
      },
      "execution_count": 208,
      "outputs": [
        {
          "output_type": "execute_result",
          "data": {
            "text/plain": [
              "['t',\n",
              " 'h',\n",
              " 'e',\n",
              " 'r',\n",
              " 'e',\n",
              " ' ',\n",
              " 'a',\n",
              " 'r',\n",
              " 'e',\n",
              " ' ',\n",
              " ' ',\n",
              " 'n',\n",
              " 'u',\n",
              " 'm',\n",
              " 'b',\n",
              " 'e',\n",
              " 'r',\n",
              " 's',\n",
              " ' ',\n",
              " ' ',\n",
              " 'i',\n",
              " 'n',\n",
              " 's',\n",
              " 'i',\n",
              " 'd',\n",
              " 'e',\n",
              " ' ',\n",
              " ' ',\n",
              " 't',\n",
              " 'h',\n",
              " 'i',\n",
              " 's',\n",
              " ' ',\n",
              " 's',\n",
              " 'e',\n",
              " 'n',\n",
              " 't',\n",
              " 'e',\n",
              " 'n',\n",
              " 'c',\n",
              " 'e',\n",
              " '.']"
            ]
          },
          "metadata": {},
          "execution_count": 208
        }
      ]
    },
    {
      "cell_type": "code",
      "source": [
        "re.findall(r\"[\\d]+\",phrase)"
      ],
      "metadata": {
        "colab": {
          "base_uri": "https://localhost:8080/"
        },
        "id": "AOIIN5EBghOT",
        "outputId": "6192febc-f32c-49b4-c428-250f33990a3f"
      },
      "execution_count": 203,
      "outputs": [
        {
          "output_type": "execute_result",
          "data": {
            "text/plain": [
              "['3', '34', '5']"
            ]
          },
          "metadata": {},
          "execution_count": 203
        }
      ]
    },
    {
      "cell_type": "code",
      "source": [
        "re.findall(r\"[^\\d]+\",phrase)"
      ],
      "metadata": {
        "colab": {
          "base_uri": "https://localhost:8080/"
        },
        "id": "D4P-DfXrg2xR",
        "outputId": "a1d1d33e-a05e-4098-a9a3-7588fdbaa3e2"
      },
      "execution_count": 204,
      "outputs": [
        {
          "output_type": "execute_result",
          "data": {
            "text/plain": [
              "['there are ', ' numbers ', ' inside ', ' this sentence.']"
            ]
          },
          "metadata": {},
          "execution_count": 204
        }
      ]
    },
    {
      "cell_type": "code",
      "source": [
        "test_phrase = 'This is a string! But it has punctuation. How can we remove it?'"
      ],
      "metadata": {
        "id": "U0bMRKyJg9rd"
      },
      "execution_count": 205,
      "outputs": []
    },
    {
      "cell_type": "code",
      "source": [
        "re.findall('[^!.?]+',test_phrase)"
      ],
      "metadata": {
        "colab": {
          "base_uri": "https://localhost:8080/"
        },
        "id": "P-cL1NQShAza",
        "outputId": "80db4be1-5eb7-4cf7-eff5-b6036c47648b"
      },
      "execution_count": 206,
      "outputs": [
        {
          "output_type": "execute_result",
          "data": {
            "text/plain": [
              "['This is a string', ' But it has punctuation', ' How can we remove it']"
            ]
          },
          "metadata": {},
          "execution_count": 206
        }
      ]
    },
    {
      "cell_type": "code",
      "source": [
        "clean=' '.join(re.findall('[^?.!]+',test_phrase))"
      ],
      "metadata": {
        "id": "0_uKD8uNhM7N"
      },
      "execution_count": 209,
      "outputs": []
    },
    {
      "cell_type": "code",
      "source": [
        "clean"
      ],
      "metadata": {
        "colab": {
          "base_uri": "https://localhost:8080/",
          "height": 36
        },
        "id": "Wz3aESgQhmPW",
        "outputId": "0c0186c4-bb7a-4a85-de85-a0b5770007a7"
      },
      "execution_count": 210,
      "outputs": [
        {
          "output_type": "execute_result",
          "data": {
            "text/plain": [
              "'This is a string  But it has punctuation  How can we remove it'"
            ],
            "application/vnd.google.colaboratory.intrinsic+json": {
              "type": "string"
            }
          },
          "metadata": {},
          "execution_count": 210
        }
      ]
    },
    {
      "cell_type": "markdown",
      "source": [
        "## Brackets for Grouping\n",
        "\n",
        "As we showed above we can use brackets to group together options, for example if we wanted to find hyphenated words:"
      ],
      "metadata": {
        "id": "4xNswApPhr2U"
      }
    },
    {
      "cell_type": "code",
      "source": [
        "text = 'Only find the hypen-words in this sentence. But you do not know how long-ish they are'"
      ],
      "metadata": {
        "id": "UmpwA4LUhnR8"
      },
      "execution_count": 211,
      "outputs": []
    },
    {
      "cell_type": "code",
      "source": [
        "re.findall(r'[\\w]+-[\\w]+',text)"
      ],
      "metadata": {
        "colab": {
          "base_uri": "https://localhost:8080/"
        },
        "id": "ZGtCeFX3htra",
        "outputId": "85998cc5-3af3-4e7c-cabb-e1fccd8bee74"
      },
      "execution_count": 212,
      "outputs": [
        {
          "output_type": "execute_result",
          "data": {
            "text/plain": [
              "['hypen-words', 'long-ish']"
            ]
          },
          "metadata": {},
          "execution_count": 212
        }
      ]
    },
    {
      "cell_type": "markdown",
      "source": [
        "## **Parentheses for Multiple Options**\n",
        "If we have multiple options for matching, we can use parentheses to list out these options. For Example:"
      ],
      "metadata": {
        "id": "lNfXIqhEh7U6"
      }
    },
    {
      "cell_type": "code",
      "source": [
        "# Find words that start with cat and end with one of these options: 'fish','nap', or 'claw'\n",
        "text = 'Hello, would you like some catfish?'\n",
        "texttwo = \"Hello, would you like to take a catnap?\"\n",
        "textthree = \"Hello, have you seen this caterpillar?\""
      ],
      "metadata": {
        "id": "MOW1XQGrh4it"
      },
      "execution_count": 213,
      "outputs": []
    },
    {
      "cell_type": "code",
      "source": [
        "re.search(r'cat(fish|claw|nap)',text)"
      ],
      "metadata": {
        "colab": {
          "base_uri": "https://localhost:8080/"
        },
        "id": "uy7Z-eoAh_Ns",
        "outputId": "8d97db4c-f419-4a90-f926-63f9de171090"
      },
      "execution_count": 214,
      "outputs": [
        {
          "output_type": "execute_result",
          "data": {
            "text/plain": [
              "<re.Match object; span=(27, 34), match='catfish'>"
            ]
          },
          "metadata": {},
          "execution_count": 214
        }
      ]
    },
    {
      "cell_type": "code",
      "source": [
        "re.search(r'cat(fish|nap|claw)',texttwo)"
      ],
      "metadata": {
        "colab": {
          "base_uri": "https://localhost:8080/"
        },
        "id": "52gWIND9iMAJ",
        "outputId": "95cad23d-ba16-4f71-8d5d-374c1f2bad18"
      },
      "execution_count": 215,
      "outputs": [
        {
          "output_type": "execute_result",
          "data": {
            "text/plain": [
              "<re.Match object; span=(32, 38), match='catnap'>"
            ]
          },
          "metadata": {},
          "execution_count": 215
        }
      ]
    },
    {
      "cell_type": "code",
      "source": [
        "# None returned\n",
        "re.search(r'cat(fish|nap|claw)',textthree)"
      ],
      "metadata": {
        "id": "t2BadVfHiUHM"
      },
      "execution_count": 216,
      "outputs": []
    },
    {
      "cell_type": "markdown",
      "source": [
        "Conclusion\n",
        "Excellent work! For full information on all possible patterns, check out: https://docs.python.org/3/howto/regex.html"
      ],
      "metadata": {
        "id": "0-c9pIk_iY_8"
      }
    },
    {
      "cell_type": "markdown",
      "source": [
        "Python Text Basics Assessment"
      ],
      "metadata": {
        "id": "XYy_SNLWidi1"
      }
    },
    {
      "cell_type": "markdown",
      "source": [
        "# Python Text Basics Assessment\n",
        "\n",
        "Welcome to your assessment! Complete the tasks described in bold below by typing the relevant code in the cells.<br>\n",
        "You can compare your answers to the Solutions notebook provided in this folder."
      ],
      "metadata": {
        "id": "bDfQ3WfSo3iJ"
      }
    },
    {
      "cell_type": "markdown",
      "source": [
        "## f-Strings\n",
        "#### 1. Print an f-string that displays `NLP stands for Natural Language Processing` using the variables provided."
      ],
      "metadata": {
        "id": "EDDweJebo522"
      }
    },
    {
      "cell_type": "code",
      "source": [
        "abbr = 'NLP'\n",
        "full_text = 'Natural Language Processing'"
      ],
      "metadata": {
        "id": "6cqO03dyo3a6"
      },
      "execution_count": 218,
      "outputs": []
    },
    {
      "cell_type": "code",
      "source": [
        "print(f'{abbr} stands for {full_text}')"
      ],
      "metadata": {
        "colab": {
          "base_uri": "https://localhost:8080/"
        },
        "id": "bvMrvzsXiWG9",
        "outputId": "510c985e-ef07-496c-c108-e2786ec30b4c"
      },
      "execution_count": 219,
      "outputs": [
        {
          "output_type": "stream",
          "name": "stdout",
          "text": [
            "NLP stands for Natural Language Processing\n"
          ]
        }
      ]
    },
    {
      "cell_type": "markdown",
      "source": [
        "## Files\n",
        "#### 2. Create a file in the current working directory called `contacts.txt` by running the cell below:"
      ],
      "metadata": {
        "id": "lM9FNASspML1"
      }
    },
    {
      "cell_type": "code",
      "source": [
        "%%writefile contacts.txt\n",
        "First_Name Last_Name, Title, Extension, Email\n",
        "gururaja talepalli, Sir , +91, gurutsgrs@gmail.com"
      ],
      "metadata": {
        "colab": {
          "base_uri": "https://localhost:8080/"
        },
        "id": "xawTA8HepHO_",
        "outputId": "a0f0a59e-5449-42c2-eb5e-9cce8647e611"
      },
      "execution_count": 220,
      "outputs": [
        {
          "output_type": "stream",
          "name": "stdout",
          "text": [
            "Writing contacts.txt\n"
          ]
        }
      ]
    },
    {
      "cell_type": "markdown",
      "source": [
        "#### 3. Open the file and use .read() to save the contents of the file to a string called `fields`.  Make sure the file is closed at the end."
      ],
      "metadata": {
        "id": "A-P6UmOApeCA"
      }
    },
    {
      "cell_type": "code",
      "source": [
        "with open('contacts.txt') as f:\n",
        "  fields=f.read()"
      ],
      "metadata": {
        "id": "ZTIriNLvsV2j"
      },
      "execution_count": 233,
      "outputs": []
    },
    {
      "cell_type": "code",
      "source": [
        "# file=open('contacts.txt',mode='r')\n",
        "# fields=file.read()\n",
        "# file.close()"
      ],
      "metadata": {
        "id": "P6Nw8vF7pbEQ"
      },
      "execution_count": 234,
      "outputs": []
    },
    {
      "cell_type": "markdown",
      "source": [
        "## Working with PDF Files\n",
        "#### 4. Use PyPDF2 to open the file `Business_Proposal.pdf`. Extract the text of page 2."
      ],
      "metadata": {
        "id": "QRpU6zOMqfKZ"
      }
    },
    {
      "cell_type": "code",
      "source": [
        "# Perform import\n",
        "import PyPDF2\n",
        "\n",
        "# Open the file as a binary object\n",
        "pdf=open(\"Business_Proposal.pdf\",'rb')\n",
        "\n",
        "# Use PyPDF2 to read the text of the file\n",
        "readings=PyPDF2.PdfReader(pdf)\n",
        "\n",
        "\n",
        "# Get the text from page 2 (CHALLENGE: Do this in one step!)\n",
        "page_two_text = readings.pages[1].extract_text()\n",
        "\n",
        "\n",
        "\n",
        "# Close the file\n",
        "pdf.close()\n",
        "\n",
        "# Print the contents of page_two_text\n",
        "print(page_two_text)"
      ],
      "metadata": {
        "colab": {
          "base_uri": "https://localhost:8080/"
        },
        "id": "Gre3PeYLqGpd",
        "outputId": "aa5028b9-ac2c-4873-8af8-b293e892f41d"
      },
      "execution_count": 240,
      "outputs": [
        {
          "output_type": "stream",
          "name": "stdout",
          "text": [
            "AUTHORS:  \n",
            "Amy Baker, Finance Chair, x345, abaker@ourcompany.com  \n",
            "Chris Donaldson, Accounting Dir., x621, cdonaldson@ourcompany.com  \n",
            "Erin Freeman, Sr. VP, x879, efreeman@ourcompany.com  \n"
          ]
        }
      ]
    },
    {
      "cell_type": "markdown",
      "source": [
        "#### 5. Open the file `contacts.txt` in append mode. Add the text of page 2 from above to `contacts.txt`.\n",
        "\n",
        "#### CHALLENGE: See if you can remove the word \"AUTHORS:\""
      ],
      "metadata": {
        "id": "0xEwlcTktWjF"
      }
    },
    {
      "cell_type": "code",
      "source": [
        "with open('contacts.txt',\"a+\") as f:\n",
        "  f.write(page_two_text)\n",
        "  f.seek(0)\n",
        "  print(f.read())"
      ],
      "metadata": {
        "colab": {
          "base_uri": "https://localhost:8080/"
        },
        "id": "t9r7DQ-gqJxr",
        "outputId": "e6f8f88c-27b6-4bd4-d735-cbb7b5b0bf06"
      },
      "execution_count": 243,
      "outputs": [
        {
          "output_type": "stream",
          "name": "stdout",
          "text": [
            "First_Name Last_Name, Title, Extension, Email\n",
            "gururaja talepalli, Sir , +91, gurutsgrs@gmail.com\n",
            "AUTHORS:  \n",
            "Amy Baker, Finance Chair, x345, abaker@ourcompany.com  \n",
            "Chris Donaldson, Accounting Dir., x621, cdonaldson@ourcompany.com  \n",
            "Erin Freeman, Sr. VP, x879, efreeman@ourcompany.com    \n",
            "Amy Baker, Finance Chair, x345, abaker@ourcompany.com  \n",
            "Chris Donaldson, Accounting Dir., x621, cdonaldson@ourcompany.com  \n",
            "Erin Freeman, Sr. VP, x879, efreeman@ourcompany.com  AUTHORS:  \n",
            "Amy Baker, Finance Chair, x345, abaker@ourcompany.com  \n",
            "Chris Donaldson, Accounting Dir., x621, cdonaldson@ourcompany.com  \n",
            "Erin Freeman, Sr. VP, x879, efreeman@ourcompany.com  \n"
          ]
        }
      ]
    },
    {
      "cell_type": "code",
      "source": [
        "# CHALLENGE Solution (re-run the %%writefile cell above to obtain an unmodified contacts.txt file):\n",
        "\n",
        "with open('contacts.txt','a+') as f:\n",
        "  f.write(page_two_text[8:])\n",
        "  f.seek(0)\n",
        "  print(f.read())\n",
        "\n"
      ],
      "metadata": {
        "colab": {
          "base_uri": "https://localhost:8080/"
        },
        "id": "6e0yanUjtrYm",
        "outputId": "0ec29f19-cca8-4134-8d10-c973707abb56"
      },
      "execution_count": 244,
      "outputs": [
        {
          "output_type": "stream",
          "name": "stdout",
          "text": [
            "First_Name Last_Name, Title, Extension, Email\n",
            "gururaja talepalli, Sir , +91, gurutsgrs@gmail.com\n",
            "AUTHORS:  \n",
            "Amy Baker, Finance Chair, x345, abaker@ourcompany.com  \n",
            "Chris Donaldson, Accounting Dir., x621, cdonaldson@ourcompany.com  \n",
            "Erin Freeman, Sr. VP, x879, efreeman@ourcompany.com    \n",
            "Amy Baker, Finance Chair, x345, abaker@ourcompany.com  \n",
            "Chris Donaldson, Accounting Dir., x621, cdonaldson@ourcompany.com  \n",
            "Erin Freeman, Sr. VP, x879, efreeman@ourcompany.com  AUTHORS:  \n",
            "Amy Baker, Finance Chair, x345, abaker@ourcompany.com  \n",
            "Chris Donaldson, Accounting Dir., x621, cdonaldson@ourcompany.com  \n",
            "Erin Freeman, Sr. VP, x879, efreeman@ourcompany.com    \n",
            "Amy Baker, Finance Chair, x345, abaker@ourcompany.com  \n",
            "Chris Donaldson, Accounting Dir., x621, cdonaldson@ourcompany.com  \n",
            "Erin Freeman, Sr. VP, x879, efreeman@ourcompany.com  \n"
          ]
        }
      ]
    },
    {
      "cell_type": "markdown",
      "source": [
        "## Regular Expressions\n",
        "#### 6. Using the `page_two_text` variable created above, extract any email addresses that were contained in the file `Business_Proposal.pdf`."
      ],
      "metadata": {
        "id": "h-zyYNlHuSiD"
      }
    },
    {
      "cell_type": "code",
      "source": [
        "import re\n"
      ],
      "metadata": {
        "id": "FyHSryBftrTY"
      },
      "execution_count": 245,
      "outputs": []
    },
    {
      "cell_type": "code",
      "source": [
        "pattern= r'\\w+@\\w+.\\w{3}'\n",
        "\n",
        "re.findall(pattern, page_two_text)"
      ],
      "metadata": {
        "colab": {
          "base_uri": "https://localhost:8080/"
        },
        "id": "crfXUa3CtrOG",
        "outputId": "09123e6d-7576-4e6c-c338-524b5c840ca5"
      },
      "execution_count": 250,
      "outputs": [
        {
          "output_type": "execute_result",
          "data": {
            "text/plain": [
              "['abaker@ourcompany.com',\n",
              " 'cdonaldson@ourcompany.com',\n",
              " 'efreeman@ourcompany.com']"
            ]
          },
          "metadata": {},
          "execution_count": 250
        }
      ]
    },
    {
      "cell_type": "markdown",
      "source": [
        "Great Job for the day!"
      ],
      "metadata": {
        "id": "FOflKwtRu20h"
      }
    }
  ]
}